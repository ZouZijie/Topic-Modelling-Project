{
 "cells": [
  {
   "cell_type": "markdown",
   "metadata": {},
   "source": [
    "# 1. Build A LDA Model of 2012 London Olympics"
   ]
  },
  {
   "cell_type": "markdown",
   "metadata": {},
   "source": [
    "## 1.1 Packages Importing"
   ]
  },
  {
   "cell_type": "code",
   "execution_count": 1,
   "metadata": {},
   "outputs": [
    {
     "name": "stderr",
     "output_type": "stream",
     "text": [
      "C:\\Anaconda\\lib\\site-packages\\gensim\\similarities\\__init__.py:15: UserWarning: The gensim.similarities.levenshtein submodule is disabled, because the optional Levenshtein package <https://pypi.org/project/python-Levenshtein/> is unavailable. Install Levenhstein (e.g. `pip install python-Levenshtein`) to suppress this warning.\n",
      "  warnings.warn(msg)\n"
     ]
    },
    {
     "data": {
      "text/html": [
       "<style>.container { width:99% !important; }</style>"
      ],
      "text/plain": [
       "<IPython.core.display.HTML object>"
      ]
     },
     "metadata": {},
     "output_type": "display_data"
    }
   ],
   "source": [
    "import nltk\n",
    "import re\n",
    "from nltk.corpus import stopwords\n",
    "from nltk.tokenize import RegexpTokenizer\n",
    "from nltk.stem.wordnet  import WordNetLemmatizer\n",
    "from nltk import FreqDist\n",
    "import pandas as pd\n",
    "import numpy as py\n",
    "import string\n",
    "from gensim.models import CoherenceModel, LdaModel, LdaMulticore, Phrases, TfidfModel\n",
    "from gensim.corpora import Dictionary\n",
    "from gensim.models.phrases import Phraser\n",
    "# libraries for visualization\n",
    "import matplotlib.pyplot as plt\n",
    "%matplotlib inline\n",
    "import seaborn as sns\n",
    "import plotly.graph_objects as go\n",
    "from IPython.core.interactiveshell import InteractiveShell\n",
    "InteractiveShell.ast_node_interactivity = \"all\"\n",
    "from IPython.core.display import display, HTML\n",
    "display(HTML(\"<style>.container { width:99% !important; }</style>\"))"
   ]
  },
  {
   "cell_type": "markdown",
   "metadata": {},
   "source": [
    "## 1.2 Parameters Setting "
   ]
  },
  {
   "cell_type": "code",
   "execution_count": 2,
   "metadata": {},
   "outputs": [],
   "source": [
    "col = 2                             # Define which columns are used for topic modelling.\n",
    "coherence_type = 'c_v'       # Define coherence type\n",
    "show_coherence_score = False # whether show coherence score\n",
    "min_len = 4                       # Define the short word length\n",
    "no_below =  2                   #a threshold filtering out number of occurrence of the tokens among documents  no larger than 5\n",
    "no_above = 0.9                 #the portion of a word in total corpus size\n",
    "chunksize = 2000              #Number of documents to be used in each training chunk\n",
    "eval_every = None             # Don't evaluate model perplexity, takes too much time.\n",
    "num_topics =  11              #The number of requested latent topics to be extracted from the training corpus.\n",
    "num_passes = 20              #Number of passes through the corpus during training\n",
    "iterations = 100                #Maximum number of iterations through the corpus when inferring the topic distribution of a corpus.\n",
    "alpha = 50.0/num_topics   #expresses our a-priori belief for each topics’ probability\n",
    "#eta = 'auto'     \n",
    "eta =      0.01                  #A-priori belief on word probability\n",
    "random_state  = 54321     #Either a randomState object or a seed to generate one. Useful for reproducibility.\n",
    "lemmatization = 1             #Whether implement corpus lemmatization 2:Lemmatizer (without POS tags) 1:Lemmatizer (with POS tags) 0:no"
   ]
  },
  {
   "cell_type": "markdown",
   "metadata": {},
   "source": [
    "## 1.3 Corpus Reading "
   ]
  },
  {
   "cell_type": "code",
   "execution_count": 3,
   "metadata": {},
   "outputs": [],
   "source": [
    "df = pd.read_csv(\"Olympics-ALL-DOCS.csv\", header = None, error_bad_lines=False)"
   ]
  },
  {
   "cell_type": "code",
   "execution_count": 4,
   "metadata": {
    "scrolled": true
   },
   "outputs": [],
   "source": [
    "docs = []\n",
    "docs = df[col]"
   ]
  },
  {
   "cell_type": "markdown",
   "metadata": {},
   "source": [
    "## 1.4 Data Processing"
   ]
  },
  {
   "cell_type": "code",
   "execution_count": 5,
   "metadata": {},
   "outputs": [
    {
     "name": "stdout",
     "output_type": "stream",
     "text": [
      "Document number: 169\n"
     ]
    }
   ],
   "source": [
    "# function to plot most frequent terms\n",
    "def freq_words(x, terms = 30):\n",
    "    all_words = ' '.join(['%s' %text for text in x])\n",
    "    all_words = all_words.split()\n",
    "    \n",
    "    fdist = FreqDist(all_words)\n",
    "    words_df = pd.DataFrame({'word':list(fdist.keys()), 'count':list(fdist.values())})\n",
    "    \n",
    "    # selecting top 20 most frequent words\n",
    "    d = words_df.nlargest(columns=\"count\", n = terms) \n",
    "    plt.figure(figsize=(20,5))\n",
    "    ax = sns.barplot(data=d, x= \"word\", y = \"count\")\n",
    "    ax.set(ylabel = 'Count')\n",
    "    plt.show()\n",
    "\n",
    "print('Document number: %d'% (len(docs)))\n",
    "#freq_words(df[2],10) "
   ]
  },
  {
   "cell_type": "code",
   "execution_count": 6,
   "metadata": {
    "scrolled": true
   },
   "outputs": [
    {
     "name": "stdout",
     "output_type": "stream",
     "text": [
      "Tokens number: 19221\n"
     ]
    }
   ],
   "source": [
    "#Tokenize the corpus \n",
    "docs=docs.map(lambda x: x.lower())\n",
    "\n",
    "tokenizer = RegexpTokenizer(r'\\w+')\n",
    "for i in range (len(docs)):\n",
    "    docs[i] = tokenizer.tokenize(docs[i])\n",
    "\n",
    "print('Tokens number: %d'% (len(Dictionary(docs))))\n",
    "#freq_words(docs,10) "
   ]
  },
  {
   "cell_type": "code",
   "execution_count": 7,
   "metadata": {},
   "outputs": [
    {
     "name": "stdout",
     "output_type": "stream",
     "text": [
      "Tokens number after removing number: 19221\n"
     ]
    }
   ],
   "source": [
    "#Remove the number\n",
    "docs = [ [token for token in doc if not token.isnumeric()] for doc in docs]\n",
    "\n",
    "print('Tokens number after removing number: %d'% (len(Dictionary(docs))))\n",
    "#freq_words(docs,10) "
   ]
  },
  {
   "cell_type": "code",
   "execution_count": 8,
   "metadata": {
    "scrolled": true
   },
   "outputs": [
    {
     "name": "stdout",
     "output_type": "stream",
     "text": [
      "Tokens number after removing stop words: 18363\n"
     ]
    }
   ],
   "source": [
    "#remove stop words\n",
    "stop_words = stopwords.words('english')\n",
    "stop=[]\n",
    "sw =  open(\"C:/Users/jason/Documents/Exeter University/business project/code/stopwords.txt\",\"r\")\n",
    "for i in sw:\n",
    "    stop.append(i)\n",
    "sw.close()\n",
    "\n",
    "stop = [myL.replace('  \\n', '') for myL in stop]\n",
    "\n",
    "stop = [myL.replace('\\n', '') for myL in stop]\n",
    "\n",
    "stop_words.extend(stop)\n",
    "#print(stop_words)\n",
    "\n",
    "docs = [ [token for token in doc if not token in stop_words] for doc in docs ]\n",
    "print('Tokens number after removing stop words: %d'% (len(Dictionary(docs))))\n",
    "#freq_words(docs,10) "
   ]
  },
  {
   "cell_type": "code",
   "execution_count": 9,
   "metadata": {},
   "outputs": [
    {
     "name": "stdout",
     "output_type": "stream",
     "text": [
      "Tokens number after removing short words: 17726\n"
     ]
    }
   ],
   "source": [
    "#Remove short words (length < min_len)\n",
    "docs = [ [token for token in doc if not len(token) < min_len] for doc in docs ]\n",
    "print('Tokens number after removing short words: %d'% (len(Dictionary(docs))))\n",
    "#freq_words(docs,10) "
   ]
  },
  {
   "cell_type": "code",
   "execution_count": 10,
   "metadata": {},
   "outputs": [
    {
     "name": "stdout",
     "output_type": "stream",
     "text": [
      "Lemmatization with POS tags...\n",
      "Tokens number after lemmatization: 15286\n"
     ]
    }
   ],
   "source": [
    "# Corpus Lemmatization\n",
    "from nltk import word_tokenize, pos_tag\n",
    "from nltk.corpus import wordnet\n",
    "\n",
    "\n",
    "def get_wordnet_pos(treebank_tag):\n",
    "    if treebank_tag.startswith('J'):\n",
    "        return wordnet.ADJ\n",
    "    elif treebank_tag.startswith('V'):\n",
    "        return wordnet.VERB\n",
    "    elif treebank_tag.startswith('N'):\n",
    "        return wordnet.NOUN\n",
    "    elif treebank_tag.startswith('R'):\n",
    "        return wordnet.ADV\n",
    "    else:\n",
    "        return None\n",
    "    \n",
    "def lemmatize_sentence(sentence):\n",
    "    res = []\n",
    "    lemmatizer = WordNetLemmatizer()\n",
    "    for word, pos in pos_tag(sentence):\n",
    "        wordnet_pos = get_wordnet_pos(pos) or wordnet.NOUN\n",
    "        res.append(lemmatizer.lemmatize(word, pos=wordnet_pos))\n",
    "\n",
    "    return res\n",
    "\n",
    "\n",
    "\n",
    "if lemmatization == 1:\n",
    "    for i in range (len(docs)):\n",
    "        docs[i] = lemmatize_sentence(docs[i])\n",
    "    print('Lemmatization with POS tags...')\n",
    "\n",
    "if lemmatization == 2:\n",
    "    lemmatizer = WordNetLemmatizer()\n",
    "    docs = [ [lemmatizer.lemmatize(token) for token in doc ] for doc in docs ]\n",
    "    print('Lemmatization without POS tags...')\n",
    "\n",
    "if lemmatization == 0:\n",
    "    print('Cancel lemmatization...')\n",
    "\n",
    "print('Tokens number after lemmatization: %d'% (len(Dictionary(docs))))\n",
    "#freq_words(docs,10) "
   ]
  },
  {
   "cell_type": "code",
   "execution_count": 11,
   "metadata": {},
   "outputs": [
    {
     "name": "stdout",
     "output_type": "stream",
     "text": [
      "Tokens number after removing stop words: 15165\n"
     ]
    }
   ],
   "source": [
    "#remove stop words again\n",
    "docs = [ [token for token in doc if not token in stop_words] for doc in docs ]\n",
    "print('Tokens number after removing stop words: %d'% (len(Dictionary(docs))))\n",
    "#freq_words(docs,10) "
   ]
  },
  {
   "cell_type": "code",
   "execution_count": 12,
   "metadata": {},
   "outputs": [
    {
     "name": "stdout",
     "output_type": "stream",
     "text": [
      "Tokens number after adding bigram: 15838\n"
     ]
    }
   ],
   "source": [
    "# Make bigram\n",
    "bigrams_phases = Phrases(docs, min_count = 10)\n",
    "for i in range(len(docs)):\n",
    "    for token in bigrams_phases[docs[i]]:\n",
    "        if '_' in token:\n",
    "            docs[i].append(token)            \n",
    "\n",
    "print('Tokens number after adding bigram: %d'% (len(Dictionary(docs))))\n",
    "#freq_words(docs,10) "
   ]
  },
  {
   "cell_type": "markdown",
   "metadata": {},
   "source": [
    "## 1.5 The LDA Model Building"
   ]
  },
  {
   "cell_type": "code",
   "execution_count": 13,
   "metadata": {},
   "outputs": [
    {
     "name": "stdout",
     "output_type": "stream",
     "text": [
      "Tokens number after creating dictionary: 15838\n"
     ]
    }
   ],
   "source": [
    "# Build a dictionary\n",
    "LOdict = Dictionary(docs)\n",
    "\n",
    "print('Tokens number after creating dictionary: %d'% (len(LOdict)))"
   ]
  },
  {
   "cell_type": "code",
   "execution_count": 14,
   "metadata": {},
   "outputs": [
    {
     "name": "stdout",
     "output_type": "stream",
     "text": [
      "Tokens number after tf-idf: 8449\n"
     ]
    }
   ],
   "source": [
    "#Remove  words occur less than no_below documents and more then no_above/documents\n",
    "LOdict.filter_extremes(no_below = no_below, no_above = no_above)\n",
    "\n",
    "print('Tokens number after tf-idf: %d'% (len(LOdict)))"
   ]
  },
  {
   "cell_type": "code",
   "execution_count": 15,
   "metadata": {},
   "outputs": [],
   "source": [
    "# Create bag of word for corpus\n",
    "LOcorpus = [LOdict.doc2bow(doc) for doc in docs]"
   ]
  },
  {
   "cell_type": "code",
   "execution_count": 16,
   "metadata": {},
   "outputs": [],
   "source": [
    "#Mapping from word IDs to words. It is used to determine the vocabulary size, as well as for debugging and topic printing.\n",
    "id2word = LOdict "
   ]
  },
  {
   "cell_type": "code",
   "execution_count": 17,
   "metadata": {},
   "outputs": [
    {
     "name": "stdout",
     "output_type": "stream",
     "text": [
      "LDA model training complete with number of topics:  11\n"
     ]
    }
   ],
   "source": [
    "# Buila a LDA model for LONDON OLYPLMICS\n",
    "LOldamodel = LdaModel(\n",
    "    corpus = LOcorpus,\n",
    "    id2word = id2word,\n",
    "    chunksize = chunksize,\n",
    "    alpha = alpha,\n",
    "    eta = eta,\n",
    "    iterations = iterations,\n",
    "    num_topics = num_topics,\n",
    "    passes = num_passes,\n",
    "    eval_every = eval_every,\n",
    "    random_state = random_state\n",
    ")\n",
    "print('LDA model training complete with number of topics: ', num_topics)"
   ]
  },
  {
   "cell_type": "code",
   "execution_count": 18,
   "metadata": {},
   "outputs": [
    {
     "data": {
      "text/plain": [
       "[(0,\n",
       "  '0.032*\"cost\" + 0.014*\"billion\" + 0.013*\"risk\" + 0.013*\"government\" + 0.013*\"public\" + 0.012*\"figure\" + 0.011*\"question\" + 0.011*\"committee\" + 0.011*\"olympics\" + 0.009*\"report\"'),\n",
       " (1,\n",
       "  '0.011*\"lottery\" + 0.009*\"committee\" + 0.009*\"cost\" + 0.007*\"legacy\" + 0.006*\"fund\" + 0.006*\"government\" + 0.006*\"programme\" + 0.006*\"plan\" + 0.005*\"national\" + 0.005*\"funding\"'),\n",
       " (2,\n",
       "  '0.022*\"benefit\" + 0.016*\"city\" + 0.013*\"event\" + 0.012*\"host\" + 0.012*\"facility\" + 0.012*\"company\" + 0.011*\"support\" + 0.011*\"legacy\" + 0.011*\"stag\" + 0.011*\"park\"'),\n",
       " (3,\n",
       "  '0.010*\"legacy\" + 0.009*\"people\" + 0.008*\"programme\" + 0.008*\"athlete\" + 0.007*\"venue\" + 0.006*\"facility\" + 0.006*\"committee\" + 0.006*\"community\" + 0.006*\"swim\" + 0.006*\"support\"'),\n",
       " (4,\n",
       "  '0.015*\"stadium\" + 0.012*\"country\" + 0.009*\"olympics\" + 0.008*\"people\" + 0.008*\"city\" + 0.008*\"wembley\" + 0.008*\"issue\" + 0.008*\"time\" + 0.008*\"team\" + 0.007*\"athletics\"'),\n",
       " (5,\n",
       "  '0.057*\"transport\" + 0.014*\"capacity\" + 0.014*\"plan\" + 0.014*\"crossrail\" + 0.012*\"network\" + 0.012*\"project\" + 0.011*\"travel\" + 0.011*\"demand\" + 0.011*\"infrastructure\" + 0.011*\"strategy\"'),\n",
       " (6,\n",
       "  '0.017*\"people\" + 0.009*\"committee\" + 0.008*\"time\" + 0.007*\"chair\" + 0.007*\"legacy\" + 0.006*\"security\" + 0.006*\"process\" + 0.006*\"ticket\" + 0.006*\"public\" + 0.006*\"cost\"'),\n",
       " (7,\n",
       "  '0.036*\"legacy\" + 0.027*\"participation\" + 0.017*\"people\" + 0.017*\"facility\" + 0.015*\"increase\" + 0.014*\"local\" + 0.012*\"activity\" + 0.011*\"england\" + 0.011*\"club\" + 0.011*\"community\"'),\n",
       " (8,\n",
       "  '0.028*\"performance\" + 0.024*\"medal\" + 0.024*\"paralympic\" + 0.019*\"athlete\" + 0.017*\"funding\" + 0.015*\"body\" + 0.015*\"fund\" + 0.013*\"target\" + 0.013*\"national\" + 0.013*\"success\"'),\n",
       " (9,\n",
       "  '0.022*\"legacy\" + 0.016*\"people\" + 0.014*\"borough\" + 0.013*\"local\" + 0.013*\"park\" + 0.012*\"community\" + 0.010*\"host\" + 0.010*\"opportunity\" + 0.009*\"east\" + 0.009*\"cultural\"'),\n",
       " (10,\n",
       "  '0.022*\"delivery\" + 0.022*\"cost\" + 0.020*\"authority\" + 0.016*\"report\" + 0.015*\"programme\" + 0.012*\"budget\" + 0.011*\"project\" + 0.010*\"olympic_delivery\" + 0.010*\"risk\" + 0.010*\"government\"')]"
      ]
     },
     "execution_count": 18,
     "metadata": {},
     "output_type": "execute_result"
    }
   ],
   "source": [
    "LOldamodel.print_topics()"
   ]
  },
  {
   "cell_type": "code",
   "execution_count": 19,
   "metadata": {},
   "outputs": [
    {
     "name": "stdout",
     "output_type": "stream",
     "text": [
      "Coherence Score  c_v = 0.47260225281532525  with number of topics = 11\n"
     ]
    }
   ],
   "source": [
    "#Compute Coherence Score\n",
    "coherence_model_lda = CoherenceModel(model = LOldamodel, texts = docs, dictionary = LOdict, coherence=coherence_type)\n",
    "coherence_lda = coherence_model_lda.get_coherence()\n",
    "print('Coherence Score ', coherence_type,'=', coherence_lda, ' with number of topics =', num_topics)"
   ]
  },
  {
   "cell_type": "code",
   "execution_count": null,
   "metadata": {
    "scrolled": false
   },
   "outputs": [],
   "source": [
    "# Plot Cohernece Score\n",
    "def compute_coherence_values(dictionary, corpus, texts, limit, start=1, step=1):\n",
    "    coherence_values = []\n",
    "    model_list = []\n",
    "    for num_topic in range(start, limit, step):\n",
    "        model=LdaModel(\n",
    "            corpus = corpus,\n",
    "            id2word = id2word,\n",
    "            chunksize = chunksize,\n",
    "            alpha = alpha,\n",
    "            eta = eta,\n",
    "            iterations = iterations,\n",
    "            num_topics = num_topic,\n",
    "            passes = num_passes,\n",
    "            eval_every = eval_every,\n",
    "            random_state = random_state\n",
    "            )\n",
    "        model_list.append(model)\n",
    "        coherencemodel = CoherenceModel(model=model, texts=texts, dictionary=dictionary, coherence=coherence_type)\n",
    "        coherence_score = coherencemodel.get_coherence()\n",
    "        coherence_values.append(coherence_score)\n",
    "        \n",
    "        if show_coherence_score == True:\n",
    "            print('Coherence Score ', coherence_type,'=', coherence_score, ' with number of topics =', num_topic)\n",
    "\n",
    "    return model_list, coherence_values\n",
    "\n",
    "model_list, coherence_values = compute_coherence_values(dictionary=LOdict, corpus=LOcorpus, texts=docs, start=1, limit=41, step=1)"
   ]
  },
  {
   "cell_type": "code",
   "execution_count": null,
   "metadata": {
    "scrolled": false
   },
   "outputs": [],
   "source": [
    "## Show plot\n",
    "limit=41;start=1; step=1;\n",
    "x = range(start, limit, step)\n",
    "plt.plot(x, coherence_values)\n",
    "plt.xlabel(\"Num Topics\")\n",
    "plt.ylabel(\"Coherence score\")\n",
    "plt.legend((\"coherence_values\"), loc='best')\n",
    "plt.xticks(py.arange(0, 41, step=1))\n",
    "plt.rcParams['figure.figsize'] = (20,10)\n",
    "plt.show();"
   ]
  },
  {
   "cell_type": "markdown",
   "metadata": {},
   "source": [
    "## 2. The LDA Model Visulization"
   ]
  },
  {
   "cell_type": "markdown",
   "metadata": {},
   "source": [
    "### 2.1 Packages Importing"
   ]
  },
  {
   "cell_type": "code",
   "execution_count": 20,
   "metadata": {},
   "outputs": [],
   "source": [
    "import pyLDAvis\n",
    "import pyLDAvis.gensim_models as gensim_models"
   ]
  },
  {
   "cell_type": "markdown",
   "metadata": {},
   "source": [
    "### 2.2 Visulization"
   ]
  },
  {
   "cell_type": "code",
   "execution_count": null,
   "metadata": {},
   "outputs": [],
   "source": [
    "pyLDAvis.enable_notebook()\n",
    "vis = pyLDAvis.gensim_models.prepare(LOldamodel, LOcorpus, id2word, sort_topics=False)\n",
    "pyLDAvis.save_html(vis, 'lda.html')"
   ]
  },
  {
   "cell_type": "markdown",
   "metadata": {},
   "source": [
    "## 3 Corpus Classification"
   ]
  },
  {
   "cell_type": "markdown",
   "metadata": {},
   "source": [
    "### 3.1 PARS Corpus Reading "
   ]
  },
  {
   "cell_type": "code",
   "execution_count": 21,
   "metadata": {
    "scrolled": true
   },
   "outputs": [
    {
     "name": "stderr",
     "output_type": "stream",
     "text": [
      "b'Skipping line 5: expected 3 fields, saw 9\\nSkipping line 37: expected 3 fields, saw 5\\nSkipping line 41: expected 3 fields, saw 5\\nSkipping line 81: expected 3 fields, saw 5\\nSkipping line 106: expected 3 fields, saw 5\\nSkipping line 107: expected 3 fields, saw 7\\nSkipping line 108: expected 3 fields, saw 5\\nSkipping line 112: expected 3 fields, saw 5\\nSkipping line 126: expected 3 fields, saw 5\\nSkipping line 127: expected 3 fields, saw 5\\nSkipping line 139: expected 3 fields, saw 5\\nSkipping line 140: expected 3 fields, saw 5\\nSkipping line 142: expected 3 fields, saw 5\\nSkipping line 149: expected 3 fields, saw 5\\nSkipping line 162: expected 3 fields, saw 5\\nSkipping line 163: expected 3 fields, saw 5\\nSkipping line 186: expected 3 fields, saw 5\\nSkipping line 188: expected 3 fields, saw 5\\nSkipping line 190: expected 3 fields, saw 5\\nSkipping line 191: expected 3 fields, saw 5\\nSkipping line 194: expected 3 fields, saw 5\\nSkipping line 213: expected 3 fields, saw 5\\nSkipping line 214: expected 3 fields, saw 5\\nSkipping line 218: expected 3 fields, saw 5\\nSkipping line 219: expected 3 fields, saw 5\\nSkipping line 222: expected 3 fields, saw 5\\nSkipping line 223: expected 3 fields, saw 5\\nSkipping line 264: expected 3 fields, saw 5\\nSkipping line 268: expected 3 fields, saw 5\\nSkipping line 270: expected 3 fields, saw 7\\nSkipping line 271: expected 3 fields, saw 5\\nSkipping line 299: expected 3 fields, saw 5\\nSkipping line 334: expected 3 fields, saw 5\\nSkipping line 338: expected 3 fields, saw 5\\nSkipping line 350: expected 3 fields, saw 5\\nSkipping line 352: expected 3 fields, saw 5\\nSkipping line 355: expected 3 fields, saw 7\\nSkipping line 359: expected 3 fields, saw 5\\nSkipping line 360: expected 3 fields, saw 5\\nSkipping line 367: expected 3 fields, saw 5\\nSkipping line 369: expected 3 fields, saw 5\\nSkipping line 371: expected 3 fields, saw 5\\nSkipping line 379: expected 3 fields, saw 5\\nSkipping line 393: expected 3 fields, saw 7\\nSkipping line 404: expected 3 fields, saw 5\\nSkipping line 429: expected 3 fields, saw 5\\nSkipping line 449: expected 3 fields, saw 5\\nSkipping line 457: expected 3 fields, saw 5\\nSkipping line 500: expected 3 fields, saw 5\\nSkipping line 506: expected 3 fields, saw 5\\nSkipping line 1909: expected 3 fields, saw 5\\nSkipping line 1971: expected 3 fields, saw 5\\nSkipping line 2003: expected 3 fields, saw 5\\nSkipping line 2081: expected 3 fields, saw 5\\nSkipping line 2105: expected 3 fields, saw 5\\nSkipping line 2114: expected 3 fields, saw 5\\nSkipping line 2158: expected 3 fields, saw 5\\nSkipping line 2185: expected 3 fields, saw 5\\nSkipping line 2291: expected 3 fields, saw 7\\nSkipping line 2306: expected 3 fields, saw 5\\nSkipping line 2336: expected 3 fields, saw 5\\nSkipping line 2377: expected 3 fields, saw 5\\nSkipping line 2510: expected 3 fields, saw 4\\nSkipping line 2511: expected 3 fields, saw 4\\nSkipping line 2512: expected 3 fields, saw 4\\nSkipping line 2513: expected 3 fields, saw 4\\nSkipping line 2514: expected 3 fields, saw 4\\nSkipping line 2515: expected 3 fields, saw 4\\nSkipping line 2516: expected 3 fields, saw 4\\nSkipping line 2517: expected 3 fields, saw 4\\nSkipping line 2518: expected 3 fields, saw 4\\nSkipping line 2519: expected 3 fields, saw 4\\nSkipping line 2520: expected 3 fields, saw 4\\nSkipping line 2521: expected 3 fields, saw 4\\nSkipping line 2522: expected 3 fields, saw 4\\nSkipping line 2523: expected 3 fields, saw 4\\nSkipping line 2524: expected 3 fields, saw 4\\nSkipping line 2525: expected 3 fields, saw 4\\nSkipping line 2526: expected 3 fields, saw 4\\nSkipping line 2527: expected 3 fields, saw 4\\nSkipping line 2528: expected 3 fields, saw 4\\nSkipping line 2529: expected 3 fields, saw 4\\nSkipping line 2530: expected 3 fields, saw 4\\nSkipping line 2531: expected 3 fields, saw 4\\nSkipping line 2532: expected 3 fields, saw 4\\nSkipping line 2533: expected 3 fields, saw 4\\nSkipping line 2534: expected 3 fields, saw 4\\nSkipping line 2535: expected 3 fields, saw 4\\nSkipping line 2536: expected 3 fields, saw 4\\nSkipping line 2537: expected 3 fields, saw 4\\nSkipping line 2538: expected 3 fields, saw 4\\nSkipping line 2539: expected 3 fields, saw 4\\nSkipping line 2540: expected 3 fields, saw 4\\nSkipping line 2541: expected 3 fields, saw 4\\nSkipping line 2542: expected 3 fields, saw 4\\nSkipping line 2543: expected 3 fields, saw 4\\nSkipping line 2544: expected 3 fields, saw 4\\nSkipping line 2545: expected 3 fields, saw 4\\nSkipping line 2546: expected 3 fields, saw 4\\nSkipping line 2547: expected 3 fields, saw 4\\nSkipping line 2548: expected 3 fields, saw 4\\nSkipping line 2549: expected 3 fields, saw 4\\nSkipping line 2550: expected 3 fields, saw 4\\nSkipping line 2551: expected 3 fields, saw 4\\nSkipping line 2552: expected 3 fields, saw 4\\nSkipping line 2553: expected 3 fields, saw 4\\nSkipping line 2554: expected 3 fields, saw 4\\nSkipping line 2555: expected 3 fields, saw 4\\nSkipping line 2556: expected 3 fields, saw 4\\nSkipping line 2557: expected 3 fields, saw 4\\nSkipping line 2558: expected 3 fields, saw 4\\nSkipping line 2559: expected 3 fields, saw 4\\nSkipping line 2560: expected 3 fields, saw 4\\nSkipping line 2561: expected 3 fields, saw 4\\nSkipping line 2562: expected 3 fields, saw 4\\nSkipping line 2563: expected 3 fields, saw 4\\nSkipping line 2564: expected 3 fields, saw 4\\nSkipping line 2565: expected 3 fields, saw 4\\nSkipping line 2566: expected 3 fields, saw 4\\nSkipping line 2567: expected 3 fields, saw 4\\nSkipping line 2568: expected 3 fields, saw 4\\nSkipping line 2569: expected 3 fields, saw 4\\nSkipping line 2570: expected 3 fields, saw 4\\nSkipping line 2571: expected 3 fields, saw 4\\nSkipping line 2572: expected 3 fields, saw 4\\nSkipping line 2573: expected 3 fields, saw 4\\nSkipping line 2574: expected 3 fields, saw 4\\nSkipping line 2575: expected 3 fields, saw 4\\nSkipping line 2576: expected 3 fields, saw 4\\nSkipping line 2577: expected 3 fields, saw 4\\nSkipping line 2578: expected 3 fields, saw 4\\nSkipping line 2579: expected 3 fields, saw 4\\nSkipping line 2580: expected 3 fields, saw 4\\nSkipping line 2581: expected 3 fields, saw 4\\nSkipping line 2582: expected 3 fields, saw 4\\nSkipping line 2583: expected 3 fields, saw 4\\nSkipping line 2584: expected 3 fields, saw 4\\nSkipping line 2585: expected 3 fields, saw 4\\nSkipping line 2586: expected 3 fields, saw 4\\nSkipping line 2587: expected 3 fields, saw 4\\nSkipping line 2588: expected 3 fields, saw 4\\nSkipping line 2589: expected 3 fields, saw 4\\nSkipping line 2590: expected 3 fields, saw 4\\nSkipping line 2591: expected 3 fields, saw 4\\nSkipping line 2592: expected 3 fields, saw 4\\nSkipping line 2593: expected 3 fields, saw 4\\nSkipping line 2594: expected 3 fields, saw 4\\nSkipping line 2595: expected 3 fields, saw 4\\nSkipping line 2596: expected 3 fields, saw 4\\nSkipping line 2597: expected 3 fields, saw 4\\nSkipping line 2598: expected 3 fields, saw 4\\nSkipping line 2599: expected 3 fields, saw 4\\nSkipping line 2600: expected 3 fields, saw 4\\nSkipping line 2601: expected 3 fields, saw 4\\nSkipping line 2602: expected 3 fields, saw 4\\nSkipping line 2603: expected 3 fields, saw 4\\nSkipping line 2604: expected 3 fields, saw 4\\nSkipping line 2605: expected 3 fields, saw 4\\nSkipping line 2606: expected 3 fields, saw 4\\nSkipping line 2607: expected 3 fields, saw 4\\nSkipping line 2608: expected 3 fields, saw 4\\nSkipping line 2609: expected 3 fields, saw 4\\nSkipping line 2610: expected 3 fields, saw 4\\nSkipping line 2611: expected 3 fields, saw 4\\nSkipping line 2612: expected 3 fields, saw 4\\nSkipping line 2613: expected 3 fields, saw 4\\nSkipping line 2614: expected 3 fields, saw 4\\nSkipping line 2615: expected 3 fields, saw 4\\nSkipping line 2616: expected 3 fields, saw 4\\nSkipping line 2617: expected 3 fields, saw 4\\nSkipping line 2618: expected 3 fields, saw 4\\nSkipping line 2619: expected 3 fields, saw 4\\nSkipping line 2620: expected 3 fields, saw 4\\nSkipping line 2621: expected 3 fields, saw 4\\nSkipping line 2622: expected 3 fields, saw 4\\nSkipping line 2623: expected 3 fields, saw 4\\nSkipping line 2624: expected 3 fields, saw 4\\nSkipping line 2625: expected 3 fields, saw 4\\nSkipping line 2626: expected 3 fields, saw 4\\nSkipping line 2627: expected 3 fields, saw 4\\nSkipping line 2628: expected 3 fields, saw 4\\nSkipping line 2629: expected 3 fields, saw 4\\nSkipping line 2630: expected 3 fields, saw 4\\nSkipping line 2631: expected 3 fields, saw 4\\nSkipping line 2632: expected 3 fields, saw 4\\nSkipping line 2633: expected 3 fields, saw 4\\nSkipping line 2634: expected 3 fields, saw 4\\nSkipping line 2635: expected 3 fields, saw 4\\nSkipping line 2636: expected 3 fields, saw 4\\nSkipping line 2637: expected 3 fields, saw 4\\nSkipping line 2638: expected 3 fields, saw 4\\nSkipping line 2639: expected 3 fields, saw 4\\nSkipping line 2640: expected 3 fields, saw 4\\nSkipping line 2641: expected 3 fields, saw 4\\nSkipping line 2642: expected 3 fields, saw 4\\nSkipping line 2643: expected 3 fields, saw 4\\nSkipping line 2644: expected 3 fields, saw 4\\nSkipping line 2645: expected 3 fields, saw 4\\nSkipping line 2646: expected 3 fields, saw 4\\nSkipping line 2647: expected 3 fields, saw 4\\nSkipping line 2648: expected 3 fields, saw 4\\nSkipping line 2649: expected 3 fields, saw 4\\nSkipping line 2650: expected 3 fields, saw 4\\nSkipping line 2651: expected 3 fields, saw 4\\nSkipping line 2652: expected 3 fields, saw 4\\nSkipping line 2653: expected 3 fields, saw 4\\nSkipping line 2654: expected 3 fields, saw 4\\nSkipping line 2655: expected 3 fields, saw 4\\nSkipping line 2656: expected 3 fields, saw 4\\nSkipping line 2657: expected 3 fields, saw 4\\nSkipping line 2658: expected 3 fields, saw 4\\nSkipping line 2659: expected 3 fields, saw 4\\nSkipping line 2660: expected 3 fields, saw 4\\nSkipping line 2661: expected 3 fields, saw 4\\nSkipping line 2662: expected 3 fields, saw 4\\nSkipping line 2663: expected 3 fields, saw 4\\nSkipping line 2664: expected 3 fields, saw 4\\nSkipping line 2665: expected 3 fields, saw 4\\nSkipping line 2666: expected 3 fields, saw 4\\nSkipping line 2667: expected 3 fields, saw 4\\nSkipping line 2668: expected 3 fields, saw 4\\nSkipping line 2669: expected 3 fields, saw 4\\nSkipping line 2670: expected 3 fields, saw 4\\nSkipping line 2671: expected 3 fields, saw 4\\nSkipping line 2672: expected 3 fields, saw 4\\nSkipping line 2673: expected 3 fields, saw 4\\nSkipping line 2674: expected 3 fields, saw 4\\nSkipping line 2675: expected 3 fields, saw 4\\nSkipping line 2676: expected 3 fields, saw 4\\nSkipping line 2677: expected 3 fields, saw 4\\nSkipping line 2678: expected 3 fields, saw 4\\nSkipping line 2679: expected 3 fields, saw 4\\nSkipping line 2680: expected 3 fields, saw 4\\nSkipping line 2681: expected 3 fields, saw 4\\nSkipping line 2682: expected 3 fields, saw 4\\nSkipping line 2683: expected 3 fields, saw 4\\nSkipping line 2684: expected 3 fields, saw 4\\nSkipping line 2685: expected 3 fields, saw 4\\nSkipping line 2686: expected 3 fields, saw 4\\nSkipping line 2687: expected 3 fields, saw 4\\nSkipping line 2688: expected 3 fields, saw 4\\nSkipping line 2689: expected 3 fields, saw 4\\nSkipping line 2690: expected 3 fields, saw 4\\nSkipping line 2691: expected 3 fields, saw 4\\nSkipping line 2692: expected 3 fields, saw 4\\nSkipping line 2693: expected 3 fields, saw 4\\nSkipping line 2694: expected 3 fields, saw 4\\nSkipping line 2695: expected 3 fields, saw 4\\nSkipping line 2696: expected 3 fields, saw 4\\nSkipping line 2697: expected 3 fields, saw 4\\nSkipping line 2698: expected 3 fields, saw 4\\nSkipping line 2699: expected 3 fields, saw 4\\nSkipping line 6675: expected 3 fields, saw 5\\nSkipping line 6686: expected 3 fields, saw 5\\nSkipping line 6713: expected 3 fields, saw 5\\nSkipping line 6730: expected 3 fields, saw 5\\nSkipping line 6736: expected 3 fields, saw 5\\nSkipping line 7114: expected 3 fields, saw 5\\nSkipping line 7133: expected 3 fields, saw 5\\nSkipping line 7142: expected 3 fields, saw 5\\nSkipping line 7157: expected 3 fields, saw 5\\nSkipping line 7160: expected 3 fields, saw 5\\nSkipping line 7167: expected 3 fields, saw 5\\nSkipping line 7169: expected 3 fields, saw 5\\nSkipping line 7185: expected 3 fields, saw 5\\nSkipping line 7192: expected 3 fields, saw 5\\nSkipping line 7197: expected 3 fields, saw 5\\nSkipping line 7199: expected 3 fields, saw 5\\nSkipping line 7206: expected 3 fields, saw 5\\nSkipping line 7327: expected 3 fields, saw 5\\nSkipping line 7344: expected 3 fields, saw 5\\nSkipping line 7345: expected 3 fields, saw 5\\nSkipping line 7396: expected 3 fields, saw 5\\nSkipping line 11465: expected 3 fields, saw 5\\nSkipping line 11474: expected 3 fields, saw 5\\nSkipping line 11493: expected 3 fields, saw 5\\nSkipping line 11498: expected 3 fields, saw 5\\nSkipping line 11503: expected 3 fields, saw 5\\nSkipping line 11505: expected 3 fields, saw 5\\nSkipping line 11890: expected 3 fields, saw 5\\nSkipping line 12004: expected 3 fields, saw 5\\nSkipping line 12044: expected 3 fields, saw 5\\nSkipping line 12047: expected 3 fields, saw 5\\nSkipping line 12060: expected 3 fields, saw 5\\nSkipping line 12183: expected 3 fields, saw 5\\nSkipping line 12205: expected 3 fields, saw 5\\nSkipping line 12211: expected 3 fields, saw 5\\nSkipping line 12223: expected 3 fields, saw 5\\nSkipping line 12322: expected 3 fields, saw 5\\nSkipping line 12323: expected 3 fields, saw 5\\nSkipping line 12327: expected 3 fields, saw 5\\nSkipping line 12340: expected 3 fields, saw 5\\nSkipping line 12355: expected 3 fields, saw 5\\nSkipping line 12542: expected 3 fields, saw 5\\nSkipping line 12554: expected 3 fields, saw 5\\nSkipping line 12578: expected 3 fields, saw 5\\nSkipping line 12954: expected 3 fields, saw 5\\nSkipping line 13021: expected 3 fields, saw 5\\nSkipping line 13025: expected 3 fields, saw 5\\nSkipping line 13086: expected 3 fields, saw 5\\nSkipping line 13498: expected 3 fields, saw 5\\nSkipping line 13541: expected 3 fields, saw 5\\nSkipping line 14258: expected 3 fields, saw 5\\nSkipping line 15429: expected 3 fields, saw 5\\nSkipping line 15716: expected 3 fields, saw 5\\nSkipping line 15735: expected 3 fields, saw 5\\nSkipping line 15737: expected 3 fields, saw 5\\nSkipping line 16127: expected 3 fields, saw 5\\nSkipping line 16180: expected 3 fields, saw 5\\nSkipping line 16309: expected 3 fields, saw 5\\nSkipping line 16319: expected 3 fields, saw 5\\nSkipping line 16320: expected 3 fields, saw 5\\nSkipping line 16346: expected 3 fields, saw 5\\nSkipping line 16374: expected 3 fields, saw 5\\nSkipping line 16505: expected 3 fields, saw 5\\nSkipping line 16606: expected 3 fields, saw 5\\nSkipping line 16625: expected 3 fields, saw 5\\nSkipping line 16679: expected 3 fields, saw 5\\nSkipping line 16689: expected 3 fields, saw 5\\nSkipping line 16704: expected 3 fields, saw 5\\nSkipping line 16707: expected 3 fields, saw 5\\nSkipping line 16716: expected 3 fields, saw 5\\nSkipping line 16749: expected 3 fields, saw 5\\nSkipping line 16781: expected 3 fields, saw 5\\nSkipping line 16810: expected 3 fields, saw 7\\nSkipping line 16812: expected 3 fields, saw 5\\nSkipping line 16816: expected 3 fields, saw 5\\nSkipping line 16885: expected 3 fields, saw 5\\nSkipping line 16886: expected 3 fields, saw 5\\nSkipping line 16963: expected 3 fields, saw 5\\nSkipping line 17098: expected 3 fields, saw 5\\nSkipping line 19392: expected 3 fields, saw 5\\nSkipping line 19544: expected 3 fields, saw 5\\nSkipping line 19545: expected 3 fields, saw 5\\nSkipping line 19562: expected 3 fields, saw 5\\nSkipping line 19573: expected 3 fields, saw 5\\nSkipping line 19582: expected 3 fields, saw 5\\nSkipping line 19594: expected 3 fields, saw 5\\nSkipping line 19717: expected 3 fields, saw 5\\nSkipping line 20113: expected 3 fields, saw 5\\nSkipping line 20191: expected 3 fields, saw 5\\nSkipping line 20295: expected 3 fields, saw 5\\nSkipping line 20342: expected 3 fields, saw 5\\nSkipping line 21513: expected 3 fields, saw 5\\nSkipping line 21514: expected 3 fields, saw 5\\nSkipping line 21520: expected 3 fields, saw 5\\nSkipping line 21521: expected 3 fields, saw 5\\nSkipping line 21527: expected 3 fields, saw 5\\nSkipping line 21528: expected 3 fields, saw 5\\nSkipping line 21534: expected 3 fields, saw 5\\nSkipping line 21535: expected 3 fields, saw 5\\nSkipping line 21541: expected 3 fields, saw 5\\nSkipping line 21542: expected 3 fields, saw 5\\nSkipping line 21548: expected 3 fields, saw 5\\nSkipping line 21549: expected 3 fields, saw 5\\nSkipping line 21555: expected 3 fields, saw 5\\nSkipping line 21556: expected 3 fields, saw 5\\nSkipping line 21562: expected 3 fields, saw 5\\nSkipping line 21563: expected 3 fields, saw 5\\nSkipping line 21569: expected 3 fields, saw 5\\nSkipping line 21570: expected 3 fields, saw 5\\nSkipping line 21576: expected 3 fields, saw 5\\nSkipping line 21577: expected 3 fields, saw 5\\nSkipping line 21583: expected 3 fields, saw 5\\nSkipping line 21584: expected 3 fields, saw 5\\nSkipping line 21590: expected 3 fields, saw 5\\nSkipping line 21591: expected 3 fields, saw 5\\nSkipping line 21597: expected 3 fields, saw 5\\nSkipping line 21598: expected 3 fields, saw 5\\nSkipping line 21615: expected 3 fields, saw 5\\nSkipping line 21616: expected 3 fields, saw 5\\nSkipping line 21622: expected 3 fields, saw 5\\nSkipping line 21623: expected 3 fields, saw 5\\nSkipping line 21629: expected 3 fields, saw 5\\nSkipping line 21630: expected 3 fields, saw 5\\nSkipping line 21636: expected 3 fields, saw 5\\nSkipping line 21637: expected 3 fields, saw 5\\nSkipping line 22136: expected 3 fields, saw 5\\nSkipping line 22142: expected 3 fields, saw 5\\nSkipping line 22667: expected 3 fields, saw 5\\nSkipping line 22829: expected 3 fields, saw 5\\nSkipping line 22830: expected 3 fields, saw 5\\nSkipping line 22995: expected 3 fields, saw 5\\n'\n"
     ]
    }
   ],
   "source": [
    "pf = pd.read_csv('Olympics-ALL-PARS.csv', header = None, error_bad_lines = False)"
   ]
  },
  {
   "cell_type": "code",
   "execution_count": 22,
   "metadata": {},
   "outputs": [],
   "source": [
    "pars = []\n",
    "pars = pf[col]"
   ]
  },
  {
   "cell_type": "markdown",
   "metadata": {},
   "source": [
    "### 3.2 PARS Corpus Processing"
   ]
  },
  {
   "cell_type": "code",
   "execution_count": 23,
   "metadata": {},
   "outputs": [
    {
     "name": "stdout",
     "output_type": "stream",
     "text": [
      "Document number: 22764\n"
     ]
    }
   ],
   "source": [
    "print('Document number: %d'% (len(pars)))\n",
    "#freq_words(pars,10) "
   ]
  },
  {
   "cell_type": "code",
   "execution_count": 24,
   "metadata": {},
   "outputs": [
    {
     "name": "stdout",
     "output_type": "stream",
     "text": [
      "Tokens number: 18540\n"
     ]
    }
   ],
   "source": [
    "#Tokenize the corpus \n",
    "pars= pars.map(lambda x: x.lower())\n",
    "\n",
    "tokenizer = RegexpTokenizer(r'\\w+')\n",
    "for i in range (len(pars)):\n",
    "    pars[i] = tokenizer.tokenize(pars[i])\n",
    "\n",
    "print('Tokens number: %d'% (len(Dictionary(pars))))\n",
    "#freq_words(pars,10) "
   ]
  },
  {
   "cell_type": "code",
   "execution_count": 25,
   "metadata": {},
   "outputs": [
    {
     "name": "stdout",
     "output_type": "stream",
     "text": [
      "Tokens number after removing number: 18540\n"
     ]
    }
   ],
   "source": [
    "#Remove the number\n",
    "pars = [ [token for token in doc if not token.isnumeric()] for doc in pars]\n",
    "\n",
    "print('Tokens number after removing number: %d'% (len(Dictionary(pars))))\n",
    "#freq_words(pars,10) "
   ]
  },
  {
   "cell_type": "code",
   "execution_count": 26,
   "metadata": {},
   "outputs": [
    {
     "name": "stdout",
     "output_type": "stream",
     "text": [
      "Tokens number after removing stop words: 17685\n"
     ]
    }
   ],
   "source": [
    "#Reomve stop words\n",
    "pars = [ [token for token in doc if not token in stop_words] for doc in pars ]\n",
    "print('Tokens number after removing stop words: %d'% (len(Dictionary(pars))))\n",
    "#freq_words(pars,10) "
   ]
  },
  {
   "cell_type": "code",
   "execution_count": 27,
   "metadata": {},
   "outputs": [
    {
     "name": "stdout",
     "output_type": "stream",
     "text": [
      "Tokens number after removing short words: 17068\n"
     ]
    }
   ],
   "source": [
    "#Remove short words (length < min_len)\n",
    "pars = [ [token for token in doc if not len(token) < min_len] for doc in pars ]\n",
    "print('Tokens number after removing short words: %d'% (len(Dictionary(pars))))\n",
    "#freq_words(pars,10) "
   ]
  },
  {
   "cell_type": "code",
   "execution_count": 28,
   "metadata": {},
   "outputs": [
    {
     "name": "stdout",
     "output_type": "stream",
     "text": [
      "Lemmatization with POS tags...\n",
      "Tokens number after lemmatization: 14644\n"
     ]
    }
   ],
   "source": [
    "# Corpus Lemmatization\n",
    "if lemmatization == 1:\n",
    "    for i in range (len(pars)):\n",
    "        pars[i] = lemmatize_sentence(pars[i])\n",
    "    print('Lemmatization with POS tags...')\n",
    "\n",
    "if lemmatization == 2:\n",
    "    lemmatizer = WordNetLemmatizer()\n",
    "    pars = [ [lemmatizer.lemmatize(token) for token in doc ] for doc in pars ]\n",
    "    print('Lemmatization without POS tags...')\n",
    "\n",
    "if lemmatization == 0:\n",
    "    print('Cancel lemmatization...')\n",
    "\n",
    "print('Tokens number after lemmatization: %d'% (len(Dictionary(pars))))\n",
    "#freq_words(pars,10) "
   ]
  },
  {
   "cell_type": "code",
   "execution_count": 29,
   "metadata": {},
   "outputs": [
    {
     "name": "stdout",
     "output_type": "stream",
     "text": [
      "Tokens number after removing stop words: 14527\n"
     ]
    }
   ],
   "source": [
    "#remove stop words again\n",
    "pars = [ [token for token in doc if not token in stop_words] for doc in pars ]\n",
    "print('Tokens number after removing stop words: %d'% (len(Dictionary(pars))))\n",
    "#freq_words(pars,10) "
   ]
  },
  {
   "cell_type": "code",
   "execution_count": 30,
   "metadata": {},
   "outputs": [
    {
     "name": "stdout",
     "output_type": "stream",
     "text": [
      "Tokens number after adding bigram: 15129\n"
     ]
    }
   ],
   "source": [
    "# Make bigram\n",
    "P_bigrams_phases = Phrases(pars, min_count = 10)\n",
    "for i in range(len(pars)):\n",
    "    for token in P_bigrams_phases[pars[i]]:\n",
    "        if '_' in token:\n",
    "            pars[i].append(token)            \n",
    "\n",
    "print('Tokens number after adding bigram: %d'% (len(Dictionary(pars))))\n",
    "#freq_words(pars,10) "
   ]
  },
  {
   "cell_type": "markdown",
   "metadata": {},
   "source": [
    "### 3.3 Classify PARAS"
   ]
  },
  {
   "cell_type": "code",
   "execution_count": 31,
   "metadata": {},
   "outputs": [],
   "source": [
    "Pcorpus = [LOdict.doc2bow(doc) for doc in pars]\n",
    "#Make the Dataframe of the highest probable topics of each paragraph\n",
    "MTopics =  list()\n",
    "for i in LOldamodel.get_document_topics(Pcorpus,minimum_probability = 0, per_word_topics=False)[:]:\n",
    "    listj=[]\n",
    "    for j in i:\n",
    "        listj.append(j[1])\n",
    "    bz=listj.index(max(listj))\n",
    "#    print(bz,listj[bz], i)\n",
    "    MTopics.append([bz+1, listj[bz]])\n",
    "\n",
    "MTopics = pd.DataFrame(MTopics)\n",
    "\n",
    "classifer_document = pd.concat([pf.iloc[:,0:2],MTopics,pf.iloc[:,2:3]],axis=1)\n",
    "classifer_document.columns = [\"Par No.\",\"Souce\",\"The Highest Probable Topic\", \"Probability\",\"Text\"]"
   ]
  },
  {
   "cell_type": "code",
   "execution_count": 32,
   "metadata": {},
   "outputs": [],
   "source": [
    "#adjust Dataframe's title to center\n",
    "d = dict(selector=\"th\",\n",
    "    props=[('text-align', 'center')])"
   ]
  },
  {
   "cell_type": "markdown",
   "metadata": {},
   "source": [
    "### 3.3.1 The Highest N ranked paragraphs for topic K"
   ]
  },
  {
   "cell_type": "code",
   "execution_count": 33,
   "metadata": {
    "scrolled": false
   },
   "outputs": [
    {
     "data": {
      "text/html": [
       "<style  type=\"text/css\" >\n",
       "    #T_f780c_ th {\n",
       "          text-align: center;\n",
       "    }#T_f780c_row0_col0,#T_f780c_row0_col1,#T_f780c_row0_col2,#T_f780c_row0_col3,#T_f780c_row1_col0,#T_f780c_row1_col1,#T_f780c_row1_col2,#T_f780c_row1_col3,#T_f780c_row2_col0,#T_f780c_row2_col1,#T_f780c_row2_col2,#T_f780c_row2_col3,#T_f780c_row3_col0,#T_f780c_row3_col1,#T_f780c_row3_col2,#T_f780c_row3_col3,#T_f780c_row4_col0,#T_f780c_row4_col1,#T_f780c_row4_col2,#T_f780c_row4_col3,#T_f780c_row5_col0,#T_f780c_row5_col1,#T_f780c_row5_col2,#T_f780c_row5_col3,#T_f780c_row6_col0,#T_f780c_row6_col1,#T_f780c_row6_col2,#T_f780c_row6_col3,#T_f780c_row7_col0,#T_f780c_row7_col1,#T_f780c_row7_col2,#T_f780c_row7_col3,#T_f780c_row8_col0,#T_f780c_row8_col1,#T_f780c_row8_col2,#T_f780c_row8_col3,#T_f780c_row9_col0,#T_f780c_row9_col1,#T_f780c_row9_col2,#T_f780c_row9_col3{\n",
       "            text-align:  center;\n",
       "        }#T_f780c_row0_col4,#T_f780c_row1_col4,#T_f780c_row2_col4,#T_f780c_row3_col4,#T_f780c_row4_col4,#T_f780c_row5_col4,#T_f780c_row6_col4,#T_f780c_row7_col4,#T_f780c_row8_col4,#T_f780c_row9_col4{\n",
       "            text-align:  center;\n",
       "            text-align:  left;\n",
       "        }</style><table id=\"T_f780c_\" ><caption>The Highest N ranked paragraphs for topic K</caption><thead>    <tr>        <th class=\"blank level0\" ></th>        <th class=\"col_heading level0 col0\" >Par No.</th>        <th class=\"col_heading level0 col1\" >Souce</th>        <th class=\"col_heading level0 col2\" >The Highest Probable Topic</th>        <th class=\"col_heading level0 col3\" >Probability</th>        <th class=\"col_heading level0 col4\" >Text</th>    </tr></thead><tbody>\n",
       "                <tr>\n",
       "                        <th id=\"T_f780c_level0_row0\" class=\"row_heading level0 row0\" >332</th>\n",
       "                        <td id=\"T_f780c_row0_col0\" class=\"data row0 col0\" >384</td>\n",
       "                        <td id=\"T_f780c_row0_col1\" class=\"data row0 col1\" >Olympics-All-PARS/NewChunk1/Jan_2003_-_Qs_200-220.txt</td>\n",
       "                        <td id=\"T_f780c_row0_col2\" class=\"data row0 col2\" >5</td>\n",
       "                        <td id=\"T_f780c_row0_col3\" class=\"data row0 col3\" >0.521171</td>\n",
       "                        <td id=\"T_f780c_row0_col4\" class=\"data row0 col4\" > This just will not do It really will not do Mr Cunnahs letter is a clear helpful letter totally credible as far as I can see I would not fault a word of it What I want to be clear about on behalf of the Committee is this when Sport England gave  million to FAWNSL to build a dual use stadium on the Wembley site with the intention of its being the centrepiece stadiumbecause that was the basis upon which it was given and why the decision was made and why all the arguments about dual use and Picketts Lock and Mr Chris Smiths kitchen and all the rest of it came upto house the  Olympic Games should we get them did Sport England at that time know that there would be a problem with the location of the village If it did not know it is culpable If it did know it is culpable But I would like to know one way or the other what the position wasMr Fytche The position was that Sport England invested in a project as I said before to create the opportunity for it to form the centrepiece of the bid should the Bid Committee consider that to be the best option You will find going back to those days in  and the launch of the project which you mentioned the BOA themselves were talking about the potential for Wembley to be the centrepiece of the bid All parties involved in the debate at that time acknowledged Wembley could be the centrepiece of the bid It was later that the issues relating to athletics and Picketts Lock arose but at the time the decisions were taken around Wembley it was clear that all parties felt that Wembley could be the centrepiece and therefore no issues relating to the position of the village visavis Wembley were problematic to it going forward at that stage</td>\n",
       "            </tr>\n",
       "            <tr>\n",
       "                        <th id=\"T_f780c_level0_row1\" class=\"row_heading level0 row1\" >337</th>\n",
       "                        <td id=\"T_f780c_row1_col0\" class=\"data row1 col0\" >391</td>\n",
       "                        <td id=\"T_f780c_row1_col1\" class=\"data row1 col1\" >Olympics-All-PARS/NewChunk1/Jan_2003_-_Qs_200-220.txt</td>\n",
       "                        <td id=\"T_f780c_row1_col2\" class=\"data row1 col2\" >5</td>\n",
       "                        <td id=\"T_f780c_row1_col3\" class=\"data row1 col3\" >0.462335</td>\n",
       "                        <td id=\"T_f780c_row1_col4\" class=\"data row1 col4\" >Alan Keen I was aware and Ian Fytche is right it is not Sport England who were at fault with Wembley I am a West London MP so I was aware straightaway As soon as I saw the decision was taken to hold it in East London I knew there was going to be the need to build a stadium and I say it again just to make sure West Ham and Spurs are losing money now there is no way they can finance a stadium unless it is gifted to them and in a way Manchester City has been a bit of a gift When the decision was taken to move to East London I do not know whether people took account of the fact that a duplicate stadium had to be built and it would be of use to somebody but you would have to give it to them that is when the decision was taken that went against what Sport England envisaged when they put the money into Wembley Stadium That is about it I was aware from the moment it moved to East London In fact during this Committee hearing earlier on I said to people I would put money on the fact that the Olympics will be held at Wembley Stadium whatever you say about Picketts Lock Obviously that has changed So I was aware that we were duplicating the scene</td>\n",
       "            </tr>\n",
       "            <tr>\n",
       "                        <th id=\"T_f780c_level0_row2\" class=\"row_heading level0 row2\" >155</th>\n",
       "                        <td id=\"T_f780c_row2_col0\" class=\"data row2 col0\" >172</td>\n",
       "                        <td id=\"T_f780c_row2_col1\" class=\"data row2 col1\" >Olympics-All-PARS/NewChunk1/Jan_2003_-_Qs_120-121.txt</td>\n",
       "                        <td id=\"T_f780c_row2_col2\" class=\"data row2 col2\" >5</td>\n",
       "                        <td id=\"T_f780c_row2_col3\" class=\"data row2 col3\" >0.454958</td>\n",
       "                        <td id=\"T_f780c_row2_col4\" class=\"data row2 col4\" > That is one of the difficulties Another difficulty is our own track record in this area particularly our recent track record with Wembley with Picketts Lock and the World Athletics Championship in  Julie Kirkbride has already mentioned the Dome Manchester itself as the Chairman has said was heading for difficulties before fairly severe action was taken That surely cannot be of assistance to usMr Reedie I hope and rather believe that memories are shorter rather than longer By the time  comes I would expect Wembley to be well under way as being the best football stadium in the world By that stage we will be a bit further away from the Picketts Lock decision In Olympic sporting terms that was the damaging one Although the Commonwealth Games were a struggle to bring to fruition they were a huge success and the rest of the world saw that success They were not hugely interested two years out in what committee problems were under way The Manchester experience has done well We are running the World Indoor Athletics Championships in Birmingham in March and I have every confidence in the capacity of UK Athletics who are a first class governing body to run a first class event there I am sorry I cannot just wait forever until people forget the names Wembley and Picketts Lock I think there is a good enough sales pitch to be made because the opportunity is now and I think we should go for it</td>\n",
       "            </tr>\n",
       "            <tr>\n",
       "                        <th id=\"T_f780c_level0_row3\" class=\"row_heading level0 row3\" >412</th>\n",
       "                        <td id=\"T_f780c_row3_col0\" class=\"data row3 col0\" >463</td>\n",
       "                        <td id=\"T_f780c_row3_col1\" class=\"data row3 col1\" >Olympics-All-PARS/NewChunk1/Jan_2003_-_Qs_62-79.txt</td>\n",
       "                        <td id=\"T_f780c_row3_col2\" class=\"data row3 col2\" >5</td>\n",
       "                        <td id=\"T_f780c_row3_col3\" class=\"data row3 col3\" >0.436825</td>\n",
       "                        <td id=\"T_f780c_row3_col4\" class=\"data row3 col4\" > So how would you estimate the likelihood of Paris doing wellMr Reedie The Paris bid last timeand I served on the IOCs Evaluation Commission looking at the five bids for was an attractive bid and it brought all of Pariss style and charm to the table in particular it bought a piece of ground at Stade de Nice close to the Stade de France on which they could develop a very complex city centre village It is my understanding that that ground is no longer available to them So if Paris come back into this race they will have to rethink their village concept and it is hugely beneficial to any bid to have your village close to the venue for the two major sports in population terms and that is athletics and swimming If you can build a village close to the main stadium with a swimming pool that is an advantage I have seen press reports of Pariss favouritism The first report seemed to me to be entirely wrong because it did not quote accurately what the author of the report said and recently there was a second report indicating that Paris might get somewhere over  votes in the first round That seems to me to be highly unlikely I would have thought at the moment just looking down the list of members and I insist this is only a personal view I could make a case for London and Paris being pretty equal in terms of attractions to the existing IOC members </td>\n",
       "            </tr>\n",
       "            <tr>\n",
       "                        <th id=\"T_f780c_level0_row4\" class=\"row_heading level0 row4\" >329</th>\n",
       "                        <td id=\"T_f780c_row4_col0\" class=\"data row4 col0\" >381</td>\n",
       "                        <td id=\"T_f780c_row4_col1\" class=\"data row4 col1\" >Olympics-All-PARS/NewChunk1/Jan_2003_-_Qs_200-220.txt</td>\n",
       "                        <td id=\"T_f780c_row4_col2\" class=\"data row4 col2\" >5</td>\n",
       "                        <td id=\"T_f780c_row4_col3\" class=\"data row4 col3\" >0.435442</td>\n",
       "                        <td id=\"T_f780c_row4_col4\" class=\"data row4 col4\" > I understand all of that Mr Draper but it gets us away from the point I am sorry to say it but the point now is the question mark over once again Sport Englands contribution to Wembley Stadium and the circumstances in which it was made Do you accept the decision which we have gone over many times is now back under questionMr Fytche No I do not accept that As I said earlier Sport England had a very clear objective for instance investment in the Wembley project and that was to create a stadium for three sports primarily football and rugby league but with the capability of conversion to athletics should that be needed by the people who make those decisions whether it is the World Athletics or an Olympic bid process That has always been extremely clear Despite all the diversions and financing issues Sport England has been consistent in its objectives for the project and has seen those through The project which is now moving ahead on site is precisely the project which delivered the objectives set out in the funding agreement in  So I think that Sport England and its Council have been very consistent in pursuing that despite all of the delays and all of the issues we know about and have gone over many times The issues which relate to whether or not Wembley forms the centrepiece of an Olympic bid again have always been very widely known and I am sure have been evaluated very clearly but those are questions for the BOA and its partners as it looks for the best bid if you like the bid which puts London in the best light in terms of the IOC criteria As John Scott has outlined they extend beyond the realms of the stadium and the sports facilities into the much wider debate about transport regeneration and security issues It is perfectly legitimate therefore for the Bid Committee and for the partners looking at those issues to take that much wider view at this moment in time</td>\n",
       "            </tr>\n",
       "            <tr>\n",
       "                        <th id=\"T_f780c_level0_row5\" class=\"row_heading level0 row5\" >15340</th>\n",
       "                        <td id=\"T_f780c_row5_col0\" class=\"data row5 col0\" >15646</td>\n",
       "                        <td id=\"T_f780c_row5_col1\" class=\"data row5 col1\" >Olympics-All-PARS/NewChunk5b/Lessons_from_Beijing_-_Oral_evidence_-Oct_2008.txt</td>\n",
       "                        <td id=\"T_f780c_row5_col2\" class=\"data row5 col2\" >5</td>\n",
       "                        <td id=\"T_f780c_row5_col3\" class=\"data row5 col3\" >0.432614</td>\n",
       "                        <td id=\"T_f780c_row5_col4\" class=\"data row5 col4\" >Lord Moynihan Yes we are committed to entering both a mens and womens Team GB football team in  but equally we respect and understand the deep feeling not least in Scotland and indeed in Wales and Northern Ireland and by some fan groups and those countries respective FAs about the implications or the potential implications for us moving forward with such an entry It is important that we listen it is important that we give all the FAs the confidence that their status in international football will not be detrimentally affected We need to work closely with them and we need to work with the IOC We are confident we can achieve the objective that we have set because it would be a huge disappointment to have an outstanding football competition in the Olympics and not allow our young people to be represented as part of Team GB but I would like to leave you with the very clear message that we do understand and respect their nervousness we do understand there are issues that need to be addressed and we will address them We are confident with the outcome which is one reason why the FA here in London is absolutely confident and supportive of entering a Team GB but we must respect listen carefully to and work closely with the home nation FAs to ensure that their position is not jeopardised as a result of an entry for both the mens and the womens and indeed just as we had a successful team at the Paralympics in Beijing the Paralympians will also I am sure be looking to enter a team again</td>\n",
       "            </tr>\n",
       "            <tr>\n",
       "                        <th id=\"T_f780c_level0_row6\" class=\"row_heading level0 row6\" >323</th>\n",
       "                        <td id=\"T_f780c_row6_col0\" class=\"data row6 col0\" >369</td>\n",
       "                        <td id=\"T_f780c_row6_col1\" class=\"data row6 col1\" >Olympics-All-PARS/NewChunk1/Jan_2003_-_Qs_200-220.txt</td>\n",
       "                        <td id=\"T_f780c_row6_col2\" class=\"data row6 col2\" >5</td>\n",
       "                        <td id=\"T_f780c_row6_col3\" class=\"data row6 col3\" >0.426217</td>\n",
       "                        <td id=\"T_f780c_row6_col4\" class=\"data row6 col4\" > If could follow that through I spent many hours looking over the Wembley contract documents in all the various reports into Wembley I have to express my concern because I am quite specific in my memory that in all of the discussions we had about the public money which was going into the Wembley project that it was tied to athletics and then a certain proportion of it was removed and we had all the discussions about the  million or so which may or may not be going back to Sport England because the athletics platform had been removed but it was specifically because Wembley was going to provide the base for an Olympic bid We are hearing something quite different now on which Mr Fytche gave us evidence in the previous enquiries and I do not remember any discussions at all about two evaluation bids an east bid and a west bidMr Fytche The question of the Wembley project and its objectives was very clear at the outset that it was a stadium for three sports primarily obviously for football and rugby league but with the capability of conversion to host these two major athletics events and that is a critical distinction The purpose of the project was to create that capability and therefore the option for the bidders of those events to use the stadium if at a subsequent time if they chose to bid it fitted in with the wider strategic context within which those bids would be put forward and that is a decision that clearly the BOA and its key stakeholders and government and the GLA have to grapple with and that obviously relates to some of the key issues that you have been exploring over the past couple of days on transport and the wider regeneration agenda</td>\n",
       "            </tr>\n",
       "            <tr>\n",
       "                        <th id=\"T_f780c_level0_row7\" class=\"row_heading level0 row7\" >1955</th>\n",
       "                        <td id=\"T_f780c_row7_col0\" class=\"data row7 col0\" >2010</td>\n",
       "                        <td id=\"T_f780c_row7_col1\" class=\"data row7 col1\" >Olympics-All-PARS/NewChunk2/Qs140-159.txt</td>\n",
       "                        <td id=\"T_f780c_row7_col2\" class=\"data row7 col2\" >5</td>\n",
       "                        <td id=\"T_f780c_row7_col3\" class=\"data row7 col3\" >0.406483</td>\n",
       "                        <td id=\"T_f780c_row7_col4\" class=\"data row7 col4\" >Q Alan Keen I have raised this with you before and I am going to keep on raising it I hope we are going to learn lessons as we go along When I say we I am talking about the world of sport not just this nation Two things have changed since I last asked you about it one is that we have won the bid so we can afford to maybe encourage the IOC to look at the future organisation of the Olympics in other nations and we should not wait until we have actually held the Games here before we press for changes But also it has been well illustrated the efforts we have had to put in to win the bid strengthens my argument even more How on earth can nations less developed than others actually ever hope to host the Olympics and should we not be using the resources of the developed world to try to help countries like South Africa and other nations not just swap it between the US Japan China The Olympic Village is something I have argued against before not argued against but said that we should relook at it We could have used Wembley Stadium for athletics but we cannot because of the village having to be close to the stadium Will we raise this with the IOC and have somebody thinking about future Olympics We can afford it because we are not going to defend the IOC any more and we do have to give other nations the opportunity Despite being from West London I am very happy for East London to be developed but there are parts of the world even more desperate than East London to be developed When I was boy there was nothing to do other than sport and under developed nations could benefit even more from having sporting facilities than we can in East London </td>\n",
       "            </tr>\n",
       "            <tr>\n",
       "                        <th id=\"T_f780c_level0_row8\" class=\"row_heading level0 row8\" >336</th>\n",
       "                        <td id=\"T_f780c_row8_col0\" class=\"data row8 col0\" >390</td>\n",
       "                        <td id=\"T_f780c_row8_col1\" class=\"data row8 col1\" >Olympics-All-PARS/NewChunk1/Jan_2003_-_Qs_200-220.txt</td>\n",
       "                        <td id=\"T_f780c_row8_col2\" class=\"data row8 col2\" >5</td>\n",
       "                        <td id=\"T_f780c_row8_col3\" class=\"data row8 col3\" >0.403780</td>\n",
       "                        <td id=\"T_f780c_row8_col4\" class=\"data row8 col4\" >Chairman Sir Rodney you have been totally honest and straightforward as one would always expect from you Nevertheless it has to be said that it astounds me and so far as I can gather it astounds colleagues in this Committee that at five oclock at the tail end of an inquiry this suddenly emerges into the light of day as an issue about which none of us was aware and I am not for an instant saying that anybody deliberately concealed it no it was worse than that it was a sin of omission In the last Parliament Mr David Faber put a huge amount of work into this but none of this emerged In this Parliament if I may say so among the rest of us Frank Doran has put a huge amount of work into this and if any member of the Committee were to have been aware of this above the rest of us it would have been Frank Doran So far as I can see it has come as as much a surprise to him as indeed to anybody else So far as I can tell but please correct me if I am wrong I believe Rosemary McKenna is right this new issue of a fundamental new turn in this inquiry of the emergence of the need for a new stadium simply because of its juxtaposition with the need for a village is a stipulation not of Sport England not of the Government but of the British Olympic Association who will not be putting a penny into the construction of any of this but will be giving a wishlist which we then have to obey </td>\n",
       "            </tr>\n",
       "            <tr>\n",
       "                        <th id=\"T_f780c_level0_row9\" class=\"row_heading level0 row9\" >325</th>\n",
       "                        <td id=\"T_f780c_row9_col0\" class=\"data row9 col0\" >371</td>\n",
       "                        <td id=\"T_f780c_row9_col1\" class=\"data row9 col1\" >Olympics-All-PARS/NewChunk1/Jan_2003_-_Qs_200-220.txt</td>\n",
       "                        <td id=\"T_f780c_row9_col2\" class=\"data row9 col2\" >5</td>\n",
       "                        <td id=\"T_f780c_row9_col3\" class=\"data row9 col3\" >0.403716</td>\n",
       "                        <td id=\"T_f780c_row9_col4\" class=\"data row9 col4\" > I was not too far out That is a huge amount of money Certainly I am fairly clear in my mind yes football and rugby were going to be the main generators of income for the stadium that we had the World Athletics Championships in  the primary reason I accept for the athletics component but it was going to be a launch pad for an Olympic bid and now we are somewhere very differentMr Fytche I think Sport Englands objectives for its investment in the project were always very clear It was a stadium for three sports but emphasising again there was the capability of hosting athletics should it come to the stadium and at the time the debate centred around whether or not there were proposals for a bid either for the World Athletics Championships or the Olympics It was not founded on the premise those events were committed and therefore coming it was always acknowledged there would be a wideranging analysis of the options for both the World Athletics and indeed the Olympics in the context of the wider agenda I would say those objectives which Sport England set out to achieve despite the welldocumented delays in the project which have largely been about making sure from our perspective we have this sustainable legacy and viability for the project in place have been achieved Clearly we have talked about Manchester a bit today and clearly within Manchester the same sort of issues arose but there was at that time the opportunity to have that wider cityregion debate and to ensure the stadium fitted into the wider regeneration framework and clearly that debate is now taking place within London to ensure the same thing happens here in the context of the wider Olympic bid as a whole not just the stadium</td>\n",
       "            </tr>\n",
       "    </tbody></table>"
      ],
      "text/plain": [
       "<pandas.io.formats.style.Styler at 0x1fe85e35130>"
      ]
     },
     "execution_count": 33,
     "metadata": {},
     "output_type": "execute_result"
    }
   ],
   "source": [
    "rank = 10                       #Set rank of for for topic \n",
    "topic = 5                        #Topic filter of the Highest ranked paragraphs\n",
    "\n",
    "#1.\tHighest N ranked paragraphs for topic K\n",
    "classifer_document[classifer_document['The Highest Probable Topic']==topic].nlargest(rank, 'Probability')\\\n",
    ".style.set_properties(**{'text-align' : 'center'}).set_properties(subset = ['Text'], **{'text-align' : 'left'})\\\n",
    ".set_caption('The Highest N ranked paragraphs for topic K')\\\n",
    ".set_table_styles([d])"
   ]
  },
  {
   "cell_type": "markdown",
   "metadata": {},
   "source": [
    "### 3.3.2 The Highest N ranked paragraphs overall"
   ]
  },
  {
   "cell_type": "code",
   "execution_count": 34,
   "metadata": {
    "scrolled": false
   },
   "outputs": [
    {
     "data": {
      "text/html": [
       "<style  type=\"text/css\" >\n",
       "    #T_c242b_ th {\n",
       "          text-align: center;\n",
       "    }#T_c242b_row0_col0,#T_c242b_row0_col1,#T_c242b_row0_col2,#T_c242b_row0_col3,#T_c242b_row1_col0,#T_c242b_row1_col1,#T_c242b_row1_col2,#T_c242b_row1_col3,#T_c242b_row2_col0,#T_c242b_row2_col1,#T_c242b_row2_col2,#T_c242b_row2_col3,#T_c242b_row3_col0,#T_c242b_row3_col1,#T_c242b_row3_col2,#T_c242b_row3_col3,#T_c242b_row4_col0,#T_c242b_row4_col1,#T_c242b_row4_col2,#T_c242b_row4_col3,#T_c242b_row5_col0,#T_c242b_row5_col1,#T_c242b_row5_col2,#T_c242b_row5_col3,#T_c242b_row6_col0,#T_c242b_row6_col1,#T_c242b_row6_col2,#T_c242b_row6_col3,#T_c242b_row7_col0,#T_c242b_row7_col1,#T_c242b_row7_col2,#T_c242b_row7_col3,#T_c242b_row8_col0,#T_c242b_row8_col1,#T_c242b_row8_col2,#T_c242b_row8_col3,#T_c242b_row9_col0,#T_c242b_row9_col1,#T_c242b_row9_col2,#T_c242b_row9_col3{\n",
       "            text-align:  center;\n",
       "        }#T_c242b_row0_col4,#T_c242b_row1_col4,#T_c242b_row2_col4,#T_c242b_row3_col4,#T_c242b_row4_col4,#T_c242b_row5_col4,#T_c242b_row6_col4,#T_c242b_row7_col4,#T_c242b_row8_col4,#T_c242b_row9_col4{\n",
       "            text-align:  center;\n",
       "            text-align:  left;\n",
       "        }</style><table id=\"T_c242b_\" ><caption>The Highest N ranked paragraphs overall</caption><thead>    <tr>        <th class=\"blank level0\" ></th>        <th class=\"col_heading level0 col0\" >Par No.</th>        <th class=\"col_heading level0 col1\" >Souce</th>        <th class=\"col_heading level0 col2\" >The Highest Probable Topic</th>        <th class=\"col_heading level0 col3\" >Probability</th>        <th class=\"col_heading level0 col4\" >Text</th>    </tr></thead><tbody>\n",
       "                <tr>\n",
       "                        <th id=\"T_c242b_level0_row0\" class=\"row_heading level0 row0\" >15756</th>\n",
       "                        <td id=\"T_c242b_row0_col0\" class=\"data row0 col0\" >16064</td>\n",
       "                        <td id=\"T_c242b_row0_col1\" class=\"data row0 col1\" >Olympics-All-PARS/NewChunk6/NAO_Preparations_for_the_Olympics_-_Progress_report_-_Feb_2010.pdf.txt</td>\n",
       "                        <td id=\"T_c242b_row0_col2\" class=\"data row0 col2\" >11</td>\n",
       "                        <td id=\"T_c242b_row0_col3\" class=\"data row0 col3\" >0.629932</td>\n",
       "                        <td id=\"T_c242b_row0_col4\" class=\"data row0 col4\" > The Delivery Authoritys Programme Baseline of November  set out the scope expected costs cash flow risks assumptions and key milestones for each of its projects and is the basis against which its costs will be reported for the life of the programme The scope of some projects has changed and new ones have been added with all changes requiring approval by the Delivery Authoritys Change Control Board which is attended by the Olympic Executive and material changes reported to the Olympic Projects Review Group Changes requiring a call on contingency are subject to approval under the arrangements set out in Appendix   The Delivery Authority reports the anticipated final cost of its programme each quarter to reflect approved changes cost pressures and savings opportunities During the second half of  the Delivery Authority produced a detailed report setting out the scope and cost of each project to reflect all changes to the Programme since November   As at December  the Delivery Authority had completed  per cent of its capital programme against a target of  per cent The capital programme includes Olympic venues and infrastructure capital transport projects the Olympic Village and post Games venue transformation work  The Delivery Authority has agreed completion dates for handover to LOCOG All  main construction and infrastructure projects are planned to complete to this timetable Three have been completed The Delivery Authority has also set itself more challenging target completion dates to accommodate any potential slippage in its delivery programme Of the remaining  projects seven are on target to meet these dates while seven will be completed after them but in time for handover Achieving handover dates is important to allow sufficient time for the preparation fit out of the venues for the Games where this is not the responsibility of the Delivery Authority and for testing and other preparations necessary before the Games</td>\n",
       "            </tr>\n",
       "            <tr>\n",
       "                        <th id=\"T_c242b_level0_row1\" class=\"row_heading level0 row1\" >13681</th>\n",
       "                        <td id=\"T_c242b_row1_col0\" class=\"data row1 col0\" >13984</td>\n",
       "                        <td id=\"T_c242b_row1_col1\" class=\"data row1 col1\" >Olympics-All-PARS/NewChunk5a/NAO_Preparations_for_the_Olympics_-_Progress_report_-_June_2008.pdf.txt</td>\n",
       "                        <td id=\"T_c242b_row1_col2\" class=\"data row1 col2\" >11</td>\n",
       "                        <td id=\"T_c242b_row1_col3\" class=\"data row1 col3\" >0.587476</td>\n",
       "                        <td id=\"T_c242b_row1_col4\" class=\"data row1 col4\" >n  million hereafter referred to as the Olympic Delivery Authority Programme Contingency is potentially available for Olympic Delivery Authority programme wide risks The Olympic Delivery Authoritys quantified risk assessment in November  indicated that at a level of  per cent probability a further  million in addition to the Authoritys base budget of  million would be sufficient to deliver the Authoritys planned programme Eighty per cent is a generally accepted industry standard Olympic Delivery Authority Programme Contingency relates to identified risks with the potential to impact on projects across the Authoritys programme for example risks concerning the interdependency of projects on the Olympic Park the impact of exchange rate fluctuations unexpected ground conditions and the availability of materials Arrangements for the management of the  million have been put in place by the Government Olympic Executive so that any application by the Olympic Delivery Authority for access to the Olympic Delivery Authority Programme Contingency will be subject to scrutiny by the Olympic Projects Review Group and approval by the Minister for the Olympics Release of the lottery funded element of Olympic Delivery Authority Programme Contingency is subject to approval by the Olympic Lottery Distributor</td>\n",
       "            </tr>\n",
       "            <tr>\n",
       "                        <th id=\"T_c242b_level0_row2\" class=\"row_heading level0 row2\" >9249</th>\n",
       "                        <td id=\"T_c242b_row2_col0\" class=\"data row2 col0\" >9523</td>\n",
       "                        <td id=\"T_c242b_row2_col1\" class=\"data row2 col1\" >Olympics-All-PARS/NewChunk4/NAO_Preparing_for_sporting_success_-_March_2008.pdf.txt</td>\n",
       "                        <td id=\"T_c242b_row2_col2\" class=\"data row2 col2\" >9</td>\n",
       "                        <td id=\"T_c242b_row2_col3\" class=\"data row2 col3\" >0.543071</td>\n",
       "                        <td id=\"T_c242b_row2_col4\" class=\"data row2 col4\" > The Committee of Public Accounts recommended in their  report that on the basis that the resources were known UK Sport should decide its medal table targets for  and reflect them in the targets it agreed with individual sports before reviewing those targets in the light of performance at Beijing in  UK Sports response to this recommendation in October  was that whilst an ultimate goal for both Olympic and Paralympic success had been identified no formal targets would be set until after a full review of performance in Beijing and the signing of a new funding agreement with the Department UK Sport has maintained this line and has still not set formal targets for individual sports or in aggregate for medal performance in the  Games Although the funding package was agreed on the basis that the Great Britain teams would achieve the objectives of finishing fourth in the Olympic medal table and second moving towards first in the Paralympic medal table UK Sport continues to describe these as ultimate goals It proposes only to set formal medal targets once it has had the opportunity to review with each sport their realistic expectations in the light of performance at the Beijing Games</td>\n",
       "            </tr>\n",
       "            <tr>\n",
       "                        <th id=\"T_c242b_level0_row3\" class=\"row_heading level0 row3\" >9696</th>\n",
       "                        <td id=\"T_c242b_row3_col0\" class=\"data row3 col0\" >9970</td>\n",
       "                        <td id=\"T_c242b_row3_col1\" class=\"data row3 col1\" >Olympics-All-PARS/NewChunk4/NAO_Preparing_for_sporting_success_-_March_2008.pdf.txt</td>\n",
       "                        <td id=\"T_c242b_row3_col2\" class=\"data row3 col2\" >9</td>\n",
       "                        <td id=\"T_c242b_row3_col3\" class=\"data row3 col3\" >0.539974</td>\n",
       "                        <td id=\"T_c242b_row3_col4\" class=\"data row3 col4\" >won  Olympic medals against a target of  medals  per cent and  Paralympic medals against a target of  medals  per cent and n at the Athens  Games the Great Britain team won  Olympic medals against a target of  medals  per cent and  Paralympic medals against a target of  medals  per cent  UK Sports targets for  and  were set in order to measure performance at elite events such as world championships in the years between the Olympic and Paralympic Games Our analysis suggests that although  per cent may be an appropriate level at which to set targets for the Games themselves it does not provide a meaningful measure of performance in the intervening years For Paralympic sports performance both at recent Paralympic Games and in the years between Games suggests that setting UK Sports targets at  per cent of those agreed with individual sports may be too low  As performance has significantly improved in a number of sports since the Athens Games in  there is scope both for the Department to review the targets it sets for UK Sport and for UK Sport to review the targets it sets for individual sports between Games to provide better measures of accountability and to ensure that continuous improvement towards the goals for London  is being made</td>\n",
       "            </tr>\n",
       "            <tr>\n",
       "                        <th id=\"T_c242b_level0_row4\" class=\"row_heading level0 row4\" >13985</th>\n",
       "                        <td id=\"T_c242b_row4_col0\" class=\"data row4 col0\" >14290</td>\n",
       "                        <td id=\"T_c242b_row4_col1\" class=\"data row4 col1\" >Olympics-All-PARS/NewChunk5a/NAO_Preparations_for_the_Olympics_-_Progress_report_-_June_2008.pdf.txt</td>\n",
       "                        <td id=\"T_c242b_row4_col2\" class=\"data row4 col2\" >11</td>\n",
       "                        <td id=\"T_c242b_row4_col3\" class=\"data row4 col3\" >0.538689</td>\n",
       "                        <td id=\"T_c242b_row4_col4\" class=\"data row4 col4\" > Management of the policing and wider security programme is the responsibility of the Home Office and is overseen by a Cabinet Office Committee chaired by the Home Secretary Figure  overleaf It is distinct from the responsibilities of the Olympic Delivery Authority for site security on the Olympic Park during construction on which we comment at paragraph  As part of its overall responsibility for Games security and under revised arrangements established in April  the Home Office has taken on responsibility for developing the overall costed safety and security plan operational planning for the security programme was previously headed by an Olympic Security Coordinator  the Assistant Commissioner of the Metropolitan Police The Home Office is supported by the Olympic Security Directorate based in the Metropolitan Police which brings together the various departments and agencies involved in providing safety security and resilience for the Games The Government Olympic Executives role is to keep the security arrangements closely aligned with the Olympic programme through its membership of the Home Offices Olympic Safety and Security Strategic Steering Group</td>\n",
       "            </tr>\n",
       "            <tr>\n",
       "                        <th id=\"T_c242b_level0_row5\" class=\"row_heading level0 row5\" >19387</th>\n",
       "                        <td id=\"T_c242b_row5_col0\" class=\"data row5 col0\" >19735</td>\n",
       "                        <td id=\"T_c242b_row5_col1\" class=\"data row5 col1\" >Olympics-All-PARS/NewChunk7/Oral_evidence_Dec_2010.pdf.txt</td>\n",
       "                        <td id=\"T_c242b_row5_col2\" class=\"data row5 col2\" >7</td>\n",
       "                        <td id=\"T_c242b_row5_col3\" class=\"data row5 col3\" >0.521311</td>\n",
       "                        <td id=\"T_c242b_row5_col4\" class=\"data row5 col4\" >Q Dr Coffey I do We have already touched on the budget and got the numbers sorted Are you condent that the security planning is on track Hugh Robertson Yes I am When I was the Opposition spokesman I was not condent of that I do not say that in a particularly party political way I remember chairing a security seminar at the Royal United Services Institute a couple of years ago and walking out of it thinking Heavens this just doesnt seem to be where it ought to be Since that period the Metropolitan police have caught up with their planning There is no doubt about it the advent of Pauline NevilleJones has been a thoroughly good thing for this process She reviewed it all when she took over and we are now absolutely condent sitting here that security planning is where it ought to be That said this touches on the answer I gave earlieronly a fool would pretend that the fact that we are condent now means that we can be condent that we will be safe in  because it is a fastmoving feast Even in the seven months that the coalition Government have been in power we have seen a very considerable increase in the dissident Republican threat across the water Were beginning to understand much better how the alQaeda franchises workparticularly alQaeda on the Arabian Peninsulaand how those threats are likely to be delivered That threat will continue to evolve and move as we get closer to London  I think that sometimes in this country we are in danger of underplaying the expertise we have in security I was conscious of it when I was serving in the Army and I am conscious of it now as a Minister dealing with the security forces Our special forces and our security forces in this country are very good as are the police when it comes to this sort of thing So I can only say that I am as condent as one could be at this stage that we are where we ought to be against the challenging backdrop</td>\n",
       "            </tr>\n",
       "            <tr>\n",
       "                        <th id=\"T_c242b_level0_row6\" class=\"row_heading level0 row6\" >332</th>\n",
       "                        <td id=\"T_c242b_row6_col0\" class=\"data row6 col0\" >384</td>\n",
       "                        <td id=\"T_c242b_row6_col1\" class=\"data row6 col1\" >Olympics-All-PARS/NewChunk1/Jan_2003_-_Qs_200-220.txt</td>\n",
       "                        <td id=\"T_c242b_row6_col2\" class=\"data row6 col2\" >5</td>\n",
       "                        <td id=\"T_c242b_row6_col3\" class=\"data row6 col3\" >0.521171</td>\n",
       "                        <td id=\"T_c242b_row6_col4\" class=\"data row6 col4\" > This just will not do It really will not do Mr Cunnahs letter is a clear helpful letter totally credible as far as I can see I would not fault a word of it What I want to be clear about on behalf of the Committee is this when Sport England gave  million to FAWNSL to build a dual use stadium on the Wembley site with the intention of its being the centrepiece stadiumbecause that was the basis upon which it was given and why the decision was made and why all the arguments about dual use and Picketts Lock and Mr Chris Smiths kitchen and all the rest of it came upto house the  Olympic Games should we get them did Sport England at that time know that there would be a problem with the location of the village If it did not know it is culpable If it did know it is culpable But I would like to know one way or the other what the position wasMr Fytche The position was that Sport England invested in a project as I said before to create the opportunity for it to form the centrepiece of the bid should the Bid Committee consider that to be the best option You will find going back to those days in  and the launch of the project which you mentioned the BOA themselves were talking about the potential for Wembley to be the centrepiece of the bid All parties involved in the debate at that time acknowledged Wembley could be the centrepiece of the bid It was later that the issues relating to athletics and Picketts Lock arose but at the time the decisions were taken around Wembley it was clear that all parties felt that Wembley could be the centrepiece and therefore no issues relating to the position of the village visavis Wembley were problematic to it going forward at that stage</td>\n",
       "            </tr>\n",
       "            <tr>\n",
       "                        <th id=\"T_c242b_level0_row7\" class=\"row_heading level0 row7\" >9225</th>\n",
       "                        <td id=\"T_c242b_row7_col0\" class=\"data row7 col0\" >9499</td>\n",
       "                        <td id=\"T_c242b_row7_col1\" class=\"data row7 col1\" >Olympics-All-PARS/NewChunk4/NAO_Preparing_for_sporting_success_-_March_2008.pdf.txt</td>\n",
       "                        <td id=\"T_c242b_row7_col2\" class=\"data row7 col2\" >9</td>\n",
       "                        <td id=\"T_c242b_row7_col3\" class=\"data row7 col3\" >0.518636</td>\n",
       "                        <td id=\"T_c242b_row7_col4\" class=\"data row7 col4\" > At the Olympic and Paralympic Games athletes from the United Kingdom compete together as the Great Britain and Northern Ireland teams referred to in this report hereafter as the Great Britain teams The Department and UK Sports aims for elite performance at the London  Games described by UK Sport as ultimate goals are for the Great Britain teams to finish fourth in the Olympic medal table and second moving towards first in the Paralympic medal table To achieve fourth place in the Olympic medal table the Great Britain team will need to improve by six places on its final position of tenth at the Athens Olympics in  which UK Sport considers will require almost doubling the number of gold medals from nine to at least  UK Sport is also aiming to build an improved and lasting system of support for elite athletes including coaching and sports science and medicine and training support which will be sustainable beyond the  Games</td>\n",
       "            </tr>\n",
       "            <tr>\n",
       "                        <th id=\"T_c242b_level0_row8\" class=\"row_heading level0 row8\" >9246</th>\n",
       "                        <td id=\"T_c242b_row8_col0\" class=\"data row8 col0\" >9520</td>\n",
       "                        <td id=\"T_c242b_row8_col1\" class=\"data row8 col1\" >Olympics-All-PARS/NewChunk4/NAO_Preparing_for_sporting_success_-_March_2008.pdf.txt</td>\n",
       "                        <td id=\"T_c242b_row8_col2\" class=\"data row8 col2\" >9</td>\n",
       "                        <td id=\"T_c242b_row8_col3\" class=\"data row8 col3\" >0.517949</td>\n",
       "                        <td id=\"T_c242b_row8_col4\" class=\"data row8 col4\" > UK Sports ultimate goals for medal success at the London  Games will require a step change in performance amongst elite athletes The achievements of athletes at recent elite international events in a number of sports including sailing cycling rowing boxing disability equestrian and disability shooting suggest that performance levels in some sports are already improving significantly Following increased spending on elite sport host nations can typically expect to win an extra six or seven gold medals at an Olympic Games and to win medals across a wider range of sports This host nation effect would not in itself be enough to deliver UK Sports Olympic goal which is likely to require an improvement of eight or nine gold medals over the Great Britain teams performance at the Athens Games in  if the relative performance of other nations remained the same Changes in the performance of other nations since  especially in the context of a general trend of increased spending on elite sport sometimes referred to as a global sporting arms race may also have implications for UK Sport in delivering its medal aspirations</td>\n",
       "            </tr>\n",
       "            <tr>\n",
       "                        <th id=\"T_c242b_level0_row9\" class=\"row_heading level0 row9\" >14189</th>\n",
       "                        <td id=\"T_c242b_row9_col0\" class=\"data row9 col0\" >14494</td>\n",
       "                        <td id=\"T_c242b_row9_col1\" class=\"data row9 col1\" >Olympics-All-PARS/NewChunk5a/NAO_Preparations_for_the_Olympics_-_Progress_report_-_June_2008.pdf.txt</td>\n",
       "                        <td id=\"T_c242b_row9_col2\" class=\"data row9 col2\" >11</td>\n",
       "                        <td id=\"T_c242b_row9_col3\" class=\"data row9 col3\" >0.513398</td>\n",
       "                        <td id=\"T_c242b_row9_col4\" class=\"data row9 col4\" > The Authority held a series of clarification meetings with Balfour Beatty over several months to clarify risk and scope enabling the Authority to agree a target cost for the contract which was signed in late March  Subsequently the potential need for up to  million for athlete facilities outside the Aquatics centre itself has been identified and so the Authority currently forecasts total potential costs of  million for the Aquatics centre and F Bridge combined which includes the contract sum overheads Delivery Partner direct fees project contingency VAT and inflation While the potential final cost at March  was  million the budget remains at  million and the Olympic Delivery Authority is working to identify cost savings to keep within the budget Figure  shows the movement in the Olympic Delivery Authoritys cost estimates for the Aquatics Centre and F Bridge since the March  budget including the allocation of programme contingency funds included within the March  budget to meet known financial pressures across the programme</td>\n",
       "            </tr>\n",
       "    </tbody></table>"
      ],
      "text/plain": [
       "<pandas.io.formats.style.Styler at 0x1fe85d5a7c0>"
      ]
     },
     "execution_count": 34,
     "metadata": {},
     "output_type": "execute_result"
    }
   ],
   "source": [
    "rank = 10                          #Set rank of for for topic \n",
    "\n",
    "#2.\tHighest N ranked paragraphs overall\n",
    "classifer_document.nlargest(rank, 'Probability')\\\n",
    ".style.set_properties(**{'text-align' : 'center'}).set_properties(subset = ['Text'], **{'text-align' : 'left'})\\\n",
    ".set_caption('The Highest N ranked paragraphs overall')\\\n",
    ".set_table_styles([d])"
   ]
  },
  {
   "cell_type": "markdown",
   "metadata": {},
   "source": [
    "### 3.3.3 The Highest N ranked paragraphs from each topic"
   ]
  },
  {
   "cell_type": "code",
   "execution_count": 35,
   "metadata": {
    "scrolled": false
   },
   "outputs": [
    {
     "data": {
      "text/html": [
       "<style  type=\"text/css\" >\n",
       "    #T_849bb_ th {\n",
       "          text-align: center;\n",
       "    }#T_849bb_row0_col0,#T_849bb_row0_col1,#T_849bb_row0_col2,#T_849bb_row0_col3,#T_849bb_row1_col0,#T_849bb_row1_col1,#T_849bb_row1_col2,#T_849bb_row1_col3,#T_849bb_row2_col0,#T_849bb_row2_col1,#T_849bb_row2_col2,#T_849bb_row2_col3,#T_849bb_row3_col0,#T_849bb_row3_col1,#T_849bb_row3_col2,#T_849bb_row3_col3,#T_849bb_row4_col0,#T_849bb_row4_col1,#T_849bb_row4_col2,#T_849bb_row4_col3,#T_849bb_row5_col0,#T_849bb_row5_col1,#T_849bb_row5_col2,#T_849bb_row5_col3,#T_849bb_row6_col0,#T_849bb_row6_col1,#T_849bb_row6_col2,#T_849bb_row6_col3,#T_849bb_row7_col0,#T_849bb_row7_col1,#T_849bb_row7_col2,#T_849bb_row7_col3,#T_849bb_row8_col0,#T_849bb_row8_col1,#T_849bb_row8_col2,#T_849bb_row8_col3,#T_849bb_row9_col0,#T_849bb_row9_col1,#T_849bb_row9_col2,#T_849bb_row9_col3,#T_849bb_row10_col0,#T_849bb_row10_col1,#T_849bb_row10_col2,#T_849bb_row10_col3,#T_849bb_row11_col0,#T_849bb_row11_col1,#T_849bb_row11_col2,#T_849bb_row11_col3,#T_849bb_row12_col0,#T_849bb_row12_col1,#T_849bb_row12_col2,#T_849bb_row12_col3,#T_849bb_row13_col0,#T_849bb_row13_col1,#T_849bb_row13_col2,#T_849bb_row13_col3,#T_849bb_row14_col0,#T_849bb_row14_col1,#T_849bb_row14_col2,#T_849bb_row14_col3,#T_849bb_row15_col0,#T_849bb_row15_col1,#T_849bb_row15_col2,#T_849bb_row15_col3,#T_849bb_row16_col0,#T_849bb_row16_col1,#T_849bb_row16_col2,#T_849bb_row16_col3,#T_849bb_row17_col0,#T_849bb_row17_col1,#T_849bb_row17_col2,#T_849bb_row17_col3,#T_849bb_row18_col0,#T_849bb_row18_col1,#T_849bb_row18_col2,#T_849bb_row18_col3,#T_849bb_row19_col0,#T_849bb_row19_col1,#T_849bb_row19_col2,#T_849bb_row19_col3,#T_849bb_row20_col0,#T_849bb_row20_col1,#T_849bb_row20_col2,#T_849bb_row20_col3,#T_849bb_row21_col0,#T_849bb_row21_col1,#T_849bb_row21_col2,#T_849bb_row21_col3,#T_849bb_row22_col0,#T_849bb_row22_col1,#T_849bb_row22_col2,#T_849bb_row22_col3,#T_849bb_row23_col0,#T_849bb_row23_col1,#T_849bb_row23_col2,#T_849bb_row23_col3,#T_849bb_row24_col0,#T_849bb_row24_col1,#T_849bb_row24_col2,#T_849bb_row24_col3,#T_849bb_row25_col0,#T_849bb_row25_col1,#T_849bb_row25_col2,#T_849bb_row25_col3,#T_849bb_row26_col0,#T_849bb_row26_col1,#T_849bb_row26_col2,#T_849bb_row26_col3,#T_849bb_row27_col0,#T_849bb_row27_col1,#T_849bb_row27_col2,#T_849bb_row27_col3,#T_849bb_row28_col0,#T_849bb_row28_col1,#T_849bb_row28_col2,#T_849bb_row28_col3,#T_849bb_row29_col0,#T_849bb_row29_col1,#T_849bb_row29_col2,#T_849bb_row29_col3,#T_849bb_row30_col0,#T_849bb_row30_col1,#T_849bb_row30_col2,#T_849bb_row30_col3,#T_849bb_row31_col0,#T_849bb_row31_col1,#T_849bb_row31_col2,#T_849bb_row31_col3,#T_849bb_row32_col0,#T_849bb_row32_col1,#T_849bb_row32_col2,#T_849bb_row32_col3{\n",
       "            text-align:  center;\n",
       "        }#T_849bb_row0_col4,#T_849bb_row1_col4,#T_849bb_row2_col4,#T_849bb_row3_col4,#T_849bb_row4_col4,#T_849bb_row5_col4,#T_849bb_row6_col4,#T_849bb_row7_col4,#T_849bb_row8_col4,#T_849bb_row9_col4,#T_849bb_row10_col4,#T_849bb_row11_col4,#T_849bb_row12_col4,#T_849bb_row13_col4,#T_849bb_row14_col4,#T_849bb_row15_col4,#T_849bb_row16_col4,#T_849bb_row17_col4,#T_849bb_row18_col4,#T_849bb_row19_col4,#T_849bb_row20_col4,#T_849bb_row21_col4,#T_849bb_row22_col4,#T_849bb_row23_col4,#T_849bb_row24_col4,#T_849bb_row25_col4,#T_849bb_row26_col4,#T_849bb_row27_col4,#T_849bb_row28_col4,#T_849bb_row29_col4,#T_849bb_row30_col4,#T_849bb_row31_col4,#T_849bb_row32_col4{\n",
       "            text-align:  center;\n",
       "            text-align:  left;\n",
       "        }</style><table id=\"T_849bb_\" ><caption>The Highest N ranked paragraphs from each topic</caption><thead>    <tr>        <th class=\"blank\" ></th>        <th class=\"blank level0\" ></th>        <th class=\"col_heading level0 col0\" >Par No.</th>        <th class=\"col_heading level0 col1\" >Souce</th>        <th class=\"col_heading level0 col2\" >The Highest Probable Topic</th>        <th class=\"col_heading level0 col3\" >Probability</th>        <th class=\"col_heading level0 col4\" >Text</th>    </tr>    <tr>        <th class=\"index_name level0\" >The Highest Probable Topic</th>        <th class=\"index_name level1\" ></th>        <th class=\"blank\" ></th>        <th class=\"blank\" ></th>        <th class=\"blank\" ></th>        <th class=\"blank\" ></th>        <th class=\"blank\" ></th>    </tr></thead><tbody>\n",
       "                <tr>\n",
       "                        <th id=\"T_849bb_level0_row0\" class=\"row_heading level0 row0\" rowspan=\"3\">1</th>\n",
       "                        <th id=\"T_849bb_level1_row0\" class=\"row_heading level1 row0\" >20192</th>\n",
       "                        <td id=\"T_849bb_row0_col0\" class=\"data row0 col0\" >20536</td>\n",
       "                        <td id=\"T_849bb_row0_col1\" class=\"data row0 col1\" >Olympics-All-PARS/NewChunk7/PAC_26_April_2012_-_Olympic_Costs_-_corrected_evidence_(no_report).txt</td>\n",
       "                        <td id=\"T_849bb_row0_col2\" class=\"data row0 col2\" >1</td>\n",
       "                        <td id=\"T_849bb_row0_col3\" class=\"data row0 col3\" >0.483274</td>\n",
       "                        <td id=\"T_849bb_row0_col4\" class=\"data row0 col4\" >So we end up with an estimate not of the most likely cost of the project which is what the burden of paragraph  of the PAC Report understands it is but an estimate of how much we would need to set aside in the very unlikely event that all risks arise and some more unknown risks arise as well The purpose of that is not to get to an estimate of the likely outcome of the budget Its purpose and why we do it is to see against any reasonable view of the likely risk that might arise even on an assumption that they all arise and some more unknown risks arise whether we have enough money The conclusion has always been yes we had Against what is therefore in my view a conservative and prudent estimate we had  million headroom at the time of the NAO Report We had more and indeed the picture over the sixmonth period since the original figures on which the NAO was recording this is that the contingency has gone down by  million or sowe reckon because these are provisional figures but I want to give our best figuresand the assessed risks on that very conservative and prudent basis have gone down by  million So the picture on the budget as a whole is that we are spending contingency significantly slower than risks are disappearing from the programme That is why without in any sense being complacent I am confident that we will bring this in within budget and I do not think that the budget is close to being used up</td>\n",
       "            </tr>\n",
       "            <tr>\n",
       "                                <th id=\"T_849bb_level1_row1\" class=\"row_heading level1 row1\" >190</th>\n",
       "                        <td id=\"T_849bb_row1_col0\" class=\"data row1 col0\" >212</td>\n",
       "                        <td id=\"T_849bb_row1_col1\" class=\"data row1 col1\" >Olympics-All-PARS/NewChunk1/Jan_2003_-_Qs_140-159.txt</td>\n",
       "                        <td id=\"T_849bb_row1_col2\" class=\"data row1 col2\" >1</td>\n",
       "                        <td id=\"T_849bb_row1_col3\" class=\"data row1 col3\" >0.445826</td>\n",
       "                        <td id=\"T_849bb_row1_col4\" class=\"data row1 col4\" > I raised this in the House yesterday but the Chancellor of the Exchequer had a Doomsday Book created in July  of all the assets that the UK owns and if we are concerned as a Government that we do not want to foist a London bid on the taxpayer what analysis has been done on what we do own in the Doomsday Book For instance taking one particular example we talked and then put back and then opened the privatisation of Channel  which in todays terms might be worth between  million and  billion and presumably there are    jewels like that in the Doomsday book What analysis have we done of what that Doomsday Book has in it so that if we have to find  billion or  billion we could at least look at that BookTessa Jowell Let me begin by saying that we have had an enormous amount of help from the Treasury in the work we are doing on the figures in relation to this and a Treasury official was an observer on the Arup group which developed the first figures and we have had a lot of Treasury assistance in helping refine and develop those figures On your question about Channel  let me make absolutely clear that we have as a Government a manifesto commitment that we will not sell Channel  and we are not looking to sell existing assets in order to finance an Olympic Games We are looking at the available sources of public income in the broadest possible sense However we have to accept that at the end of the day the provider of last resort is the taxpayer and that is why we are looking at this very much in the context of this underwriting of an Olympic bid and as being potentially a major public expenditure commitment that would have to be set alongside the commitment to building new hospitals new schools and so forth all the priorities that our Government was elected to deliver</td>\n",
       "            </tr>\n",
       "            <tr>\n",
       "                                <th id=\"T_849bb_level1_row2\" class=\"row_heading level1 row2\" >20284</th>\n",
       "                        <td id=\"T_849bb_row2_col0\" class=\"data row2 col0\" >20628</td>\n",
       "                        <td id=\"T_849bb_row2_col1\" class=\"data row2 col1\" >Olympics-All-PARS/NewChunk7/PAC_26_April_2012_-_Olympic_Costs_-_corrected_evidence_(no_report).txt</td>\n",
       "                        <td id=\"T_849bb_row2_col2\" class=\"data row2 col2\" >1</td>\n",
       "                        <td id=\"T_849bb_row2_col3\" class=\"data row2 col3\" >0.438773</td>\n",
       "                        <td id=\"T_849bb_row2_col4\" class=\"data row2 col4\" >Jonathan StephensThere are two aspects to risk likelihood and impact What we are saying is that we made no estimate of likelihood we just wrote in a  likelihood of all the risks we could think of and some unknown risks that we could not think of We then looked at impact and on impact we said If this risk were to materialisewe are assuming a  likelihood that it materialiseswhat is the likely cost That is where you get the low the most likely outcome and the high outcome When you add those together you do not get to an outcome of What is the most likely expenditure on the programme you get to an outcome of If all conceivable risks arise plus some unknown risks that we cannot identify what is the likely expenditure That is a conservative and prudent view of Do we have enough contingency left if all those risks arise In practice they wont all arise It is conceivable that some will arise but it is pretty unlikely that all of them will arise It is perfectly conceivable that some individual risk will arise at a higher estimate than the most likely estimate but the prospect of all those risks arising is unlikely The prospect of them all arising at the very highest possible cost is so unlikely as to not provide a good basis for planning I am sorry I am going on at some length but there is a real point</td>\n",
       "            </tr>\n",
       "            <tr>\n",
       "                        <th id=\"T_849bb_level0_row3\" class=\"row_heading level0 row3\" rowspan=\"3\">2</th>\n",
       "                        <th id=\"T_849bb_level1_row3\" class=\"row_heading level1 row3\" >5869</th>\n",
       "                        <td id=\"T_849bb_row3_col0\" class=\"data row3 col0\" >6122</td>\n",
       "                        <td id=\"T_849bb_row3_col1\" class=\"data row3 col1\" >Olympics-All-PARS/NewChunk3/Report_and_Minutes_-_Jan_2007.pdf.txt</td>\n",
       "                        <td id=\"T_849bb_row3_col2\" class=\"data row3 col2\" >2</td>\n",
       "                        <td id=\"T_849bb_row3_col3\" class=\"data row3 col3\" >0.508202</td>\n",
       "                        <td id=\"T_849bb_row3_col4\" class=\"data row3 col4\" > The potential for a further call on the National Lottery Distribution Fund above the  million foreseen in  when the funding package was drawn up has never been ruled out by Secretary of State Indeed she reiterated to the Committee both in July  and in November that she would be prepared to draw further on Lottery revenues Any such transfer would be under an order subject to affirmative resolution in Parliament The Explanatory Notes provided by the Government to the Horserace Betting and Olympic Lottery Act  state that such an order under section  of the Act would be made only in exceptional circumstances We note the warning from the Lottery Forum that any such requirement for additional Lottery funding would reduce NLDF distributors ability to deliver a full and balanced portfolio of activity We received evidence in our recent inquiry into heritage about the damaging impact on the Heritage Lottery Fund of the reduction in Lottery income this impact is likely to be equally matched in the arts and voluntary sectors A further transfer of Lottery revenues from the National Lottery Distribution Fund to the Olympic Lottery Distribution Fund above the  million already identified would penalise good causes yet further We believe that any further diversion of money from the Lottery would reduce the money available for each of the good causes and it is not our preferred option for funding any overspend</td>\n",
       "            </tr>\n",
       "            <tr>\n",
       "                                <th id=\"T_849bb_level1_row4\" class=\"row_heading level1 row4\" >6531</th>\n",
       "                        <td id=\"T_849bb_row4_col0\" class=\"data row4 col0\" >6794</td>\n",
       "                        <td id=\"T_849bb_row4_col1\" class=\"data row4 col1\" >Olympics-All-PARS/NewChunk3/Report_and_Minutes_-_Jan_2007_-_vol_2_-_evidence.pdf.txt</td>\n",
       "                        <td id=\"T_849bb_row4_col2\" class=\"data row4 col2\" >2</td>\n",
       "                        <td id=\"T_849bb_row4_col3\" class=\"data row4 col3\" >0.426563</td>\n",
       "                        <td id=\"T_849bb_row4_col4\" class=\"data row4 col4\" >Nevertheless any shortfall in income would cause problems in future years as the ODAs needs grow In future years OLD will not have unspent income to cushion it from variations in the performance of the Games allocated to the OLDF There are three strategies to mitigate impacts of a shortfall The rst is to ensure that there is close liaison between ODA OLD the National Lottery Commission and the operator of the National Lottery so that there is a clear understanding of the projected income and expenditure of OLD This should ensure that ample warning is given of any cashow problems The second is to revise the shares of income from specic games going to the NLDF and the OLDF This would be a temporary measure which could assist in overcoming temporary cashow diYculties It simply brings forward the point at which the  million target is reached Whilst such transfers would not increase the overall nancial impact of the OLD on other Lottery Distributors they could concentrate those impacts and reduce income within the year possibly creating planning diYculties for other Distributors This is not therefore an ideal solution from the point of view of OLD and we are also mindful that the National Lottery Commission will rightly scrutinise such proposals carefully for this reason The third strategy is to ensure that alternate sources of funding are identied and secured in good time</td>\n",
       "            </tr>\n",
       "            <tr>\n",
       "                                <th id=\"T_849bb_level1_row5\" class=\"row_heading level1 row5\" >5864</th>\n",
       "                        <td id=\"T_849bb_row5_col0\" class=\"data row5 col0\" >6117</td>\n",
       "                        <td id=\"T_849bb_row5_col1\" class=\"data row5 col1\" >Olympics-All-PARS/NewChunk3/Report_and_Minutes_-_Jan_2007.pdf.txt</td>\n",
       "                        <td id=\"T_849bb_row5_col2\" class=\"data row5 col2\" >2</td>\n",
       "                        <td id=\"T_849bb_row5_col3\" class=\"data row5 col3\" >0.399009</td>\n",
       "                        <td id=\"T_849bb_row5_col4\" class=\"data row5 col4\" > The Lottery Forum which represents Lottery distributors which operate either within England only or across the whole of the UK has urged DCMS to clarify exactly how that transfer of  million from the NLDF to the OLDF will be effected so that the distributors which will suffer a reduction in income can plan their future funding programmes and promote them We invited the Secretary of State to give more detail of how the  million would be raised She answered that the sum would be topsliced from the NLDF between  and  adding that that will have an impact of reducing the amount because it will be shared equally across all the distributors that they have for good causes by about  million She subsequently stated however that she had no recollection of using a figure of  million and our view is that the comment should be disregarded We are more concerned by her statement that no final decision had yet been taken on how and when to transfer the  million DCMS should explain without delay how it plans to carry out the further transfer of funds from the National Lottery Distribution Fund to the Olympic Lottery Distribution Fund so that the effect upon distributors is made clear</td>\n",
       "            </tr>\n",
       "            <tr>\n",
       "                        <th id=\"T_849bb_level0_row6\" class=\"row_heading level0 row6\" rowspan=\"3\">3</th>\n",
       "                        <th id=\"T_849bb_level1_row6\" class=\"row_heading level1 row6\" >17997</th>\n",
       "                        <td id=\"T_849bb_row6_col0\" class=\"data row6 col0\" >18329</td>\n",
       "                        <td id=\"T_849bb_row6_col1\" class=\"data row6 col1\" >Olympics-All-PARS/NewChunk6/Written_evidence_submitted_by_Olympic_Park_Legacy_Company_-_Feb_2010.txt</td>\n",
       "                        <td id=\"T_849bb_row6_col2\" class=\"data row6 col2\" >3</td>\n",
       "                        <td id=\"T_849bb_row6_col3\" class=\"data row6 col3\" >0.318504</td>\n",
       "                        <td id=\"T_849bb_row6_col4\" class=\"data row6 col4\" >Ranjit Singh Baxi is one of the UKs most highly regarded Asian business leaders His own business JandH Sales based in Redbridge exports waste paper from Europe the UK and USA to the Indian subcontinent and the Far East and has become one of the leading recycling export companies in Europe Ranjit is also a Divisional President of the Bureau of International Recycling an international trade federation based in Brussels and a Non Executive Director of Think London A Governor of the University of East London Ranjit is actively involved with the UK Punjabi Community and is the President of the World Punjabi Organisation  European Division</td>\n",
       "            </tr>\n",
       "            <tr>\n",
       "                                <th id=\"T_849bb_level1_row7\" class=\"row_heading level1 row7\" >622</th>\n",
       "                        <td id=\"T_849bb_row7_col0\" class=\"data row7 col0\" >673</td>\n",
       "                        <td id=\"T_849bb_row7_col1\" class=\"data row7 col1\" >Olympics-All-PARS/NewChunk1/Written_evidence_-_Appendix_15_-_English_Tourism_Council.txt</td>\n",
       "                        <td id=\"T_849bb_row7_col2\" class=\"data row7 col2\" >3</td>\n",
       "                        <td id=\"T_849bb_row7_col3\" class=\"data row7 col3\" >0.298196</td>\n",
       "                        <td id=\"T_849bb_row7_col4\" class=\"data row7 col4\" > Sports tourism provides huge direct and indirect economic benefits The  Commonwealth Games created a substantial boost for tourism to Manchester and the region and enhanced the image of both the North West and Britain as a whole Staging the Commonwealth Games generated  additional visitors  Fulltime equivalent jobs with immense direct and indirect knockon effects for the local economy Holding a Six Nations international match at Murrayfield in Edinburgh creates an injection of around  million for Scotland</td>\n",
       "            </tr>\n",
       "            <tr>\n",
       "                                <th id=\"T_849bb_level1_row8\" class=\"row_heading level1 row8\" >716</th>\n",
       "                        <td id=\"T_849bb_row8_col0\" class=\"data row8 col0\" >767</td>\n",
       "                        <td id=\"T_849bb_row8_col1\" class=\"data row8 col1\" >Olympics-All-PARS/NewChunk1/Written_evidence_-_Appendix_18_-North_and_East_London_Sports_Network.txt</td>\n",
       "                        <td id=\"T_849bb_row8_col2\" class=\"data row8 col2\" >3</td>\n",
       "                        <td id=\"T_849bb_row8_col3\" class=\"data row8 col3\" >0.280665</td>\n",
       "                        <td id=\"T_849bb_row8_col4\" class=\"data row8 col4\" > Economic assessments have been thoroughly carried out The Arup Report estimated that economic benefits could bring a surplus of several hundred million Although the overall net costs of the physical infrastructure and costs of staging the Games exceed the revenue by  million conservative estimates of the wider quantifiable benefits mainly from tourism could result in a surplus Furthermore unquantifiable benefits include national prestige legacy of facilities sports development programmes and participation promotion of the cultural diversity of London and improvements to social cohesion and leverage of inward investment opportunities</td>\n",
       "            </tr>\n",
       "            <tr>\n",
       "                        <th id=\"T_849bb_level0_row9\" class=\"row_heading level0 row9\" rowspan=\"3\">4</th>\n",
       "                        <th id=\"T_849bb_level1_row9\" class=\"row_heading level1 row9\" >11215</th>\n",
       "                        <td id=\"T_849bb_row9_col0\" class=\"data row9 col0\" >11493</td>\n",
       "                        <td id=\"T_849bb_row9_col1\" class=\"data row9 col1\" >Olympics-All-PARS/NewChunk4/The_next_lap_-_April_2008_-_vol_2.pdf.txt</td>\n",
       "                        <td id=\"T_849bb_row9_col2\" class=\"data row9 col2\" >4</td>\n",
       "                        <td id=\"T_849bb_row9_col3\" class=\"data row9 col3\" >0.427396</td>\n",
       "                        <td id=\"T_849bb_row9_col4\" class=\"data row9 col4\" >Q Adam Price Do you share these concerns in swimming Mr Sparkes Our position is basically obviously Sir Clive brings a wealth of experience and talent from the high performance arena What we are interested in is winning and getting gold medals We are interested to listen to Clives ideas because clearly he may have something that is worth listening to What we have done is undertaken a series of meetings Clive is now meeting with our performance directors to work out how his ideas might be transferred into reality We have got a particularly precocious talent in diving down in Plymouth We have just brought a Chinese diving coach in to work with that diver alongside their existing coach and we are very hopeful He is a  yearold lad performing incredibly diYcult dives far more than I would do and he is potentially someone who could be a worldbeater in London Clearly to win a diving medal in London would be something spectacular We are excited by that and we are interested to see how Sir Clives ideas might work in that environment We have to also temper that and ask ourselves how that impacts on other divers training in Southampton SheYeld and so on so it is working that out Certainly our performance director who is leading the swimming programme is interested to see how Clives ideas might work in the scenario of a relay team as opposed to working with individuals That is a diVerent twist on the story I think at this stage we are a bit like athleticswe are prepared to listen to anyone who has got some ideas but at the end of the day the buck stops with us you would hold us accountable for what we deliver and at the end of the day our performance director has to be accountable for the medals they put on the table We do not take any prisoners on that we accept that that is where we are</td>\n",
       "            </tr>\n",
       "            <tr>\n",
       "                                <th id=\"T_849bb_level1_row10\" class=\"row_heading level1 row10\" >11167</th>\n",
       "                        <td id=\"T_849bb_row10_col0\" class=\"data row10 col0\" >11441</td>\n",
       "                        <td id=\"T_849bb_row10_col1\" class=\"data row10 col1\" >Olympics-All-PARS/NewChunk4/The_next_lap_-_April_2008_-_vol_2.pdf.txt</td>\n",
       "                        <td id=\"T_849bb_row10_col2\" class=\"data row10 col2\" >4</td>\n",
       "                        <td id=\"T_849bb_row10_col3\" class=\"data row10 col3\" >0.426956</td>\n",
       "                        <td id=\"T_849bb_row10_col4\" class=\"data row10 col4\" >Q Chairman Looking at swimming I attended a launch you had here last week where you brought along Duncan Goodhew who plainly is a role model but he is now a slightly ancient role model It is a long time since we had a household name as a British swimming champion Why are we not doing better at swimming Mr Sparkes I want to answer that historicallywhy are we not doing betterto be honest with you there are a number of factors in that Number one I think we certainly did lose our way a little bit We did not have adequate funding We did not have suYcient metre pools and you have probably heard me say that a few times It is very diYcult to train Olympic champions and we did not get enough access to the metre pools that we have got at aVordable prices The whole thing was a little bit of a mishmash What we have now done is built what I believe is a very sustainable system whereby we are now developing around the new metre pools the opportunity for aVordable access where we can get good coaches into that environment so that youngsters can come through The last gold medallist we had was Adrian Moorhouse who came from Leeds if you recall a Bradford boy At the end of the day what we need are more Adrian Moorhouses What we have developed without doubt is a whole raft of young talent that is very close to the podium We now believe that we have got adequate funding and adequate systems in places and I have to say some exceptional worldclass coaches and they have now got to convert those nalists into medallists which is what we all want That takes time and you cannot do it in a day not when there are another  nations all wanting to do it at the same time The trick is that you need the talent you need the coaches and you need the pools I believe we are on the right road and it just will take time</td>\n",
       "            </tr>\n",
       "            <tr>\n",
       "                                <th id=\"T_849bb_level1_row11\" class=\"row_heading level1 row11\" >13242</th>\n",
       "                        <td id=\"T_849bb_row11_col0\" class=\"data row11 col0\" >13574</td>\n",
       "                        <td id=\"T_849bb_row11_col1\" class=\"data row11 col1\" >Olympics-All-PARS/NewChunk4/The_next_lap_-_April_2008_-_vol_2.pdf.txt</td>\n",
       "                        <td id=\"T_849bb_row11_col2\" class=\"data row11 col2\" >4</td>\n",
       "                        <td id=\"T_849bb_row11_col3\" class=\"data row11 col3\" >0.402677</td>\n",
       "                        <td id=\"T_849bb_row11_col4\" class=\"data row11 col4\" > Lifting the ban on athletes competing in the Paralympic Games  Full inclusion of athletes with learning disability in the  Paralympic Games in London  INASFID and UKSA need Ministers UK Sport and the LOCOG of London  to pledge that the Games will without any doubt include athletes with learning disability and ensure that the IPC conforms to UK standards of fair play inclusion and our laws against discrimination on the grounds of disability  Funding implications for athletes with learning disability in the UK and their coaches including but not limited to Podium World Class Potential funding training programmes funding of athletes to INASFID competitions coaching development  Funding of UK Sports Association for People with Learning Disabilitythe disability specic national governing body for sport and people with learning disability in the UK  Support and full inclusion of athletes with learning disability in UK School Games</td>\n",
       "            </tr>\n",
       "            <tr>\n",
       "                        <th id=\"T_849bb_level0_row12\" class=\"row_heading level0 row12\" rowspan=\"3\">5</th>\n",
       "                        <th id=\"T_849bb_level1_row12\" class=\"row_heading level1 row12\" >332</th>\n",
       "                        <td id=\"T_849bb_row12_col0\" class=\"data row12 col0\" >384</td>\n",
       "                        <td id=\"T_849bb_row12_col1\" class=\"data row12 col1\" >Olympics-All-PARS/NewChunk1/Jan_2003_-_Qs_200-220.txt</td>\n",
       "                        <td id=\"T_849bb_row12_col2\" class=\"data row12 col2\" >5</td>\n",
       "                        <td id=\"T_849bb_row12_col3\" class=\"data row12 col3\" >0.521171</td>\n",
       "                        <td id=\"T_849bb_row12_col4\" class=\"data row12 col4\" > This just will not do It really will not do Mr Cunnahs letter is a clear helpful letter totally credible as far as I can see I would not fault a word of it What I want to be clear about on behalf of the Committee is this when Sport England gave  million to FAWNSL to build a dual use stadium on the Wembley site with the intention of its being the centrepiece stadiumbecause that was the basis upon which it was given and why the decision was made and why all the arguments about dual use and Picketts Lock and Mr Chris Smiths kitchen and all the rest of it came upto house the  Olympic Games should we get them did Sport England at that time know that there would be a problem with the location of the village If it did not know it is culpable If it did know it is culpable But I would like to know one way or the other what the position wasMr Fytche The position was that Sport England invested in a project as I said before to create the opportunity for it to form the centrepiece of the bid should the Bid Committee consider that to be the best option You will find going back to those days in  and the launch of the project which you mentioned the BOA themselves were talking about the potential for Wembley to be the centrepiece of the bid All parties involved in the debate at that time acknowledged Wembley could be the centrepiece of the bid It was later that the issues relating to athletics and Picketts Lock arose but at the time the decisions were taken around Wembley it was clear that all parties felt that Wembley could be the centrepiece and therefore no issues relating to the position of the village visavis Wembley were problematic to it going forward at that stage</td>\n",
       "            </tr>\n",
       "            <tr>\n",
       "                                <th id=\"T_849bb_level1_row13\" class=\"row_heading level1 row13\" >337</th>\n",
       "                        <td id=\"T_849bb_row13_col0\" class=\"data row13 col0\" >391</td>\n",
       "                        <td id=\"T_849bb_row13_col1\" class=\"data row13 col1\" >Olympics-All-PARS/NewChunk1/Jan_2003_-_Qs_200-220.txt</td>\n",
       "                        <td id=\"T_849bb_row13_col2\" class=\"data row13 col2\" >5</td>\n",
       "                        <td id=\"T_849bb_row13_col3\" class=\"data row13 col3\" >0.462335</td>\n",
       "                        <td id=\"T_849bb_row13_col4\" class=\"data row13 col4\" >Alan Keen I was aware and Ian Fytche is right it is not Sport England who were at fault with Wembley I am a West London MP so I was aware straightaway As soon as I saw the decision was taken to hold it in East London I knew there was going to be the need to build a stadium and I say it again just to make sure West Ham and Spurs are losing money now there is no way they can finance a stadium unless it is gifted to them and in a way Manchester City has been a bit of a gift When the decision was taken to move to East London I do not know whether people took account of the fact that a duplicate stadium had to be built and it would be of use to somebody but you would have to give it to them that is when the decision was taken that went against what Sport England envisaged when they put the money into Wembley Stadium That is about it I was aware from the moment it moved to East London In fact during this Committee hearing earlier on I said to people I would put money on the fact that the Olympics will be held at Wembley Stadium whatever you say about Picketts Lock Obviously that has changed So I was aware that we were duplicating the scene</td>\n",
       "            </tr>\n",
       "            <tr>\n",
       "                                <th id=\"T_849bb_level1_row14\" class=\"row_heading level1 row14\" >155</th>\n",
       "                        <td id=\"T_849bb_row14_col0\" class=\"data row14 col0\" >172</td>\n",
       "                        <td id=\"T_849bb_row14_col1\" class=\"data row14 col1\" >Olympics-All-PARS/NewChunk1/Jan_2003_-_Qs_120-121.txt</td>\n",
       "                        <td id=\"T_849bb_row14_col2\" class=\"data row14 col2\" >5</td>\n",
       "                        <td id=\"T_849bb_row14_col3\" class=\"data row14 col3\" >0.454958</td>\n",
       "                        <td id=\"T_849bb_row14_col4\" class=\"data row14 col4\" > That is one of the difficulties Another difficulty is our own track record in this area particularly our recent track record with Wembley with Picketts Lock and the World Athletics Championship in  Julie Kirkbride has already mentioned the Dome Manchester itself as the Chairman has said was heading for difficulties before fairly severe action was taken That surely cannot be of assistance to usMr Reedie I hope and rather believe that memories are shorter rather than longer By the time  comes I would expect Wembley to be well under way as being the best football stadium in the world By that stage we will be a bit further away from the Picketts Lock decision In Olympic sporting terms that was the damaging one Although the Commonwealth Games were a struggle to bring to fruition they were a huge success and the rest of the world saw that success They were not hugely interested two years out in what committee problems were under way The Manchester experience has done well We are running the World Indoor Athletics Championships in Birmingham in March and I have every confidence in the capacity of UK Athletics who are a first class governing body to run a first class event there I am sorry I cannot just wait forever until people forget the names Wembley and Picketts Lock I think there is a good enough sales pitch to be made because the opportunity is now and I think we should go for it</td>\n",
       "            </tr>\n",
       "            <tr>\n",
       "                        <th id=\"T_849bb_level0_row15\" class=\"row_heading level0 row15\" rowspan=\"3\">6</th>\n",
       "                        <th id=\"T_849bb_level1_row15\" class=\"row_heading level1 row15\" >1593</th>\n",
       "                        <td id=\"T_849bb_row15_col0\" class=\"data row15 col0\" >1644</td>\n",
       "                        <td id=\"T_849bb_row15_col1\" class=\"data row15 col1\" >Olympics-All-PARS/NewChunk1/Written_evidence_-_Appendix_6_-_TfL.txt</td>\n",
       "                        <td id=\"T_849bb_row15_col2\" class=\"data row15 col2\" >6</td>\n",
       "                        <td id=\"T_849bb_row15_col3\" class=\"data row15 col3\" >0.406298</td>\n",
       "                        <td id=\"T_849bb_row15_col4\" class=\"data row15 col4\" >A priority bus corridor between central London and Stratford would be essential to providing reliable quick journey times by roadbased public transport to the games This will require innovative and extensive traffic management measures Without this the risk is that more people will try to drive close to the site Achieving this priority running will inevitably cause some disruption to normal traffic However traffic levels in August are historically lower than the annual average and normal traffic flows may also be further reduced in response to the Games TfL and the London Boroughs would need to look at the following measures to deliver the level of priority needed </td>\n",
       "            </tr>\n",
       "            <tr>\n",
       "                                <th id=\"T_849bb_level1_row16\" class=\"row_heading level1 row16\" >1610</th>\n",
       "                        <td id=\"T_849bb_row16_col0\" class=\"data row16 col0\" >1661</td>\n",
       "                        <td id=\"T_849bb_row16_col1\" class=\"data row16 col1\" >Olympics-All-PARS/NewChunk1/Written_evidence_-_Appendix_6_-_TfL.txt</td>\n",
       "                        <td id=\"T_849bb_row16_col2\" class=\"data row16 col2\" >6</td>\n",
       "                        <td id=\"T_849bb_row16_col3\" class=\"data row16 col3\" >0.400903</td>\n",
       "                        <td id=\"T_849bb_row16_col4\" class=\"data row16 col4\" >Detailed work in partnership with the other transport agencies London Underground Strategic Rail Authority and Highways Agency will be necessary to develop and refine the transport strategy This will draw on the existing extensive experience of major event planning and transport impact assessment The planning and implementation of the transport proposals will have to begin in advance of the proposed date for the setting up of the proposed Olympic Transport Agency TfL intends to initiate modelling and analysis work to investigate in more detail the demand and capacity issues </td>\n",
       "            </tr>\n",
       "            <tr>\n",
       "                                <th id=\"T_849bb_level1_row17\" class=\"row_heading level1 row17\" >1572</th>\n",
       "                        <td id=\"T_849bb_row17_col0\" class=\"data row17 col0\" >1623</td>\n",
       "                        <td id=\"T_849bb_row17_col1\" class=\"data row17 col1\" >Olympics-All-PARS/NewChunk1/Written_evidence_-_Appendix_6_-_TfL.txt</td>\n",
       "                        <td id=\"T_849bb_row17_col2\" class=\"data row17 col2\" >6</td>\n",
       "                        <td id=\"T_849bb_row17_col3\" class=\"data row17 col3\" >0.377483</td>\n",
       "                        <td id=\"T_849bb_row17_col4\" class=\"data row17 col4\" >However travel demands are generally lower in August compared to the annual monthly average In addition with Stratford as the destination for the additional trips journeys from central London in the morning peak period could utilise spare capacity in the contrapeak flow direction However the extent of this would depend on the origins of trips A risk would be that some reverseflow trips could begin as additional withflow trips thus exacerbating crowding for part of the trip </td>\n",
       "            </tr>\n",
       "            <tr>\n",
       "                        <th id=\"T_849bb_level0_row18\" class=\"row_heading level0 row18\" rowspan=\"3\">7</th>\n",
       "                        <th id=\"T_849bb_level1_row18\" class=\"row_heading level1 row18\" >19387</th>\n",
       "                        <td id=\"T_849bb_row18_col0\" class=\"data row18 col0\" >19735</td>\n",
       "                        <td id=\"T_849bb_row18_col1\" class=\"data row18 col1\" >Olympics-All-PARS/NewChunk7/Oral_evidence_Dec_2010.pdf.txt</td>\n",
       "                        <td id=\"T_849bb_row18_col2\" class=\"data row18 col2\" >7</td>\n",
       "                        <td id=\"T_849bb_row18_col3\" class=\"data row18 col3\" >0.521311</td>\n",
       "                        <td id=\"T_849bb_row18_col4\" class=\"data row18 col4\" >Q Dr Coffey I do We have already touched on the budget and got the numbers sorted Are you condent that the security planning is on track Hugh Robertson Yes I am When I was the Opposition spokesman I was not condent of that I do not say that in a particularly party political way I remember chairing a security seminar at the Royal United Services Institute a couple of years ago and walking out of it thinking Heavens this just doesnt seem to be where it ought to be Since that period the Metropolitan police have caught up with their planning There is no doubt about it the advent of Pauline NevilleJones has been a thoroughly good thing for this process She reviewed it all when she took over and we are now absolutely condent sitting here that security planning is where it ought to be That said this touches on the answer I gave earlieronly a fool would pretend that the fact that we are condent now means that we can be condent that we will be safe in  because it is a fastmoving feast Even in the seven months that the coalition Government have been in power we have seen a very considerable increase in the dissident Republican threat across the water Were beginning to understand much better how the alQaeda franchises workparticularly alQaeda on the Arabian Peninsulaand how those threats are likely to be delivered That threat will continue to evolve and move as we get closer to London  I think that sometimes in this country we are in danger of underplaying the expertise we have in security I was conscious of it when I was serving in the Army and I am conscious of it now as a Minister dealing with the security forces Our special forces and our security forces in this country are very good as are the police when it comes to this sort of thing So I can only say that I am as condent as one could be at this stage that we are where we ought to be against the challenging backdrop</td>\n",
       "            </tr>\n",
       "            <tr>\n",
       "                                <th id=\"T_849bb_level1_row19\" class=\"row_heading level1 row19\" >22497</th>\n",
       "                        <td id=\"T_849bb_row19_col0\" class=\"data row19 col0\" >22883</td>\n",
       "                        <td id=\"T_849bb_row19_col1\" class=\"data row19 col1\" >Olympics-All-PARS/NewChunk8/PAC_-_Post_Games_Review_-_March_2013.pdf.txt</td>\n",
       "                        <td id=\"T_849bb_row19_col2\" class=\"data row19 col2\" >7</td>\n",
       "                        <td id=\"T_849bb_row19_col3\" class=\"data row19 col3\" >0.498058</td>\n",
       "                        <td id=\"T_849bb_row19_col4\" class=\"data row19 col4\" >Q Chair I understand that but they were obviously not used and we saw the empty seats You released only  seats out of  million Neil Wood We knew from previous Games that there can often be an issue with accredited seating not being used certainly in the preliminary rounds That is for example because athletes are busy training and have not been knocked out of the competition so they do not tend to go and watch their fellow competitors So we negotiated over the two years with the various client groups to see whether we could reduce the amount of accredited seating Clearly when the Games started there was still an issue with empty seats and we moved as fast as we could to deal with that problem in the early days That is actually technically quite difcult in many cases the route into those accredited seats is different because you segregate the various client groups for security reasons It is not a case of just moving the rows along and saying This will now be ticketed because in some cases you can only access seats through security So it was quite a complex exercise We released as many seats as we could As I say  were converted into ticketed seats and we gave away several thousand to schoolchildren After the rst few days the problem was largely resolved and you did not see any empty seating in the latter part of the Games because the broadcasters the press the athletes and the ofcials were generally using those seats The other thing I would say is that you only tend to see one side of the problem because it is very visible on TV There were many circumstances where we had queues of ofcials broadcasters or press in rooms behind seats because they were just unable to get in</td>\n",
       "            </tr>\n",
       "            <tr>\n",
       "                                <th id=\"T_849bb_level1_row20\" class=\"row_heading level1 row20\" >20882</th>\n",
       "                        <td id=\"T_849bb_row20_col0\" class=\"data row20 col0\" >21226</td>\n",
       "                        <td id=\"T_849bb_row20_col1\" class=\"data row20 col1\" >Olympics-All-PARS/NewChunk7/Preparations_for_Olympic_Games_March_2012_Report.pdf.txt</td>\n",
       "                        <td id=\"T_849bb_row20_col2\" class=\"data row20 col2\" >7</td>\n",
       "                        <td id=\"T_849bb_row20_col3\" class=\"data row20 col3\" >0.473975</td>\n",
       "                        <td id=\"T_849bb_row20_col4\" class=\"data row20 col4\" >Current membership Rt Hon Margaret Hodge Labour Barking Chair Mr Richard Bacon Conservative South Norfolk Mr Stephen Barclay Conservative North East Cambridgeshire Jackie DoylePrice Conservative Thurrock Matthew Hancock Conservative West Suffolk Chris HeatonHarris Conservative Daventry Meg Hillier Labour Hackney South and Shoreditch Fiona Mactaggart Labour Slough Mr Austin Mitchell Labour Great Grimsby Nick Smith Labour Blaenau Gwent Ian Swales Liberal Democrats Redcar James Wharton Conservative Stockton South Stewart Jackson Conservative Peterborough</td>\n",
       "            </tr>\n",
       "            <tr>\n",
       "                        <th id=\"T_849bb_level0_row21\" class=\"row_heading level0 row21\" rowspan=\"3\">8</th>\n",
       "                        <th id=\"T_849bb_level1_row21\" class=\"row_heading level1 row21\" >18608</th>\n",
       "                        <td id=\"T_849bb_row21_col0\" class=\"data row21 col0\" >18940</td>\n",
       "                        <td id=\"T_849bb_row21_col1\" class=\"data row21 col1\" >Olympics-All-PARS/NewChunk6/Written_evidence_submitted_by_Womens_Sport_and_Fitness_Foundation_-_Jan_2010.txt</td>\n",
       "                        <td id=\"T_849bb_row21_col2\" class=\"data row21 col2\" >8</td>\n",
       "                        <td id=\"T_849bb_row21_col3\" class=\"data row21 col3\" >0.432075</td>\n",
       "                        <td id=\"T_849bb_row21_col4\" class=\"data row21 col4\" > Every Local Area Agreement should be encouraged to include an Olympic branded physical activity participation target Sport England and the Department of Health hold responsibility for the two million participation target However WSFF believes that local authorities have a crucial role to play in driving up participation as part of the Olympic Legacy in their areas Currently only  of Local Area Agreements LAAs contain NI Adult Participation in Sport and Active Recreation We would like to see all  LAAs adopting a  Legacy target for increasing participation in sport and physical activity broken down by gender This would allow local areas to use the power of the Olympic brand to tailor their participation programmes to meet the needs of their local community Local authorities could be incentivised to include this target with the introduction of a Department of Health and Department of Culture Media and Sport match funding investment pot for physical activity and sport schemes </td>\n",
       "            </tr>\n",
       "            <tr>\n",
       "                                <th id=\"T_849bb_level1_row22\" class=\"row_heading level1 row22\" >17011</th>\n",
       "                        <td id=\"T_849bb_row22_col0\" class=\"data row22 col0\" >17343</td>\n",
       "                        <td id=\"T_849bb_row22_col1\" class=\"data row22 col1\" >Olympics-All-PARS/NewChunk6/Written_evidence_submitted_by_Business_in_Sport_and_Leisure_Ltd_-_Jan_2010.txt</td>\n",
       "                        <td id=\"T_849bb_row22_col2\" class=\"data row22 col2\" >8</td>\n",
       "                        <td id=\"T_849bb_row22_col3\" class=\"data row22 col3\" >0.402988</td>\n",
       "                        <td id=\"T_849bb_row22_col4\" class=\"data row22 col4\" >A central plank of BISLs strategy in the last  years has been Growing the Market by increasing sports participation alongside more facility provision We regarded the Singapore success as both a major achievement on the world stage and a once in a lifetime opportunity to build the base of sporting participation and facilities in the UKwith lasting health economic sporting and community benefits just as the London team so eloquently expressed in Singapore The London  Games can still provide the opportunity and catalyst for growing grass roots participation although this global event even with the excitement of hosting elite sportspeople in top class competition will not by itself inspire a sustained increase in grassroots participation But as already noted there is widespread frustration at the lack of national and coordinated drive so far We need a more proactive approachcoordinated with providers from all sectorsto get the  Games playing a key part in national efforts on obesity levels falls in participation at age  healthy living standards etc The UK legacy effort requires changein mindsets in strategies in programmes in operations Starts have been madesome are important and likely to workbut they are not yet part of a large and compelling jigsaw picture </td>\n",
       "            </tr>\n",
       "            <tr>\n",
       "                                <th id=\"T_849bb_level1_row23\" class=\"row_heading level1 row23\" >18229</th>\n",
       "                        <td id=\"T_849bb_row23_col0\" class=\"data row23 col0\" >18561</td>\n",
       "                        <td id=\"T_849bb_row23_col1\" class=\"data row23 col1\" >Olympics-All-PARS/NewChunk6/Written_evidence_submitted_by_Sport_England_-_Jan_2010.txt</td>\n",
       "                        <td id=\"T_849bb_row23_col2\" class=\"data row23 col2\" >8</td>\n",
       "                        <td id=\"T_849bb_row23_col3\" class=\"data row23 col3\" >0.384702</td>\n",
       "                        <td id=\"T_849bb_row23_col4\" class=\"data row23 col4\" >Sport must be mindful of the economic challenges faced by many of its customers As referenced earlier sports with a higher cost of participation such as golf sailing and snowsport appear to be facing challenges in retaining participants and indicators also suggest that many people are opting to do free leisure activities or switching from formal club settings to informal activities such as pay and play For those sports particularly affected revising their offer to take account of the changing economic environment could help them maintain and even grow their participation base Equally for other sports the economic downturn presents an opportunity to engage a new demographic and reach out to new participants</td>\n",
       "            </tr>\n",
       "            <tr>\n",
       "                        <th id=\"T_849bb_level0_row24\" class=\"row_heading level0 row24\" rowspan=\"3\">9</th>\n",
       "                        <th id=\"T_849bb_level1_row24\" class=\"row_heading level1 row24\" >9249</th>\n",
       "                        <td id=\"T_849bb_row24_col0\" class=\"data row24 col0\" >9523</td>\n",
       "                        <td id=\"T_849bb_row24_col1\" class=\"data row24 col1\" >Olympics-All-PARS/NewChunk4/NAO_Preparing_for_sporting_success_-_March_2008.pdf.txt</td>\n",
       "                        <td id=\"T_849bb_row24_col2\" class=\"data row24 col2\" >9</td>\n",
       "                        <td id=\"T_849bb_row24_col3\" class=\"data row24 col3\" >0.543071</td>\n",
       "                        <td id=\"T_849bb_row24_col4\" class=\"data row24 col4\" > The Committee of Public Accounts recommended in their  report that on the basis that the resources were known UK Sport should decide its medal table targets for  and reflect them in the targets it agreed with individual sports before reviewing those targets in the light of performance at Beijing in  UK Sports response to this recommendation in October  was that whilst an ultimate goal for both Olympic and Paralympic success had been identified no formal targets would be set until after a full review of performance in Beijing and the signing of a new funding agreement with the Department UK Sport has maintained this line and has still not set formal targets for individual sports or in aggregate for medal performance in the  Games Although the funding package was agreed on the basis that the Great Britain teams would achieve the objectives of finishing fourth in the Olympic medal table and second moving towards first in the Paralympic medal table UK Sport continues to describe these as ultimate goals It proposes only to set formal medal targets once it has had the opportunity to review with each sport their realistic expectations in the light of performance at the Beijing Games</td>\n",
       "            </tr>\n",
       "            <tr>\n",
       "                                <th id=\"T_849bb_level1_row25\" class=\"row_heading level1 row25\" >9696</th>\n",
       "                        <td id=\"T_849bb_row25_col0\" class=\"data row25 col0\" >9970</td>\n",
       "                        <td id=\"T_849bb_row25_col1\" class=\"data row25 col1\" >Olympics-All-PARS/NewChunk4/NAO_Preparing_for_sporting_success_-_March_2008.pdf.txt</td>\n",
       "                        <td id=\"T_849bb_row25_col2\" class=\"data row25 col2\" >9</td>\n",
       "                        <td id=\"T_849bb_row25_col3\" class=\"data row25 col3\" >0.539974</td>\n",
       "                        <td id=\"T_849bb_row25_col4\" class=\"data row25 col4\" >won  Olympic medals against a target of  medals  per cent and  Paralympic medals against a target of  medals  per cent and n at the Athens  Games the Great Britain team won  Olympic medals against a target of  medals  per cent and  Paralympic medals against a target of  medals  per cent  UK Sports targets for  and  were set in order to measure performance at elite events such as world championships in the years between the Olympic and Paralympic Games Our analysis suggests that although  per cent may be an appropriate level at which to set targets for the Games themselves it does not provide a meaningful measure of performance in the intervening years For Paralympic sports performance both at recent Paralympic Games and in the years between Games suggests that setting UK Sports targets at  per cent of those agreed with individual sports may be too low  As performance has significantly improved in a number of sports since the Athens Games in  there is scope both for the Department to review the targets it sets for UK Sport and for UK Sport to review the targets it sets for individual sports between Games to provide better measures of accountability and to ensure that continuous improvement towards the goals for London  is being made</td>\n",
       "            </tr>\n",
       "            <tr>\n",
       "                                <th id=\"T_849bb_level1_row26\" class=\"row_heading level1 row26\" >9225</th>\n",
       "                        <td id=\"T_849bb_row26_col0\" class=\"data row26 col0\" >9499</td>\n",
       "                        <td id=\"T_849bb_row26_col1\" class=\"data row26 col1\" >Olympics-All-PARS/NewChunk4/NAO_Preparing_for_sporting_success_-_March_2008.pdf.txt</td>\n",
       "                        <td id=\"T_849bb_row26_col2\" class=\"data row26 col2\" >9</td>\n",
       "                        <td id=\"T_849bb_row26_col3\" class=\"data row26 col3\" >0.518636</td>\n",
       "                        <td id=\"T_849bb_row26_col4\" class=\"data row26 col4\" > At the Olympic and Paralympic Games athletes from the United Kingdom compete together as the Great Britain and Northern Ireland teams referred to in this report hereafter as the Great Britain teams The Department and UK Sports aims for elite performance at the London  Games described by UK Sport as ultimate goals are for the Great Britain teams to finish fourth in the Olympic medal table and second moving towards first in the Paralympic medal table To achieve fourth place in the Olympic medal table the Great Britain team will need to improve by six places on its final position of tenth at the Athens Olympics in  which UK Sport considers will require almost doubling the number of gold medals from nine to at least  UK Sport is also aiming to build an improved and lasting system of support for elite athletes including coaching and sports science and medicine and training support which will be sustainable beyond the  Games</td>\n",
       "            </tr>\n",
       "            <tr>\n",
       "                        <th id=\"T_849bb_level0_row27\" class=\"row_heading level0 row27\" rowspan=\"3\">10</th>\n",
       "                        <th id=\"T_849bb_level1_row27\" class=\"row_heading level1 row27\" >17689</th>\n",
       "                        <td id=\"T_849bb_row27_col0\" class=\"data row27 col0\" >18021</td>\n",
       "                        <td id=\"T_849bb_row27_col1\" class=\"data row27 col1\" >Olympics-All-PARS/NewChunk6/Written_evidence_submitted_by_London_Borough_of_Newham_-_Jan_2010.txt</td>\n",
       "                        <td id=\"T_849bb_row27_col2\" class=\"data row27 col2\" >10</td>\n",
       "                        <td id=\"T_849bb_row27_col3\" class=\"data row27 col3\" >0.449479</td>\n",
       "                        <td id=\"T_849bb_row27_col4\" class=\"data row27 col4\" >The five host boroughs should also have greater control over nominations for social housing With the huge housing development planned in the borough we have concerns that a situation is being created which encourages other local authorities in London to transfer social housing responsibility to the East rather than ensure the even distribution across the capital of social housing responsibility In Newham we are committed to building more social and affordable housing and value it greatly However we also face the challenges of supporting a uniformly poor population In boroughs like Newham where there is a high concentration of deprivation and poverty any panLondon mobility scheme for social housing nominations could have the adverse effect of intensifying deprivation in East London as more housing is built in the area and more tenants of other boroughs are moved East to alleviate pressure on supply</td>\n",
       "            </tr>\n",
       "            <tr>\n",
       "                                <th id=\"T_849bb_level1_row28\" class=\"row_heading level1 row28\" >16358</th>\n",
       "                        <td id=\"T_849bb_row28_col0\" class=\"data row28 col0\" >16676</td>\n",
       "                        <td id=\"T_849bb_row28_col1\" class=\"data row28 col1\" >Olympics-All-PARS/NewChunk6/Oral_evidence_-_17_March_2010_Qs_100-143_-_Boroughs.txt</td>\n",
       "                        <td id=\"T_849bb_row28_col2\" class=\"data row28 col2\" >10</td>\n",
       "                        <td id=\"T_849bb_row28_col3\" class=\"data row28 col3\" >0.435701</td>\n",
       "                        <td id=\"T_849bb_row28_col4\" class=\"data row28 col4\" >Sir Robin Wales That is actually quite interesting This morning we were signing a Multi Area Agreement MAA which I think is relatively unique as all five boroughs were signing with Government and the Mayor of Londonhe was not there but he is signing it It is perhaps the biggest legacy point from the Olympics and we have taken the opportunity of the inspiration the focus on the Olympics the focus on the area and the promises of course that were in the bid document There were two things that the bid document said that we will do sport for young people and we will transform the East End of London For a century the East End of London has been the poor part of London it has taken the refuse of London the noxious industries all sorts of things Our population lives less long than elsewhere child poverty is greater academic achievement is lower employment is less So we have said that if we really meant what we said in the bid document which is that we will transform the East End then over the next  yearsbecause it is not a twoyear programme it has to be seen as an ongoing programmewe will bend public policy and public resources to make a difference and transform the East End in order to make it the same as the rest of London That is not only morally the right thing to do it is also the cheapest thing to do because at the moment we are the recipients of huge amounts of public funds and it does not do anything we just continue on in the same way we have for a century There is a map of the s and it has not changed and we have to try to do something about that Yes it is very ambitious I guess it comes down to do you think that Government by its actions both nationally regionally and locally can transform an area and change peoples lives and opportunities That seems to us to be the right thing to do It is also what we promised in the bid document</td>\n",
       "            </tr>\n",
       "            <tr>\n",
       "                                <th id=\"T_849bb_level1_row29\" class=\"row_heading level1 row29\" >17684</th>\n",
       "                        <td id=\"T_849bb_row29_col0\" class=\"data row29 col0\" >18016</td>\n",
       "                        <td id=\"T_849bb_row29_col1\" class=\"data row29 col1\" >Olympics-All-PARS/NewChunk6/Written_evidence_submitted_by_London_Borough_of_Newham_-_Jan_2010.txt</td>\n",
       "                        <td id=\"T_849bb_row29_col2\" class=\"data row29 col2\" >10</td>\n",
       "                        <td id=\"T_849bb_row29_col3\" class=\"data row29 col3\" >0.427638</td>\n",
       "                        <td id=\"T_849bb_row29_col4\" class=\"data row29 col4\" >We have undertaken much work connecting local people up with existing jobs The new Stratford City Retail Academy is a partnership between Newham and Westfield the Learning and Skills Council and the London Development Agency at the Stratford Renaissance Partnership SRP It will train local people in retail leisure and hospitality ensuring that they are in a position to benefit from the  new jobs planned at Stratford City Our partnership with John Lewis has resulted in a commitment that  of the new jobs in their Westfield store will go to workless residents in Newham and we have similar partnerships with London City Airport and Bovis Lend Lease on the Olympic site Joining up our residents with specific vacancies and with the economic development coming into the borough is a priority for London Borough of Newham</td>\n",
       "            </tr>\n",
       "            <tr>\n",
       "                        <th id=\"T_849bb_level0_row30\" class=\"row_heading level0 row30\" rowspan=\"3\">11</th>\n",
       "                        <th id=\"T_849bb_level1_row30\" class=\"row_heading level1 row30\" >15756</th>\n",
       "                        <td id=\"T_849bb_row30_col0\" class=\"data row30 col0\" >16064</td>\n",
       "                        <td id=\"T_849bb_row30_col1\" class=\"data row30 col1\" >Olympics-All-PARS/NewChunk6/NAO_Preparations_for_the_Olympics_-_Progress_report_-_Feb_2010.pdf.txt</td>\n",
       "                        <td id=\"T_849bb_row30_col2\" class=\"data row30 col2\" >11</td>\n",
       "                        <td id=\"T_849bb_row30_col3\" class=\"data row30 col3\" >0.629932</td>\n",
       "                        <td id=\"T_849bb_row30_col4\" class=\"data row30 col4\" > The Delivery Authoritys Programme Baseline of November  set out the scope expected costs cash flow risks assumptions and key milestones for each of its projects and is the basis against which its costs will be reported for the life of the programme The scope of some projects has changed and new ones have been added with all changes requiring approval by the Delivery Authoritys Change Control Board which is attended by the Olympic Executive and material changes reported to the Olympic Projects Review Group Changes requiring a call on contingency are subject to approval under the arrangements set out in Appendix   The Delivery Authority reports the anticipated final cost of its programme each quarter to reflect approved changes cost pressures and savings opportunities During the second half of  the Delivery Authority produced a detailed report setting out the scope and cost of each project to reflect all changes to the Programme since November   As at December  the Delivery Authority had completed  per cent of its capital programme against a target of  per cent The capital programme includes Olympic venues and infrastructure capital transport projects the Olympic Village and post Games venue transformation work  The Delivery Authority has agreed completion dates for handover to LOCOG All  main construction and infrastructure projects are planned to complete to this timetable Three have been completed The Delivery Authority has also set itself more challenging target completion dates to accommodate any potential slippage in its delivery programme Of the remaining  projects seven are on target to meet these dates while seven will be completed after them but in time for handover Achieving handover dates is important to allow sufficient time for the preparation fit out of the venues for the Games where this is not the responsibility of the Delivery Authority and for testing and other preparations necessary before the Games</td>\n",
       "            </tr>\n",
       "            <tr>\n",
       "                                <th id=\"T_849bb_level1_row31\" class=\"row_heading level1 row31\" >13681</th>\n",
       "                        <td id=\"T_849bb_row31_col0\" class=\"data row31 col0\" >13984</td>\n",
       "                        <td id=\"T_849bb_row31_col1\" class=\"data row31 col1\" >Olympics-All-PARS/NewChunk5a/NAO_Preparations_for_the_Olympics_-_Progress_report_-_June_2008.pdf.txt</td>\n",
       "                        <td id=\"T_849bb_row31_col2\" class=\"data row31 col2\" >11</td>\n",
       "                        <td id=\"T_849bb_row31_col3\" class=\"data row31 col3\" >0.587476</td>\n",
       "                        <td id=\"T_849bb_row31_col4\" class=\"data row31 col4\" >n  million hereafter referred to as the Olympic Delivery Authority Programme Contingency is potentially available for Olympic Delivery Authority programme wide risks The Olympic Delivery Authoritys quantified risk assessment in November  indicated that at a level of  per cent probability a further  million in addition to the Authoritys base budget of  million would be sufficient to deliver the Authoritys planned programme Eighty per cent is a generally accepted industry standard Olympic Delivery Authority Programme Contingency relates to identified risks with the potential to impact on projects across the Authoritys programme for example risks concerning the interdependency of projects on the Olympic Park the impact of exchange rate fluctuations unexpected ground conditions and the availability of materials Arrangements for the management of the  million have been put in place by the Government Olympic Executive so that any application by the Olympic Delivery Authority for access to the Olympic Delivery Authority Programme Contingency will be subject to scrutiny by the Olympic Projects Review Group and approval by the Minister for the Olympics Release of the lottery funded element of Olympic Delivery Authority Programme Contingency is subject to approval by the Olympic Lottery Distributor</td>\n",
       "            </tr>\n",
       "            <tr>\n",
       "                                <th id=\"T_849bb_level1_row32\" class=\"row_heading level1 row32\" >13985</th>\n",
       "                        <td id=\"T_849bb_row32_col0\" class=\"data row32 col0\" >14290</td>\n",
       "                        <td id=\"T_849bb_row32_col1\" class=\"data row32 col1\" >Olympics-All-PARS/NewChunk5a/NAO_Preparations_for_the_Olympics_-_Progress_report_-_June_2008.pdf.txt</td>\n",
       "                        <td id=\"T_849bb_row32_col2\" class=\"data row32 col2\" >11</td>\n",
       "                        <td id=\"T_849bb_row32_col3\" class=\"data row32 col3\" >0.538689</td>\n",
       "                        <td id=\"T_849bb_row32_col4\" class=\"data row32 col4\" > Management of the policing and wider security programme is the responsibility of the Home Office and is overseen by a Cabinet Office Committee chaired by the Home Secretary Figure  overleaf It is distinct from the responsibilities of the Olympic Delivery Authority for site security on the Olympic Park during construction on which we comment at paragraph  As part of its overall responsibility for Games security and under revised arrangements established in April  the Home Office has taken on responsibility for developing the overall costed safety and security plan operational planning for the security programme was previously headed by an Olympic Security Coordinator  the Assistant Commissioner of the Metropolitan Police The Home Office is supported by the Olympic Security Directorate based in the Metropolitan Police which brings together the various departments and agencies involved in providing safety security and resilience for the Games The Government Olympic Executives role is to keep the security arrangements closely aligned with the Olympic programme through its membership of the Home Offices Olympic Safety and Security Strategic Steering Group</td>\n",
       "            </tr>\n",
       "    </tbody></table>"
      ],
      "text/plain": [
       "<pandas.io.formats.style.Styler at 0x1fe817e3430>"
      ]
     },
     "execution_count": 35,
     "metadata": {},
     "output_type": "execute_result"
    }
   ],
   "source": [
    "rank = 3                          #Set rank of for for topic \n",
    "\n",
    "#3.\tHighest N ranked paragraphs from each topic K\n",
    "classifer_document.groupby(by='The Highest Probable Topic').apply(lambda x:x.nlargest(rank, 'Probability'))\\\n",
    ".style.set_properties(**{'text-align' : 'center'}).set_properties(subset = ['Text'], **{'text-align' : 'left'})\\\n",
    ".set_caption('The Highest N ranked paragraphs from each topic')\\\n",
    ".set_table_styles([d])"
   ]
  },
  {
   "cell_type": "markdown",
   "metadata": {},
   "source": [
    "### 3.3.4 The Highest N ranked paragraphs from topic K with threshold"
   ]
  },
  {
   "cell_type": "code",
   "execution_count": 36,
   "metadata": {},
   "outputs": [],
   "source": [
    "minimum_probability = 0.5 #Topics with an assigned probability lower than this threshold will be discarded.\n",
    "\n",
    "#4.\tHighest N ranked paragraphs where the belong() function is greater than the threshold for M topics at a time\n",
    "T_MTopics =  list()\n",
    "for i in LOldamodel.get_document_topics(Pcorpus, minimum_probability = minimum_probability, per_word_topics=False)[:]:\n",
    "    listj=[]\n",
    "    for j in i:\n",
    "        listj.append(j[1])\n",
    "    if minimum_probability == 0:\n",
    "        bz=listj.index(max(listj))\n",
    "        T_MTopics.append([bz+1, listj[bz]])\n",
    "    else:\n",
    "        if listj:\n",
    "            bz=listj.index(max(listj))\n",
    "            topics= ','.join(str(a) for a in re.findall(r\"(\\d+),\",str(max(i))) )\n",
    "            T_MTopics.append([int(topics)+1, listj[bz]])\n",
    "        else:\n",
    "            T_MTopics.append(['None',0])\n",
    "        \n",
    "\n",
    "T_MTopics = pd.DataFrame(T_MTopics)\n",
    "\n",
    "classifer_document_threshold = pd.concat([pf.iloc[:,0:2],T_MTopics,pf.iloc[:,2:3]],axis=1)\n",
    "classifer_document_threshold.columns = [\"Par No.\",\"Souce\",\"The Highest Probable Topic\", \"Probability\",\"Text\"]"
   ]
  },
  {
   "cell_type": "code",
   "execution_count": 37,
   "metadata": {
    "scrolled": false
   },
   "outputs": [
    {
     "data": {
      "text/html": [
       "<style  type=\"text/css\" >\n",
       "    #T_e5422_ th {\n",
       "          text-align: center;\n",
       "    }#T_e5422_row0_col0,#T_e5422_row0_col1,#T_e5422_row0_col2,#T_e5422_row0_col3{\n",
       "            text-align:  center;\n",
       "        }#T_e5422_row0_col4{\n",
       "            text-align:  center;\n",
       "            text-align:  left;\n",
       "        }</style><table id=\"T_e5422_\" ><caption>The Highest N ranked paragraphs from topic K with threshold</caption><thead>    <tr>        <th class=\"blank level0\" ></th>        <th class=\"col_heading level0 col0\" >Par No.</th>        <th class=\"col_heading level0 col1\" >Souce</th>        <th class=\"col_heading level0 col2\" >The Highest Probable Topic</th>        <th class=\"col_heading level0 col3\" >Probability</th>        <th class=\"col_heading level0 col4\" >Text</th>    </tr></thead><tbody>\n",
       "                <tr>\n",
       "                        <th id=\"T_e5422_level0_row0\" class=\"row_heading level0 row0\" >5869</th>\n",
       "                        <td id=\"T_e5422_row0_col0\" class=\"data row0 col0\" >6122</td>\n",
       "                        <td id=\"T_e5422_row0_col1\" class=\"data row0 col1\" >Olympics-All-PARS/NewChunk3/Report_and_Minutes_-_Jan_2007.pdf.txt</td>\n",
       "                        <td id=\"T_e5422_row0_col2\" class=\"data row0 col2\" >2</td>\n",
       "                        <td id=\"T_e5422_row0_col3\" class=\"data row0 col3\" >0.508197</td>\n",
       "                        <td id=\"T_e5422_row0_col4\" class=\"data row0 col4\" > The potential for a further call on the National Lottery Distribution Fund above the  million foreseen in  when the funding package was drawn up has never been ruled out by Secretary of State Indeed she reiterated to the Committee both in July  and in November that she would be prepared to draw further on Lottery revenues Any such transfer would be under an order subject to affirmative resolution in Parliament The Explanatory Notes provided by the Government to the Horserace Betting and Olympic Lottery Act  state that such an order under section  of the Act would be made only in exceptional circumstances We note the warning from the Lottery Forum that any such requirement for additional Lottery funding would reduce NLDF distributors ability to deliver a full and balanced portfolio of activity We received evidence in our recent inquiry into heritage about the damaging impact on the Heritage Lottery Fund of the reduction in Lottery income this impact is likely to be equally matched in the arts and voluntary sectors A further transfer of Lottery revenues from the National Lottery Distribution Fund to the Olympic Lottery Distribution Fund above the  million already identified would penalise good causes yet further We believe that any further diversion of money from the Lottery would reduce the money available for each of the good causes and it is not our preferred option for funding any overspend</td>\n",
       "            </tr>\n",
       "    </tbody></table>"
      ],
      "text/plain": [
       "<pandas.io.formats.style.Styler at 0x1feed949880>"
      ]
     },
     "execution_count": 37,
     "metadata": {},
     "output_type": "execute_result"
    }
   ],
   "source": [
    "rank = 5                          #Set rank of for for topic \n",
    "topic = 2                        #Topic filter of the Highest ranked paragraphs\n",
    "\n",
    "classifer_document_threshold[classifer_document_threshold['The Highest Probable Topic']==topic].nlargest(rank, 'Probability')\\\n",
    ".style.set_properties(**{'text-align' : 'center'}).set_properties(subset = ['Text'], **{'text-align' : 'left'})\\\n",
    ".set_caption('The Highest N ranked paragraphs from topic K with threshold')\\\n",
    ".set_table_styles([d])"
   ]
  },
  {
   "cell_type": "markdown",
   "metadata": {},
   "source": [
    "### 4. Build an Interactive App"
   ]
  },
  {
   "cell_type": "code",
   "execution_count": 38,
   "metadata": {},
   "outputs": [
    {
     "name": "stderr",
     "output_type": "stream",
     "text": [
      "C:\\Users\\jason\\AppData\\Local\\Temp/ipykernel_18844/2502420799.py:7: UserWarning: \n",
      "The dash_table package is deprecated. Please replace\n",
      "`import dash_table` with `from dash import dash_table`\n",
      "\n",
      "Also, if you're using any of the table format helpers (e.g. Group), replace \n",
      "`from dash_table.Format import Group` with \n",
      "`from dash.dash_table.Format import Group`\n",
      "  import dash_table\n",
      "C:\\Users\\jason\\AppData\\Local\\Temp/ipykernel_18844/2502420799.py:8: UserWarning: \n",
      "The dash_core_components package is deprecated. Please replace\n",
      "`import dash_core_components as dcc` with `from dash import dcc`\n",
      "  import dash_core_components as dcc\n",
      "C:\\Users\\jason\\AppData\\Local\\Temp/ipykernel_18844/2502420799.py:9: UserWarning: \n",
      "The dash_html_components package is deprecated. Please replace\n",
      "`import dash_html_components as html` with `from dash import html`\n",
      "  import dash_html_components as html\n"
     ]
    }
   ],
   "source": [
    "import plotly.express as px  # (version 4.7.0)\n",
    "import plotly.graph_objects as go\n",
    "\n",
    "from jupyter_dash import JupyterDash\n",
    "\n",
    "import dash  # (version 1.12.0) pip install dash\n",
    "import dash_table\n",
    "import dash_core_components as dcc\n",
    "import dash_html_components as html\n",
    "import dash_bootstrap_components as dbc\n",
    "from dash_table.Format import Format, Scheme, Trim\n",
    "from dash.dependencies import Input, Output, State\n",
    "from dash.exceptions import PreventUpdate\n"
   ]
  },
  {
   "cell_type": "code",
   "execution_count": 44,
   "metadata": {},
   "outputs": [
    {
     "name": "stdout",
     "output_type": "stream",
     "text": [
      "Dash app running on http://127.0.0.1:8050/\n"
     ]
    }
   ],
   "source": [
    "# Set up the app\n",
    "external_stylesheets = [dbc.themes.BOOTSTRAP, \"assets/bootstrap.min.css\"]\n",
    "app = JupyterDash(__name__, external_stylesheets=external_stylesheets)\n",
    "\n",
    "\n",
    "pyLDAcard = dbc.Card(\n",
    "    [\n",
    "            dbc.CardHeader(html.H4(\"Topic Distribution in a corpus of Documents\")),\n",
    "            dbc.CardBody(\n",
    "            [\n",
    "                dbc.Row(\n",
    "                        dbc.Col(\n",
    "                            [\n",
    "                                html.Embed(src = \"assets/lda.html\" ,style={ 'position': 'relative', 'left': '-118px', 'top': '-50px','width':'1250px', 'height':'860px', 'transform': 'scale(0.88)'}), \n",
    "                            ]\n",
    "                        )\n",
    "                )\n",
    "            ]\n",
    "        ),\n",
    "    ]\n",
    ")\n",
    "\n",
    "\n",
    "table_card = dbc.Card(\n",
    "    [\n",
    "        dbc.CardHeader(\n",
    "            dbc.Row([\n",
    "                  dbc.Col(html.H4(\"Paragraphs Classification\"))\n",
    "            ])            \n",
    "        ),\n",
    "        \n",
    "        \n",
    "        dbc.CardHeader(\n",
    "                         dbc.Row(\n",
    "                            [\n",
    "                            dbc.Col(\n",
    "                            [\n",
    "                                html.H6(\"Threshold\"),\n",
    "                                dcc.Slider(\n",
    "                                            id='slider',\n",
    "                                            min=0,\n",
    "                                            max=1,\n",
    "                                            step=0.01,\n",
    "                                marks={\n",
    "                                    0: '0.0',\n",
    "                                    0.05: '0.05',\n",
    "                                    0.1: '0.1',\n",
    "                                    0.15: '0.15',\n",
    "                                    0.2: '0.2',\n",
    "                                    0.25: '0.25',\n",
    "                                    0.3: '0.3',\n",
    "                                    0.35: '0.35',\n",
    "                                    0.4: '0.4',\n",
    "                                    0.45: '0.45',\n",
    "                                    0.5: '0.5',\n",
    "                                    0.55: '0.55',\n",
    "                                    0.6: '0.6',\n",
    "                                    0.65: '0.65',\n",
    "                                    0.7: '0.7',\n",
    "                                    0.75: '0.75',\n",
    "                                    0.8: '0.8',\n",
    "                                    0.85: '0.85',\n",
    "                                    0.9: '0.9',\n",
    "                                    0.95: '0.95',\n",
    "                                    1: '1.0',\n",
    "                                },\n",
    "                                        value=0.1,\n",
    "                                        ),html.Div(style={'width': '1000px'})\n",
    "                            ]\n",
    "                        ),\n",
    "                        dbc.Col(\n",
    "                        [\n",
    "                                html.H6(\"Topic Selection\"),\n",
    "                                dcc.Input(id=\"topic_selection\", type=\"number\",min=1, max=11, step=1, value=1),\n",
    "                                html.Div(style={'width': '100px'})\n",
    "                        ]\n",
    "                        ),\n",
    "                          dbc.Col(\n",
    "                        [\n",
    "                                html.H6(\"Rank Selection\"),\n",
    "                                dcc.Input(id=\"rank_selection\", type=\"number\",min=1, max=20, step=1,value=5),\n",
    "                                html.Div(style={'width': '100px'})\n",
    "                        ]\n",
    "                        ),\n",
    "                                dbc.Col(\n",
    "                                    [\n",
    "                                        html.H6(\"Paragraphs Classification Mode\"),\n",
    "                                        dcc.Dropdown(\n",
    "                                                            id='dropdown',\n",
    "                                                            options=[\n",
    "                                                                {'label': 'The highest N ranked paragraphs for topic K', 'value': 'c1'},\n",
    "                                                                {'label': 'The highest N ranked paragraphs overall', 'value': 'c2'},\n",
    "                                                                {'label': 'The highest N ranked paragraphs from each topic', 'value': 'c3'}\n",
    "                                                            ],\n",
    "                                                            searchable=False,\n",
    "                                                            clearable=False,\n",
    "                                                            placeholder=\"Select a paragraphs classification mode\",\n",
    "                                                        ),html.Div(style={'width': '380px'})\n",
    "                                    ]\n",
    "                                ),                                \n",
    "                ]\n",
    "            )                    \n",
    "                ),\n",
    "        \n",
    "        dbc.CardBody(\n",
    "                dbc.Col([\n",
    "                    dash_table.DataTable(),html.Div(id=\"data_table\")           \n",
    "                ])    \n",
    "                ),\n",
    "        \n",
    "        dbc.CardFooter(\n",
    "            dbc.Row([\n",
    "                dbc.Col(\n",
    "                                    [\n",
    "                                        html.H6('Please click the \"Submit\" button after setting the parameters above'),html.Div(style={'width': '500px'})\n",
    "\n",
    "                                    ]\n",
    "                                ),\n",
    "                                \n",
    "                dbc.Col(\n",
    "                                    [\n",
    "                                        dbc.Button(\"Submit\", id='submit', color=\"success\"),\n",
    "                                        html.Div(id='button')\n",
    "                                    ]\n",
    "                                )\n",
    "                ])\n",
    "                )       \n",
    "    ]\n",
    ")\n",
    "        \n",
    "app.layout = html.Div(\n",
    "    [\n",
    "        dbc.Container(\n",
    "            [dbc.Row(\n",
    "                [\n",
    "                dbc.Col(pyLDAcard,md=7), \n",
    "                dbc.Col(table_card,md=5)\n",
    "            ]             \n",
    "            )\n",
    "            ],\n",
    "            fluid=True,\n",
    "        ),\n",
    "    ]\n",
    ")\n",
    "\n",
    "@app.callback(\n",
    "    Output('data_table','children'),\n",
    "    Input('submit', 'n_clicks'), Input('dropdown', 'value'), Input('slider', 'value'), Input('topic_selection','value'), Input('rank_selection','value')\n",
    "     )\n",
    "\n",
    "def update_datatable(n_clicks, dropdown_value, slider_value,topic_value,rank_value):\n",
    "  \n",
    "    ctx = dash.callback_context\n",
    "    if not ctx.triggered:\n",
    "        button_id = 'No clicks'\n",
    "    else:\n",
    "        button_id = ctx.triggered[0]['prop_id'].split('.')[0]\n",
    "    \n",
    "#    print(button_id)\n",
    "                 \n",
    "    if button_id==\"submit\":\n",
    "        topic = topic_value                        #Topic filter of the Highest ranked paragraphs\n",
    "        rank = rank_value                          #Set rank of for for topic \n",
    "#        print(topic_value)\n",
    "#        print(rank_value)   \n",
    "        \n",
    "        minimum_probability = slider_value #Topics with an assigned probability lower than this threshold will be discarded.\n",
    "#        print(minimum_probability)            \n",
    "\n",
    "        T_MTopics =  list()\n",
    "        for i in LOldamodel.get_document_topics(Pcorpus, minimum_probability = minimum_probability, per_word_topics=False)[:]:\n",
    "            listj=[]\n",
    "            for j in i:\n",
    "                listj.append(j[1])\n",
    "            if minimum_probability == 0:\n",
    "                bz=listj.index(max(listj))\n",
    "                T_MTopics.append([bz+1, listj[bz]])\n",
    "            else:\n",
    "                if listj:\n",
    "                    bz=listj.index(max(listj))\n",
    "                    topics= ','.join(str(a) for a in re.findall(r\"(\\d+),\",str(max(i))) )\n",
    "                    T_MTopics.append([int(topics)+1, listj[bz]])\n",
    "                else:\n",
    "                    T_MTopics.append(['None',0])\n",
    "                \n",
    "        \n",
    "        T_MTopics = pd.DataFrame(T_MTopics)\n",
    "        \n",
    "        classifer_document_threshold = pd.concat([pf.iloc[:,0:2],T_MTopics,pf.iloc[:,2:3]],axis=1)\n",
    "        classifer_document_threshold.columns = [\"Par No.\",\"Souce\",\"The Highest Probable Topic\", \"Probability\",\"Text\"]\n",
    "                        \n",
    "        if dropdown_value=='c1':\n",
    "            c_df = classifer_document_threshold[classifer_document_threshold['The Highest Probable Topic']==topic].nlargest(rank, 'Probability')\n",
    "        elif dropdown_value=='c2':\n",
    "            c_df = classifer_document_threshold[classifer_document_threshold['The Highest Probable Topic'] != 'None'].nlargest(rank, 'Probability')\n",
    "        elif dropdown_value=='c3':\n",
    "            c_df = classifer_document_threshold[classifer_document_threshold['The Highest Probable Topic'] != 'None'].groupby(by='The Highest Probable Topic').apply(lambda x:x.nlargest(rank, 'Probability'))\n",
    "        else:\n",
    "            return None\n",
    "#        print(dropdown_value)\n",
    "        \n",
    "        table = dash_table.DataTable(\n",
    "                                    id=\"table-line-1\",\n",
    "                                    columns=[\n",
    "                                                dict(id=c_df.columns[0], name=c_df.columns[0]),\n",
    "                                                dict(id=c_df.columns[1], name=c_df.columns[1]),\n",
    "                                                dict(id=c_df.columns[2], name=c_df.columns[2]),\n",
    "                                                dict(id=c_df.columns[3], name=c_df.columns[3], type='numeric', format=Format(precision=3, scheme=Scheme.fixed)), \n",
    "                                                dict(id=c_df.columns[4], name=c_df.columns[4]),            \n",
    "                                            ],\n",
    "                                    data=c_df.to_dict(\"records\"),\n",
    "                       #             page_action='none',\n",
    "                                    page_size=5,\n",
    "                                    style_table={'height': '1000px', 'overflowY': 'auto'},\n",
    "                                    fixed_rows={'headers': True},\n",
    "                                    style_header={ 'border': '1px solid black', 'fontWeight': 'bold','textAlign': 'center', 'fontSize':'10px'},\n",
    "                                    style_cell={  'fontSize':'10px','border': '1px solid grey','minWidth': 10, 'maxWidth': 30, 'width': 30,'whiteSpace': 'normal','height': 'auto','lineHeight': '15px','textAlign': 'center','textOverflow': 'ellipsis', 'maxWidth': 0},\n",
    "                                    css=[{\n",
    "                                            'selector': '.dash-spreadsheet td div',\n",
    "                                            'rule': '''\n",
    "                                                line-height: 15px;\n",
    "                                                max-height: 300px; min-height: 50px; height: 300px;\n",
    "                                                display: block;\n",
    "                                                overflow-y: hidden;\n",
    "                                            '''\n",
    "                                        }],\n",
    "                                     style_cell_conditional=[\n",
    "                                                                    {'if': {'column_id': 'Par No.'},'width': '7%'},\n",
    "                                                                    {'if': {'column_id': 'Souce'},'width': '8%'},\n",
    "                                                                    {'if': {'column_id': 'The Highest Probable Topic'},'width': '10%' },\n",
    "                                                                    {'if': {'column_id': 'Probability'},'width': '10%'},\n",
    "                                                                    {'if': {'column_id': 'Text'},'width': '75%','textAlign': 'left'},\n",
    "    \n",
    "                                                                ],\n",
    "    \n",
    "                                    style_as_list_view=True,\n",
    "                 )\n",
    "#        print('end')\n",
    "        return table\n",
    "          \n",
    "app.run_server(mode = 'external')"
   ]
  },
  {
   "cell_type": "code",
   "execution_count": 42,
   "metadata": {},
   "outputs": [],
   "source": [
    "app._terminate_server_for_port('localhost', 8050)"
   ]
  },
  {
   "cell_type": "code",
   "execution_count": null,
   "metadata": {},
   "outputs": [],
   "source": []
  }
 ],
 "metadata": {
  "kernelspec": {
   "display_name": "Python 3 (ipykernel)",
   "language": "python",
   "name": "python3"
  },
  "language_info": {
   "codemirror_mode": {
    "name": "ipython",
    "version": 3
   },
   "file_extension": ".py",
   "mimetype": "text/x-python",
   "name": "python",
   "nbconvert_exporter": "python",
   "pygments_lexer": "ipython3",
   "version": "3.8.8"
  }
 },
 "nbformat": 4,
 "nbformat_minor": 4
}
