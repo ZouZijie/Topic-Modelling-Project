{
 "cells": [
  {
   "cell_type": "markdown",
   "metadata": {},
   "source": [
    "# 1 Build A LDA Model of 2012 London Olympics"
   ]
  },
  {
   "cell_type": "markdown",
   "metadata": {},
   "source": [
    "## 1.1 Packages Importing"
   ]
  },
  {
   "cell_type": "code",
   "execution_count": null,
   "metadata": {},
   "outputs": [],
   "source": [
    "!python -m pip install -U gensim\n",
    "!python -m pip install -U pattern"
   ]
  },
  {
   "cell_type": "code",
   "execution_count": 1,
   "metadata": {},
   "outputs": [
    {
     "name": "stderr",
     "output_type": "stream",
     "text": [
      "C:\\ProgramData\\Anaconda3\\lib\\site-packages\\gensim\\similarities\\__init__.py:15: UserWarning: The gensim.similarities.levenshtein submodule is disabled, because the optional Levenshtein package <https://pypi.org/project/python-Levenshtein/> is unavailable. Install Levenhstein (e.g. `pip install python-Levenshtein`) to suppress this warning.\n",
      "  warnings.warn(msg)\n"
     ]
    }
   ],
   "source": [
    "import nltk\n",
    "from nltk.corpus import stopwords\n",
    "from nltk.tokenize import RegexpTokenizer\n",
    "from nltk.stem.wordnet  import WordNetLemmatizer\n",
    "from nltk import FreqDist\n",
    "import pandas as pd\n",
    "import numpy as py\n",
    "import string\n",
    "from gensim.models import CoherenceModel, LdaModel, LdaMulticore, Phrases, TfidfModel\n",
    "from gensim.corpora import Dictionary\n",
    "from gensim.models.phrases import Phraser\n",
    "# libraries for visualization\n",
    "import matplotlib.pyplot as plt\n",
    "import seaborn as sns\n",
    "%matplotlib inline\n",
    "from pattern.en import lemma"
   ]
  },
  {
   "cell_type": "markdown",
   "metadata": {},
   "source": [
    "## 1.2 Parameters Setting "
   ]
  },
  {
   "cell_type": "code",
   "execution_count": 2,
   "metadata": {},
   "outputs": [],
   "source": [
    "col = 2                             # Define which columns are used for topic modelling.\n",
    "min_len = 4                       # Define the short word length\n",
    "no_below =  2                   #a threshold filtering out number of occurrence of the tokens among documents \n",
    "no_above = 0.9                 #the portion of a word in total corpus size\n",
    "chunksize = 2000              #Number of documents to be used in each training chunk\n",
    "eval_every = None             # Don't evaluate model perplexity, takes too much time.\n",
    "num_topics =  30              #The number of requested latent topics to be extracted from the training corpus.\n",
    "num_passes = 20              #Number of passes through the corpus during training\n",
    "iterations = 100                #Maximum number of iterations through the corpus when inferring the topic distribution of a corpus.\n",
    "alpha = 50.0/num_topics   #expresses our a-priori belief for each topics’ probability\n",
    "eta = 'auto'                      #A-priori belief on word probability,\n",
    "random_state  = 12345     #Either a randomState object or a seed to generate one. Useful for reproducibility."
   ]
  },
  {
   "cell_type": "markdown",
   "metadata": {},
   "source": [
    "## 1.3 Corpus Reading "
   ]
  },
  {
   "cell_type": "code",
   "execution_count": 3,
   "metadata": {},
   "outputs": [],
   "source": [
    "df = pd.read_csv(\"NewChunkAll-STRIP-ASCII.csv\", header = None)"
   ]
  },
  {
   "cell_type": "code",
   "execution_count": 4,
   "metadata": {
    "scrolled": true
   },
   "outputs": [
    {
     "data": {
      "text/html": [
       "<div>\n",
       "<style scoped>\n",
       "    .dataframe tbody tr th:only-of-type {\n",
       "        vertical-align: middle;\n",
       "    }\n",
       "\n",
       "    .dataframe tbody tr th {\n",
       "        vertical-align: top;\n",
       "    }\n",
       "\n",
       "    .dataframe thead th {\n",
       "        text-align: right;\n",
       "    }\n",
       "</style>\n",
       "<table border=\"1\" class=\"dataframe\">\n",
       "  <thead>\n",
       "    <tr style=\"text-align: right;\">\n",
       "      <th></th>\n",
       "      <th>0</th>\n",
       "      <th>1</th>\n",
       "      <th>2</th>\n",
       "      <th>3</th>\n",
       "      <th>4</th>\n",
       "      <th>5</th>\n",
       "      <th>6</th>\n",
       "      <th>7</th>\n",
       "      <th>8</th>\n",
       "    </tr>\n",
       "  </thead>\n",
       "  <tbody>\n",
       "    <tr>\n",
       "      <th>0</th>\n",
       "      <td>1</td>\n",
       "      <td>Oly-Raw-New-Chunks/NewChunk1/Examination_of_Wi...</td>\n",
       "      <td>Examination of Witnesses</td>\n",
       "      <td>NaN</td>\n",
       "      <td>NaN</td>\n",
       "      <td>NaN</td>\n",
       "      <td>NaN</td>\n",
       "      <td>NaN</td>\n",
       "      <td>NaN</td>\n",
       "    </tr>\n",
       "    <tr>\n",
       "      <th>1</th>\n",
       "      <td>2</td>\n",
       "      <td>Oly-Raw-New-Chunks/NewChunk1/Examination_of_Wi...</td>\n",
       "      <td>SEPTEMBER</td>\n",
       "      <td>NaN</td>\n",
       "      <td>NaN</td>\n",
       "      <td>NaN</td>\n",
       "      <td>NaN</td>\n",
       "      <td>NaN</td>\n",
       "      <td>NaN</td>\n",
       "    </tr>\n",
       "    <tr>\n",
       "      <th>2</th>\n",
       "      <td>3</td>\n",
       "      <td>Oly-Raw-New-Chunks/NewChunk1/Examination_of_Wi...</td>\n",
       "      <td>MS BARBARA CASSANI</td>\n",
       "      <td>NaN</td>\n",
       "      <td>NaN</td>\n",
       "      <td>NaN</td>\n",
       "      <td>NaN</td>\n",
       "      <td>NaN</td>\n",
       "      <td>NaN</td>\n",
       "    </tr>\n",
       "    <tr>\n",
       "      <th>3</th>\n",
       "      <td>4</td>\n",
       "      <td>Oly-Raw-New-Chunks/NewChunk1/Examination_of_Wi...</td>\n",
       "      <td>Q Chairman Good morning Ms Cassani I should ve...</td>\n",
       "      <td>NaN</td>\n",
       "      <td>NaN</td>\n",
       "      <td>NaN</td>\n",
       "      <td>NaN</td>\n",
       "      <td>NaN</td>\n",
       "      <td>NaN</td>\n",
       "    </tr>\n",
       "    <tr>\n",
       "      <th>4</th>\n",
       "      <td>5</td>\n",
       "      <td>Oly-Raw-New-Chunks/NewChunk1/Examination_of_Wi...</td>\n",
       "      <td>Ms Cassani Thank you very much Thank you very ...</td>\n",
       "      <td>Oly-Raw-New-Chunks/NewChunk1/Examination_of_Wi...</td>\n",
       "      <td>a good time for the country to get behind an ...</td>\n",
       "      <td>Oly-Raw-New-Chunks/NewChunk1/Examination_of_Wi...</td>\n",
       "      <td>p repeating not just to you but to myself and ...</td>\n",
       "      <td>Oly-Raw-New-Chunks/NewChunk1/Examination_of_Wi...</td>\n",
       "      <td>the venues and how we will be approaching the ...</td>\n",
       "    </tr>\n",
       "  </tbody>\n",
       "</table>\n",
       "</div>"
      ],
      "text/plain": [
       "   0                                                  1  \\\n",
       "0  1  Oly-Raw-New-Chunks/NewChunk1/Examination_of_Wi...   \n",
       "1  2  Oly-Raw-New-Chunks/NewChunk1/Examination_of_Wi...   \n",
       "2  3  Oly-Raw-New-Chunks/NewChunk1/Examination_of_Wi...   \n",
       "3  4  Oly-Raw-New-Chunks/NewChunk1/Examination_of_Wi...   \n",
       "4  5  Oly-Raw-New-Chunks/NewChunk1/Examination_of_Wi...   \n",
       "\n",
       "                                                   2  \\\n",
       "0                          Examination of Witnesses    \n",
       "1                                        SEPTEMBER     \n",
       "2                                 MS BARBARA CASSANI   \n",
       "3  Q Chairman Good morning Ms Cassani I should ve...   \n",
       "4  Ms Cassani Thank you very much Thank you very ...   \n",
       "\n",
       "                                                   3  \\\n",
       "0                                                NaN   \n",
       "1                                                NaN   \n",
       "2                                                NaN   \n",
       "3                                                NaN   \n",
       "4  Oly-Raw-New-Chunks/NewChunk1/Examination_of_Wi...   \n",
       "\n",
       "                                                   4  \\\n",
       "0                                                NaN   \n",
       "1                                                NaN   \n",
       "2                                                NaN   \n",
       "3                                                NaN   \n",
       "4   a good time for the country to get behind an ...   \n",
       "\n",
       "                                                   5  \\\n",
       "0                                                NaN   \n",
       "1                                                NaN   \n",
       "2                                                NaN   \n",
       "3                                                NaN   \n",
       "4  Oly-Raw-New-Chunks/NewChunk1/Examination_of_Wi...   \n",
       "\n",
       "                                                   6  \\\n",
       "0                                                NaN   \n",
       "1                                                NaN   \n",
       "2                                                NaN   \n",
       "3                                                NaN   \n",
       "4  p repeating not just to you but to myself and ...   \n",
       "\n",
       "                                                   7  \\\n",
       "0                                                NaN   \n",
       "1                                                NaN   \n",
       "2                                                NaN   \n",
       "3                                                NaN   \n",
       "4  Oly-Raw-New-Chunks/NewChunk1/Examination_of_Wi...   \n",
       "\n",
       "                                                   8  \n",
       "0                                                NaN  \n",
       "1                                                NaN  \n",
       "2                                                NaN  \n",
       "3                                                NaN  \n",
       "4  the venues and how we will be approaching the ...  "
      ]
     },
     "execution_count": 4,
     "metadata": {},
     "output_type": "execute_result"
    }
   ],
   "source": [
    "df.head()"
   ]
  },
  {
   "cell_type": "code",
   "execution_count": 5,
   "metadata": {},
   "outputs": [
    {
     "name": "stdout",
     "output_type": "stream",
     "text": [
      "<class 'pandas.core.frame.DataFrame'>\n",
      "RangeIndex: 23147 entries, 0 to 23146\n",
      "Data columns (total 9 columns):\n",
      " #   Column  Non-Null Count  Dtype \n",
      "---  ------  --------------  ----- \n",
      " 0   0       23147 non-null  int64 \n",
      " 1   1       23147 non-null  object\n",
      " 2   2       23147 non-null  object\n",
      " 3   3       383 non-null    object\n",
      " 4   4       193 non-null    object\n",
      " 5   5       7 non-null      object\n",
      " 6   6       7 non-null      object\n",
      " 7   7       1 non-null      object\n",
      " 8   8       1 non-null      object\n",
      "dtypes: int64(1), object(8)\n",
      "memory usage: 1.6+ MB\n"
     ]
    }
   ],
   "source": [
    "df.info()"
   ]
  },
  {
   "cell_type": "markdown",
   "metadata": {},
   "source": [
    "## 1.4 Data Processing"
   ]
  },
  {
   "cell_type": "code",
   "execution_count": 9,
   "metadata": {},
   "outputs": [
    {
     "name": "stdout",
     "output_type": "stream",
     "text": [
      "Word number: 23147\n"
     ]
    },
    {
     "data": {
      "image/png": "[encoded data removed]",
      "text/plain": [
       "<Figure size 1440x360 with 1 Axes>"
      ]
     },
     "metadata": {
      "needs_background": "light"
     },
     "output_type": "display_data"
    }
   ],
   "source": [
    "# function to plot most frequent terms\n",
    "def freq_words(x, terms = 30):\n",
    "    all_words = ' '.join(['%s' %text for text in x])\n",
    "    all_words = all_words.split()\n",
    "    \n",
    "    fdist = FreqDist(all_words)\n",
    "    words_df = pd.DataFrame({'word':list(fdist.keys()), 'count':list(fdist.values())})\n",
    "    \n",
    "    # selecting top 20 most frequent words\n",
    "    d = words_df.nlargest(columns=\"count\", n = terms) \n",
    "    plt.figure(figsize=(20,5))\n",
    "    ax = sns.barplot(data=d, x= \"word\", y = \"count\")\n",
    "    ax.set(ylabel = 'Count')\n",
    "    plt.show()\n",
    "\n",
    "print('Word number: %d'% (len(df[col])))\n",
    "freq_words(df[2],10) "
   ]
  },
  {
   "cell_type": "code",
   "execution_count": 10,
   "metadata": {},
   "outputs": [
    {
     "name": "stderr",
     "output_type": "stream",
     "text": [
      "<ipython-input-10-03fde7e31d6c>:4: SettingWithCopyWarning: \n",
      "A value is trying to be set on a copy of a slice from a DataFrame\n",
      "\n",
      "See the caveats in the documentation: https://pandas.pydata.org/pandas-docs/stable/user_guide/indexing.html#returning-a-view-versus-a-copy\n",
      "  df[col][i] = df[col][i].lower()\n",
      "<ipython-input-10-03fde7e31d6c>:5: SettingWithCopyWarning: \n",
      "A value is trying to be set on a copy of a slice from a DataFrame\n",
      "\n",
      "See the caveats in the documentation: https://pandas.pydata.org/pandas-docs/stable/user_guide/indexing.html#returning-a-view-versus-a-copy\n",
      "  df[col][i] = tokenizer.tokenize(df[col][i])\n"
     ]
    },
    {
     "name": "stdout",
     "output_type": "stream",
     "text": [
      "Tokens number: 19326\n"
     ]
    },
    {
     "data": {
      "image/png": "[encoded data removed]",
      "text/plain": [
       "<Figure size 1440x360 with 1 Axes>"
      ]
     },
     "metadata": {
      "needs_background": "light"
     },
     "output_type": "display_data"
    }
   ],
   "source": [
    "#Tokenize the corpus \n",
    "tokenizer = RegexpTokenizer(r'\\w+')\n",
    "for i in range (len(df)):\n",
    "    df[col][i] = df[col][i].lower()\n",
    "    df[col][i] = tokenizer.tokenize(df[col][i])\n",
    "\n",
    "print('Tokens number: %d'% (len(Dictionary(df[col]))))\n",
    "freq_words(df[col],10) "
   ]
  },
  {
   "cell_type": "code",
   "execution_count": 11,
   "metadata": {},
   "outputs": [
    {
     "name": "stdout",
     "output_type": "stream",
     "text": [
      "Tokens number after removing number: 19133\n"
     ]
    },
    {
     "data": {
      "image/png": "[encoded data removed]",
      "text/plain": [
       "<Figure size 1440x360 with 1 Axes>"
      ]
     },
     "metadata": {
      "needs_background": "light"
     },
     "output_type": "display_data"
    }
   ],
   "source": [
    "#Remove the number\n",
    "df[col] = [ [token for token in doc if not token.isnumeric()] for doc in df[col]]\n",
    "\n",
    "print('Tokens number after removing number: %d'% (len(Dictionary(df[col]))))\n",
    "freq_words(df[col],10) "
   ]
  },
  {
   "cell_type": "code",
   "execution_count": 12,
   "metadata": {},
   "outputs": [
    {
     "name": "stdout",
     "output_type": "stream",
     "text": [
      "Tokens number after removing stop words: 18997\n"
     ]
    },
    {
     "data": {
      "image/png": "[encoded data removed]",
      "text/plain": [
       "<Figure size 1440x360 with 1 Axes>"
      ]
     },
     "metadata": {
      "needs_background": "light"
     },
     "output_type": "display_data"
    }
   ],
   "source": [
    "#Reomve stop words\n",
    "stop_words = stopwords.words('english')\n",
    "df[col] = [ [token for token in doc if not token in stop_words] for doc in df[col] ]\n",
    "print('Tokens number after removing stop words: %d'% (len(Dictionary(df[col]))))\n",
    "freq_words(df[col],10) "
   ]
  },
  {
   "cell_type": "code",
   "execution_count": 13,
   "metadata": {},
   "outputs": [
    {
     "name": "stdout",
     "output_type": "stream",
     "text": [
      "Tokens number after removing short words: 18261\n"
     ]
    },
    {
     "data": {
      "image/png": "[encoded data removed]",
      "text/plain": [
       "<Figure size 1440x360 with 1 Axes>"
      ]
     },
     "metadata": {
      "needs_background": "light"
     },
     "output_type": "display_data"
    }
   ],
   "source": [
    "#Remove short words (length< min_len)\n",
    "df[col] = [ [token for token in doc if not len(token) < min_len] for doc in df[col] ]\n",
    "print('Tokens number after removing short words: %d'% (len(Dictionary(df[col]))))\n",
    "freq_words(df[col],10) "
   ]
  },
  {
   "cell_type": "code",
   "execution_count": 15,
   "metadata": {},
   "outputs": [
    {
     "name": "stdout",
     "output_type": "stream",
     "text": [
      "Tokens number after lemmation: 13865\n"
     ]
    },
    {
     "data": {
      "image/png": "[encoded data removed]",
      "text/plain": [
       "<Figure size 1440x360 with 1 Axes>"
      ]
     },
     "metadata": {
      "needs_background": "light"
     },
     "output_type": "display_data"
    }
   ],
   "source": [
    "# Corpus Lemmation\n",
    "df[col] = [ [lemma(token) for token in doc ] for doc in df[col] ]\n",
    "\n",
    "print('Tokens number after lemmation: %d'% (len(Dictionary(df[col]))))\n",
    "freq_words(df[col],10) "
   ]
  },
  {
   "cell_type": "code",
   "execution_count": 16,
   "metadata": {},
   "outputs": [
    {
     "name": "stdout",
     "output_type": "stream",
     "text": [
      "Tokens number after adding bigram: 14790\n"
     ]
    },
    {
     "data": {
      "image/png": "[encoded data removed]",
      "text/plain": [
       "<Figure size 1440x360 with 1 Axes>"
      ]
     },
     "metadata": {
      "needs_background": "light"
     },
     "output_type": "display_data"
    }
   ],
   "source": [
    "# Make bigram\n",
    "bigrams_phases = Phrases(df[col], min_count = 10)\n",
    "for i in range(len(df[col])):\n",
    "    for token in bigrams_phases[df[col][i]]:\n",
    "        if '_' in token:\n",
    "            df[col][i].append(token)            \n",
    "\n",
    "print('Tokens number after adding bigram: %d'% (len(Dictionary(df[col]))))\n",
    "freq_words(df[col],10) "
   ]
  },
  {
   "cell_type": "markdown",
   "metadata": {},
   "source": [
    "## 1.5 The LDA Model Building"
   ]
  },
  {
   "cell_type": "code",
   "execution_count": 17,
   "metadata": {},
   "outputs": [
    {
     "name": "stdout",
     "output_type": "stream",
     "text": [
      "Tokens number after creating dictionary: 14790\n"
     ]
    }
   ],
   "source": [
    "# Build a dictionary\n",
    "LOdict = Dictionary(df[col])\n",
    "\n",
    "print('Tokens number after creating dictionary: %d'% (len(LOdict)))"
   ]
  },
  {
   "cell_type": "code",
   "execution_count": 18,
   "metadata": {},
   "outputs": [
    {
     "name": "stdout",
     "output_type": "stream",
     "text": [
      "Tokens number after tf-idf: 8878\n"
     ]
    }
   ],
   "source": [
    "#Remove  words occur less than no_below documents and more then no_above/documents\n",
    "LOdict.filter_extremes(no_below = no_below, no_above = no_above)\n",
    "\n",
    "print('Tokens number after tf-idf: %d'% (len(LOdict)))"
   ]
  },
  {
   "cell_type": "code",
   "execution_count": 19,
   "metadata": {},
   "outputs": [],
   "source": [
    "# Create bag of word for corpus\n",
    "LOcorpus = [LOdict.doc2bow(doc) for doc in df[col]]"
   ]
  },
  {
   "cell_type": "code",
   "execution_count": 23,
   "metadata": {},
   "outputs": [],
   "source": [
    "#Mapping from word IDs to words. It is used to determine the vocabulary size, as well as for debugging and topic printing.\n",
    "id2word = LOdict "
   ]
  },
  {
   "cell_type": "code",
   "execution_count": 27,
   "metadata": {},
   "outputs": [],
   "source": [
    "# Buila a LDA model for LONDON OLYPLMICS\n",
    "LOldamodel = LdaModel(\n",
    "    corpus = LOcorpus,\n",
    "    id2word = id2word,\n",
    "    chunksize = chunksize,\n",
    "    alpha = alpha,\n",
    "    eta = eta,\n",
    "    iterations = iterations,\n",
    "    num_topics = num_topics,\n",
    "    passes = num_passes,\n",
    "    eval_every = eval_every,\n",
    "    random_state = random_state\n",
    ")"
   ]
  },
  {
   "cell_type": "code",
   "execution_count": 28,
   "metadata": {},
   "outputs": [
    {
     "name": "stdout",
     "output_type": "stream",
     "text": [
      "Cohernece Score c_v:  0.5481137898396572  when topics number:  30\n"
     ]
    }
   ],
   "source": [
    "#Compute Coherence Score\n",
    "coherence_model_lda = CoherenceModel(model = LOldamodel, texts = df[col], dictionary = LOdict, coherence='c_v')\n",
    "coherence_lda = coherence_model_lda.get_coherence()\n",
    "print('Cohernece Score c_v: ', coherence_lda, ' when topics number: ', num_topics)"
   ]
  },
  {
   "cell_type": "markdown",
   "metadata": {},
   "source": [
    "## 1.6 Corpus Classification"
   ]
  },
  {
   "cell_type": "code",
   "execution_count": 29,
   "metadata": {},
   "outputs": [],
   "source": [
    "#Make a classifier to classify each paragraph of London Olympics Corpus\n",
    "classifer = list()\n",
    "for d in df[col]:\n",
    "    bow = LOdict.doc2bow(d)\n",
    "    belong = LOldamodel.get_document_topics(bow,per_word_topics=False)\n",
    "    classifer.append(belong)\n",
    "    \n",
    "classiferdf = pd.DataFrame(classifer)"
   ]
  },
  {
   "cell_type": "code",
   "execution_count": 30,
   "metadata": {},
   "outputs": [],
   "source": [
    "#Transform London Olympics Corpus to Dataframe\n",
    "LOdf = pd.DataFrame(df[col])"
   ]
  },
  {
   "cell_type": "code",
   "execution_count": 32,
   "metadata": {},
   "outputs": [],
   "source": [
    "#Make the Dataframe of the biggest distribution of each paragraph\n",
    "MTopics =  list()\n",
    "for i in LOldamodel.get_document_topics(LOcorpus)[:]:\n",
    "    listj=[]\n",
    "    for j in i:\n",
    "        listj.append(j[1])\n",
    "    bz=listj.index(max(listj))\n",
    "    #print(i[bz][0],i,listj,listj.index(max(listj)))\n",
    "    #print(i[bz][0])\n",
    "    MTopics.append(bz)\n",
    "\n",
    "MTopics = pd.DataFrame(MTopics)"
   ]
  },
  {
   "cell_type": "code",
   "execution_count": 33,
   "metadata": {},
   "outputs": [
    {
     "data": {
      "text/html": [
       "<div>\n",
       "<style scoped>\n",
       "    .dataframe tbody tr th:only-of-type {\n",
       "        vertical-align: middle;\n",
       "    }\n",
       "\n",
       "    .dataframe tbody tr th {\n",
       "        vertical-align: top;\n",
       "    }\n",
       "\n",
       "    .dataframe thead th {\n",
       "        text-align: right;\n",
       "    }\n",
       "</style>\n",
       "<table border=\"1\" class=\"dataframe\">\n",
       "  <thead>\n",
       "    <tr style=\"text-align: right;\">\n",
       "      <th></th>\n",
       "      <th>2</th>\n",
       "      <th>0</th>\n",
       "      <th>0</th>\n",
       "      <th>1</th>\n",
       "      <th>2</th>\n",
       "      <th>3</th>\n",
       "      <th>4</th>\n",
       "      <th>5</th>\n",
       "      <th>6</th>\n",
       "      <th>7</th>\n",
       "      <th>...</th>\n",
       "      <th>20</th>\n",
       "      <th>21</th>\n",
       "      <th>22</th>\n",
       "      <th>23</th>\n",
       "      <th>24</th>\n",
       "      <th>25</th>\n",
       "      <th>26</th>\n",
       "      <th>27</th>\n",
       "      <th>28</th>\n",
       "      <th>29</th>\n",
       "    </tr>\n",
       "  </thead>\n",
       "  <tbody>\n",
       "    <tr>\n",
       "      <th>0</th>\n",
       "      <td>[examination, witness, examination_witness]</td>\n",
       "      <td>6</td>\n",
       "      <td>(0, 0.03144736)</td>\n",
       "      <td>(1, 0.05030356)</td>\n",
       "      <td>(2, 0.03144736)</td>\n",
       "      <td>(3, 0.03144736)</td>\n",
       "      <td>(4, 0.03144736)</td>\n",
       "      <td>(5, 0.03144736)</td>\n",
       "      <td>(6, 0.051335342)</td>\n",
       "      <td>(7, 0.03144736)</td>\n",
       "      <td>...</td>\n",
       "      <td>(20, 0.03144736)</td>\n",
       "      <td>(21, 0.03144736)</td>\n",
       "      <td>(22, 0.03144736)</td>\n",
       "      <td>(23, 0.03144736)</td>\n",
       "      <td>(24, 0.03144736)</td>\n",
       "      <td>(25, 0.03144736)</td>\n",
       "      <td>(26, 0.03144736)</td>\n",
       "      <td>(27, 0.03144736)</td>\n",
       "      <td>(28, 0.03144736)</td>\n",
       "      <td>(29, 0.03144736)</td>\n",
       "    </tr>\n",
       "    <tr>\n",
       "      <th>1</th>\n",
       "      <td>[september]</td>\n",
       "      <td>11</td>\n",
       "      <td>(0, 0.03267994)</td>\n",
       "      <td>(1, 0.03267994)</td>\n",
       "      <td>(2, 0.03267994)</td>\n",
       "      <td>(3, 0.03267994)</td>\n",
       "      <td>(4, 0.03267994)</td>\n",
       "      <td>(5, 0.03267994)</td>\n",
       "      <td>(6, 0.03267994)</td>\n",
       "      <td>(7, 0.03267994)</td>\n",
       "      <td>...</td>\n",
       "      <td>(20, 0.03267994)</td>\n",
       "      <td>(21, 0.03267994)</td>\n",
       "      <td>(22, 0.03267994)</td>\n",
       "      <td>(23, 0.03267994)</td>\n",
       "      <td>(24, 0.03267994)</td>\n",
       "      <td>(25, 0.03267994)</td>\n",
       "      <td>(26, 0.03267994)</td>\n",
       "      <td>(27, 0.03267994)</td>\n",
       "      <td>(28, 0.03267994)</td>\n",
       "      <td>(29, 0.03267994)</td>\n",
       "    </tr>\n",
       "    <tr>\n",
       "      <th>2</th>\n",
       "      <td>[barbara, cassani]</td>\n",
       "      <td>0</td>\n",
       "      <td>(0, 0.03333333)</td>\n",
       "      <td>(1, 0.03333333)</td>\n",
       "      <td>(2, 0.03333333)</td>\n",
       "      <td>(3, 0.03333333)</td>\n",
       "      <td>(4, 0.03333333)</td>\n",
       "      <td>(5, 0.03333333)</td>\n",
       "      <td>(6, 0.03333333)</td>\n",
       "      <td>(7, 0.03333333)</td>\n",
       "      <td>...</td>\n",
       "      <td>(20, 0.03333333)</td>\n",
       "      <td>(21, 0.03333333)</td>\n",
       "      <td>(22, 0.03333333)</td>\n",
       "      <td>(23, 0.03333333)</td>\n",
       "      <td>(24, 0.03333333)</td>\n",
       "      <td>(25, 0.03333333)</td>\n",
       "      <td>(26, 0.03333333)</td>\n",
       "      <td>(27, 0.03333333)</td>\n",
       "      <td>(28, 0.03333333)</td>\n",
       "      <td>(29, 0.03333333)</td>\n",
       "    </tr>\n",
       "    <tr>\n",
       "      <th>3</th>\n",
       "      <td>[chairman, good, morn, cassani, much, like, we...</td>\n",
       "      <td>15</td>\n",
       "      <td>(0, 0.02892671)</td>\n",
       "      <td>(1, 0.016470017)</td>\n",
       "      <td>(2, 0.025957586)</td>\n",
       "      <td>(3, 0.016131362)</td>\n",
       "      <td>(4, 0.016122583)</td>\n",
       "      <td>(5, 0.016051013)</td>\n",
       "      <td>(6, 0.026361212)</td>\n",
       "      <td>(7, 0.01741114)</td>\n",
       "      <td>...</td>\n",
       "      <td>(20, 0.027490297)</td>\n",
       "      <td>(21, 0.06049833)</td>\n",
       "      <td>(22, 0.01643801)</td>\n",
       "      <td>(23, 0.08772428)</td>\n",
       "      <td>(24, 0.016028522)</td>\n",
       "      <td>(25, 0.0514411)</td>\n",
       "      <td>(26, 0.045061406)</td>\n",
       "      <td>(27, 0.016895404)</td>\n",
       "      <td>(28, 0.030272424)</td>\n",
       "      <td>(29, 0.03144338)</td>\n",
       "    </tr>\n",
       "    <tr>\n",
       "      <th>4</th>\n",
       "      <td>[cassani, thank, much, thank, much, give, oppo...</td>\n",
       "      <td>18</td>\n",
       "      <td>(0, 0.052923836)</td>\n",
       "      <td>(1, 0.039239354)</td>\n",
       "      <td>(2, 0.019088844)</td>\n",
       "      <td>(3, 0.010316154)</td>\n",
       "      <td>(4, 0.011147156)</td>\n",
       "      <td>(5, 0.023731511)</td>\n",
       "      <td>(6, 0.024956582)</td>\n",
       "      <td>(7, 0.016358465)</td>\n",
       "      <td>...</td>\n",
       "      <td>(26, 0.0121401865)</td>\n",
       "      <td>(27, 0.032023206)</td>\n",
       "      <td>(28, 0.015345826)</td>\n",
       "      <td>(29, 0.05630026)</td>\n",
       "      <td>None</td>\n",
       "      <td>None</td>\n",
       "      <td>None</td>\n",
       "      <td>None</td>\n",
       "      <td>None</td>\n",
       "      <td>None</td>\n",
       "    </tr>\n",
       "    <tr>\n",
       "      <th>...</th>\n",
       "      <td>...</td>\n",
       "      <td>...</td>\n",
       "      <td>...</td>\n",
       "      <td>...</td>\n",
       "      <td>...</td>\n",
       "      <td>...</td>\n",
       "      <td>...</td>\n",
       "      <td>...</td>\n",
       "      <td>...</td>\n",
       "      <td>...</td>\n",
       "      <td>...</td>\n",
       "      <td>...</td>\n",
       "      <td>...</td>\n",
       "      <td>...</td>\n",
       "      <td>...</td>\n",
       "      <td>...</td>\n",
       "      <td>...</td>\n",
       "      <td>...</td>\n",
       "      <td>...</td>\n",
       "      <td>...</td>\n",
       "      <td>...</td>\n",
       "    </tr>\n",
       "    <tr>\n",
       "      <th>23142</th>\n",
       "      <td>[advertise, strong, likelihood, visit, within,...</td>\n",
       "      <td>13</td>\n",
       "      <td>(0, 0.023812175)</td>\n",
       "      <td>(1, 0.036658715)</td>\n",
       "      <td>(2, 0.03049826)</td>\n",
       "      <td>(3, 0.038153674)</td>\n",
       "      <td>(4, 0.024416285)</td>\n",
       "      <td>(5, 0.023812171)</td>\n",
       "      <td>(6, 0.024103114)</td>\n",
       "      <td>(7, 0.023815246)</td>\n",
       "      <td>...</td>\n",
       "      <td>(20, 0.023812171)</td>\n",
       "      <td>(21, 0.023812171)</td>\n",
       "      <td>(22, 0.023812171)</td>\n",
       "      <td>(23, 0.02429653)</td>\n",
       "      <td>(24, 0.046861704)</td>\n",
       "      <td>(25, 0.038072348)</td>\n",
       "      <td>(26, 0.03030961)</td>\n",
       "      <td>(27, 0.038083035)</td>\n",
       "      <td>(28, 0.028121011)</td>\n",
       "      <td>(29, 0.07894541)</td>\n",
       "    </tr>\n",
       "    <tr>\n",
       "      <th>23143</th>\n",
       "      <td>[jonathan, stephen, permanent, secretary, jona...</td>\n",
       "      <td>19</td>\n",
       "      <td>(0, 0.03086448)</td>\n",
       "      <td>(1, 0.03086448)</td>\n",
       "      <td>(2, 0.03086448)</td>\n",
       "      <td>(3, 0.03086448)</td>\n",
       "      <td>(4, 0.03086448)</td>\n",
       "      <td>(5, 0.03086448)</td>\n",
       "      <td>(6, 0.03086448)</td>\n",
       "      <td>(7, 0.03086448)</td>\n",
       "      <td>...</td>\n",
       "      <td>(20, 0.03086448)</td>\n",
       "      <td>(21, 0.03086448)</td>\n",
       "      <td>(22, 0.03086448)</td>\n",
       "      <td>(23, 0.03086448)</td>\n",
       "      <td>(24, 0.03086448)</td>\n",
       "      <td>(25, 0.03086448)</td>\n",
       "      <td>(26, 0.03086448)</td>\n",
       "      <td>(27, 0.03086448)</td>\n",
       "      <td>(28, 0.035281345)</td>\n",
       "      <td>(29, 0.03086448)</td>\n",
       "    </tr>\n",
       "    <tr>\n",
       "      <th>23144</th>\n",
       "      <td>[december]</td>\n",
       "      <td>12</td>\n",
       "      <td>(0, 0.032679778)</td>\n",
       "      <td>(1, 0.032679778)</td>\n",
       "      <td>(2, 0.032679778)</td>\n",
       "      <td>(3, 0.032679778)</td>\n",
       "      <td>(4, 0.032679778)</td>\n",
       "      <td>(5, 0.032679778)</td>\n",
       "      <td>(6, 0.032679778)</td>\n",
       "      <td>(7, 0.032679778)</td>\n",
       "      <td>...</td>\n",
       "      <td>(20, 0.032679778)</td>\n",
       "      <td>(21, 0.032679778)</td>\n",
       "      <td>(22, 0.032679778)</td>\n",
       "      <td>(23, 0.032679778)</td>\n",
       "      <td>(24, 0.032679778)</td>\n",
       "      <td>(25, 0.032679778)</td>\n",
       "      <td>(26, 0.032679778)</td>\n",
       "      <td>(27, 0.032679778)</td>\n",
       "      <td>(28, 0.032679778)</td>\n",
       "      <td>(29, 0.032679778)</td>\n",
       "    </tr>\n",
       "    <tr>\n",
       "      <th>23145</th>\n",
       "      <td>[pefc]</td>\n",
       "      <td>0</td>\n",
       "      <td>(0, 0.03333333)</td>\n",
       "      <td>(1, 0.03333333)</td>\n",
       "      <td>(2, 0.03333333)</td>\n",
       "      <td>(3, 0.03333333)</td>\n",
       "      <td>(4, 0.03333333)</td>\n",
       "      <td>(5, 0.03333333)</td>\n",
       "      <td>(6, 0.03333333)</td>\n",
       "      <td>(7, 0.03333333)</td>\n",
       "      <td>...</td>\n",
       "      <td>(20, 0.03333333)</td>\n",
       "      <td>(21, 0.03333333)</td>\n",
       "      <td>(22, 0.03333333)</td>\n",
       "      <td>(23, 0.03333333)</td>\n",
       "      <td>(24, 0.03333333)</td>\n",
       "      <td>(25, 0.03333333)</td>\n",
       "      <td>(26, 0.03333333)</td>\n",
       "      <td>(27, 0.03333333)</td>\n",
       "      <td>(28, 0.03333333)</td>\n",
       "      <td>(29, 0.03333333)</td>\n",
       "    </tr>\n",
       "    <tr>\n",
       "      <th>23146</th>\n",
       "      <td>[print, unite, kingdom, stationery, ofce, limi...</td>\n",
       "      <td>0</td>\n",
       "      <td>(0, 0.08640425)</td>\n",
       "      <td>(1, 0.030864876)</td>\n",
       "      <td>(2, 0.030864876)</td>\n",
       "      <td>(3, 0.030864876)</td>\n",
       "      <td>(4, 0.04933092)</td>\n",
       "      <td>(5, 0.030864876)</td>\n",
       "      <td>(6, 0.030864876)</td>\n",
       "      <td>(7, 0.030864876)</td>\n",
       "      <td>...</td>\n",
       "      <td>(20, 0.030864876)</td>\n",
       "      <td>(21, 0.030864876)</td>\n",
       "      <td>(22, 0.030864876)</td>\n",
       "      <td>(23, 0.030864876)</td>\n",
       "      <td>(24, 0.030864876)</td>\n",
       "      <td>(25, 0.030864876)</td>\n",
       "      <td>(26, 0.030864876)</td>\n",
       "      <td>(27, 0.030864876)</td>\n",
       "      <td>(28, 0.030864876)</td>\n",
       "      <td>(29, 0.030864876)</td>\n",
       "    </tr>\n",
       "  </tbody>\n",
       "</table>\n",
       "<p>23147 rows × 32 columns</p>\n",
       "</div>"
      ],
      "text/plain": [
       "                                                      2   0   \\\n",
       "0            [examination, witness, examination_witness]   6   \n",
       "1                                            [september]  11   \n",
       "2                                     [barbara, cassani]   0   \n",
       "3      [chairman, good, morn, cassani, much, like, we...  15   \n",
       "4      [cassani, thank, much, thank, much, give, oppo...  18   \n",
       "...                                                  ...  ..   \n",
       "23142  [advertise, strong, likelihood, visit, within,...  13   \n",
       "23143  [jonathan, stephen, permanent, secretary, jona...  19   \n",
       "23144                                         [december]  12   \n",
       "23145                                             [pefc]   0   \n",
       "23146  [print, unite, kingdom, stationery, ofce, limi...   0   \n",
       "\n",
       "                     0                 1                 2                 3   \\\n",
       "0       (0, 0.03144736)   (1, 0.05030356)   (2, 0.03144736)   (3, 0.03144736)   \n",
       "1       (0, 0.03267994)   (1, 0.03267994)   (2, 0.03267994)   (3, 0.03267994)   \n",
       "2       (0, 0.03333333)   (1, 0.03333333)   (2, 0.03333333)   (3, 0.03333333)   \n",
       "3       (0, 0.02892671)  (1, 0.016470017)  (2, 0.025957586)  (3, 0.016131362)   \n",
       "4      (0, 0.052923836)  (1, 0.039239354)  (2, 0.019088844)  (3, 0.010316154)   \n",
       "...                 ...               ...               ...               ...   \n",
       "23142  (0, 0.023812175)  (1, 0.036658715)   (2, 0.03049826)  (3, 0.038153674)   \n",
       "23143   (0, 0.03086448)   (1, 0.03086448)   (2, 0.03086448)   (3, 0.03086448)   \n",
       "23144  (0, 0.032679778)  (1, 0.032679778)  (2, 0.032679778)  (3, 0.032679778)   \n",
       "23145   (0, 0.03333333)   (1, 0.03333333)   (2, 0.03333333)   (3, 0.03333333)   \n",
       "23146   (0, 0.08640425)  (1, 0.030864876)  (2, 0.030864876)  (3, 0.030864876)   \n",
       "\n",
       "                     4                 5                 6                 7   \\\n",
       "0       (4, 0.03144736)   (5, 0.03144736)  (6, 0.051335342)   (7, 0.03144736)   \n",
       "1       (4, 0.03267994)   (5, 0.03267994)   (6, 0.03267994)   (7, 0.03267994)   \n",
       "2       (4, 0.03333333)   (5, 0.03333333)   (6, 0.03333333)   (7, 0.03333333)   \n",
       "3      (4, 0.016122583)  (5, 0.016051013)  (6, 0.026361212)   (7, 0.01741114)   \n",
       "4      (4, 0.011147156)  (5, 0.023731511)  (6, 0.024956582)  (7, 0.016358465)   \n",
       "...                 ...               ...               ...               ...   \n",
       "23142  (4, 0.024416285)  (5, 0.023812171)  (6, 0.024103114)  (7, 0.023815246)   \n",
       "23143   (4, 0.03086448)   (5, 0.03086448)   (6, 0.03086448)   (7, 0.03086448)   \n",
       "23144  (4, 0.032679778)  (5, 0.032679778)  (6, 0.032679778)  (7, 0.032679778)   \n",
       "23145   (4, 0.03333333)   (5, 0.03333333)   (6, 0.03333333)   (7, 0.03333333)   \n",
       "23146   (4, 0.04933092)  (5, 0.030864876)  (6, 0.030864876)  (7, 0.030864876)   \n",
       "\n",
       "       ...                  20                 21                 22  \\\n",
       "0      ...    (20, 0.03144736)   (21, 0.03144736)   (22, 0.03144736)   \n",
       "1      ...    (20, 0.03267994)   (21, 0.03267994)   (22, 0.03267994)   \n",
       "2      ...    (20, 0.03333333)   (21, 0.03333333)   (22, 0.03333333)   \n",
       "3      ...   (20, 0.027490297)   (21, 0.06049833)   (22, 0.01643801)   \n",
       "4      ...  (26, 0.0121401865)  (27, 0.032023206)  (28, 0.015345826)   \n",
       "...    ...                 ...                ...                ...   \n",
       "23142  ...   (20, 0.023812171)  (21, 0.023812171)  (22, 0.023812171)   \n",
       "23143  ...    (20, 0.03086448)   (21, 0.03086448)   (22, 0.03086448)   \n",
       "23144  ...   (20, 0.032679778)  (21, 0.032679778)  (22, 0.032679778)   \n",
       "23145  ...    (20, 0.03333333)   (21, 0.03333333)   (22, 0.03333333)   \n",
       "23146  ...   (20, 0.030864876)  (21, 0.030864876)  (22, 0.030864876)   \n",
       "\n",
       "                      23                 24                 25  \\\n",
       "0       (23, 0.03144736)   (24, 0.03144736)   (25, 0.03144736)   \n",
       "1       (23, 0.03267994)   (24, 0.03267994)   (25, 0.03267994)   \n",
       "2       (23, 0.03333333)   (24, 0.03333333)   (25, 0.03333333)   \n",
       "3       (23, 0.08772428)  (24, 0.016028522)    (25, 0.0514411)   \n",
       "4       (29, 0.05630026)               None               None   \n",
       "...                  ...                ...                ...   \n",
       "23142   (23, 0.02429653)  (24, 0.046861704)  (25, 0.038072348)   \n",
       "23143   (23, 0.03086448)   (24, 0.03086448)   (25, 0.03086448)   \n",
       "23144  (23, 0.032679778)  (24, 0.032679778)  (25, 0.032679778)   \n",
       "23145   (23, 0.03333333)   (24, 0.03333333)   (25, 0.03333333)   \n",
       "23146  (23, 0.030864876)  (24, 0.030864876)  (25, 0.030864876)   \n",
       "\n",
       "                      26                 27                 28  \\\n",
       "0       (26, 0.03144736)   (27, 0.03144736)   (28, 0.03144736)   \n",
       "1       (26, 0.03267994)   (27, 0.03267994)   (28, 0.03267994)   \n",
       "2       (26, 0.03333333)   (27, 0.03333333)   (28, 0.03333333)   \n",
       "3      (26, 0.045061406)  (27, 0.016895404)  (28, 0.030272424)   \n",
       "4                   None               None               None   \n",
       "...                  ...                ...                ...   \n",
       "23142   (26, 0.03030961)  (27, 0.038083035)  (28, 0.028121011)   \n",
       "23143   (26, 0.03086448)   (27, 0.03086448)  (28, 0.035281345)   \n",
       "23144  (26, 0.032679778)  (27, 0.032679778)  (28, 0.032679778)   \n",
       "23145   (26, 0.03333333)   (27, 0.03333333)   (28, 0.03333333)   \n",
       "23146  (26, 0.030864876)  (27, 0.030864876)  (28, 0.030864876)   \n",
       "\n",
       "                      29  \n",
       "0       (29, 0.03144736)  \n",
       "1       (29, 0.03267994)  \n",
       "2       (29, 0.03333333)  \n",
       "3       (29, 0.03144338)  \n",
       "4                   None  \n",
       "...                  ...  \n",
       "23142   (29, 0.07894541)  \n",
       "23143   (29, 0.03086448)  \n",
       "23144  (29, 0.032679778)  \n",
       "23145   (29, 0.03333333)  \n",
       "23146  (29, 0.030864876)  \n",
       "\n",
       "[23147 rows x 32 columns]"
      ]
     },
     "execution_count": 33,
     "metadata": {},
     "output_type": "execute_result"
    }
   ],
   "source": [
    "#Integrate dataframe of orgrinal corpus, classifier, and the biggest distribution of each paragraph\n",
    "classifer_document = pd.concat([LOdf,MTopics,classiferdf],axis=1)\n",
    "classifer_document"
   ]
  },
  {
   "cell_type": "code",
   "execution_count": 35,
   "metadata": {},
   "outputs": [],
   "source": [
    "#Output final dataframe\n",
    "classifer_document.columns = [\"Corpus\",\"Biggest distribution topic\",\"T0%\",\"T1%\",\"T2%\",\"T3%\",\"T4%\",\"T5%\",\"T6%\",\"T7%\",\"T8%\",\"T9%\",\"T10%\",\n",
    "                             \"T11%\",\"T12%\",\"T13%\",\"T14%\",\"T15%\",\"T16%\",\"T17%\",\"T18%\",\"T19%\",\"T20%\",\n",
    "                             \"T21%\",\"T22%\",\"T23%\",\"T24%\",\"T25%\",\"T26%\",\"T27%\",\"T28%\",\"T29%\",]\n",
    "\n",
    "classifer_document.to_csv(path_or_buf = 'C:/Users/jason/Documents/Exeter University/business project/code/output/classifer.csv')"
   ]
  },
  {
   "cell_type": "code",
   "execution_count": 36,
   "metadata": {},
   "outputs": [],
   "source": [
    "#Output topics distribution of whole corpus\n",
    "topic_distribution = pd.DataFrame(LOldamodel.print_topics(num_topics = num_topics))\n",
    "topic_distribution.columns = [\"Topic index\",\"Topic Distribution\"]\n",
    "topic_distribution\n",
    "topic_distribution.to_csv(path_or_buf = 'C:/Users/jason/Documents/Exeter University/business project/code/output/topic distribution.csv',index=False)"
   ]
  }
 ],
 "metadata": {
  "kernelspec": {
   "display_name": "Python 3",
   "language": "python",
   "name": "python3"
  },
  "language_info": {
   "codemirror_mode": {
    "name": "ipython",
    "version": 3
   },
   "file_extension": ".py",
   "mimetype": "text/x-python",
   "name": "python",
   "nbconvert_exporter": "python",
   "pygments_lexer": "ipython3",
   "version": "3.8.3"
  }
 },
 "nbformat": 4,
 "nbformat_minor": 4
}
